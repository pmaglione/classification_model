{
 "cells": [
  {
   "cell_type": "code",
   "execution_count": 1,
   "metadata": {},
   "outputs": [],
   "source": [
    "import numpy as np\n",
    "from tqdm import tqdm\n",
    "import pandas as pd\n",
    "from helpers.mv_single_binary import majority_voting\n",
    "import helpers.algorithms_utils as alg_utils\n",
    "from helpers.truth_finder_single import truth_finder_single\n",
    "from helpers.truth_finder import expectation_maximization\n",
    "import helpers.dawid_skene as dawid_skene\n",
    "import multiprocessing\n",
    "import time\n",
    "import matplotlib.pyplot as plt\n"
   ]
  },
  {
   "cell_type": "code",
   "execution_count": null,
   "metadata": {},
   "outputs": [],
   "source": []
  },
  {
   "cell_type": "code",
   "execution_count": null,
   "metadata": {},
   "outputs": [],
   "source": []
  },
  {
   "cell_type": "code",
   "execution_count": null,
   "metadata": {},
   "outputs": [],
   "source": []
  },
  {
   "cell_type": "code",
   "execution_count": null,
   "metadata": {},
   "outputs": [],
   "source": []
  },
  {
   "cell_type": "code",
   "execution_count": null,
   "metadata": {},
   "outputs": [],
   "source": []
  },
  {
   "cell_type": "code",
   "execution_count": null,
   "metadata": {},
   "outputs": [],
   "source": []
  },
  {
   "cell_type": "code",
   "execution_count": 8,
   "metadata": {},
   "outputs": [
    {
     "ename": "TypeError",
     "evalue": "expectation_maximization() missing 2 required positional arguments: 'M' and 'Psi'",
     "output_type": "error",
     "traceback": [
      "\u001b[0;31m---------------------------------------------------------------------------\u001b[0m",
      "\u001b[0;31mTypeError\u001b[0m                                 Traceback (most recent call last)",
      "\u001b[0;32m<ipython-input-8-d131f3d78efb>\u001b[0m in \u001b[0;36m<module>\u001b[0;34m()\u001b[0m\n\u001b[0;32m----> 1\u001b[0;31m \u001b[0mcf\u001b[0m\u001b[0;34m(\u001b[0m\u001b[0malg_utils\u001b[0m\u001b[0;34m.\u001b[0m\u001b[0minput_adapter_single\u001b[0m\u001b[0;34m(\u001b[0m\u001b[0;34m{\u001b[0m\u001b[0;36m240\u001b[0m\u001b[0;34m:\u001b[0m \u001b[0;34m[\u001b[0m\u001b[0;36m0\u001b[0m\u001b[0;34m]\u001b[0m\u001b[0;34m,\u001b[0m \u001b[0;36m250\u001b[0m\u001b[0;34m:\u001b[0m \u001b[0;34m[\u001b[0m\u001b[0;36m0\u001b[0m\u001b[0;34m]\u001b[0m\u001b[0;34m,\u001b[0m \u001b[0;36m528\u001b[0m\u001b[0;34m:\u001b[0m \u001b[0;34m[\u001b[0m\u001b[0;36m0\u001b[0m\u001b[0;34m]\u001b[0m\u001b[0;34m}\u001b[0m\u001b[0;34m)\u001b[0m\u001b[0;34m)\u001b[0m\u001b[0;34m\u001b[0m\u001b[0m\n\u001b[0m",
      "\u001b[0;31mTypeError\u001b[0m: expectation_maximization() missing 2 required positional arguments: 'M' and 'Psi'"
     ]
    }
   ],
   "source": [
    "cf(alg_utils.input_adapter_single({240: [0], 250: [0], 528: [0]}))"
   ]
  },
  {
   "cell_type": "code",
   "execution_count": 193,
   "metadata": {},
   "outputs": [
    {
     "data": {
      "text/plain": [
       "([3.064248402684539e-07, 0.9999996935751597, 0.9999996935751597],\n",
       " [defaultdict(float, {1: 3.064248402684539e-07, 0: 0.9999996935751597}),\n",
       "  defaultdict(float, {})])"
      ]
     },
     "execution_count": 193,
     "metadata": {},
     "output_type": "execute_result"
    }
   ],
   "source": [
    "def em_adapter(votes):\n",
    "    N = len(votes[1].keys())\n",
    "    M = 2\n",
    "    Psi = alg_utils.input_adapter(votes)\n",
    "    return N, M, Psi\n",
    "adapter = em_adapter\n",
    "votes = {\n",
    "    0: {0: [1], 1: [0], 2: [0]},\n",
    "    1: {}\n",
    "}\n",
    "#N, M, Psi = adapter(votes)\n",
    "#print(adapter(votes))\n",
    "expectation_maximization(3, 2, alg_utils.input_adapter(votes))\n",
    "#print(p)"
   ]
  },
  {
   "cell_type": "code",
   "execution_count": null,
   "metadata": {},
   "outputs": [],
   "source": []
  },
  {
   "cell_type": "code",
   "execution_count": null,
   "metadata": {},
   "outputs": [],
   "source": []
  },
  {
   "cell_type": "code",
   "execution_count": 2,
   "metadata": {},
   "outputs": [
    {
     "data": {
      "text/plain": [
       "[[(0, 1), (1, 0), (2, 0)]]"
      ]
     },
     "execution_count": 2,
     "metadata": {},
     "output_type": "execute_result"
    }
   ],
   "source": [
    "v = {3: [1], 5: [0], 1: [0]}\n",
    "alg_utils.input_adapter_single(v)"
   ]
  },
  {
   "cell_type": "code",
   "execution_count": null,
   "metadata": {},
   "outputs": [],
   "source": []
  },
  {
   "cell_type": "code",
   "execution_count": null,
   "metadata": {},
   "outputs": [],
   "source": [
    "print(range(0, len(a), ))"
   ]
  },
  {
   "cell_type": "code",
   "execution_count": null,
   "metadata": {},
   "outputs": [],
   "source": []
  },
  {
   "cell_type": "code",
   "execution_count": null,
   "metadata": {},
   "outputs": [],
   "source": []
  },
  {
   "cell_type": "code",
   "execution_count": 35,
   "metadata": {},
   "outputs": [
    {
     "name": "stdout",
     "output_type": "stream",
     "text": [
      "{0: False, 1: True, 2: True}\n",
      "1\n",
      "2\n"
     ]
    }
   ],
   "source": [
    "v = {\n",
    "    0:{0: [1], 1: [1], 2: [1], 3:[1]},\n",
    "    1:{0: [1], 1: [1], 2: [1], 3:[0]},\n",
    "    2:{0: [1], 1: [0], 2: [0], 3:[0]}\n",
    "}\n",
    "#expectation_maximization(4, 2, alg_utils.input_adapter(v))\n",
    "cf = majority_voting\n",
    "ct = .9\n",
    "r = {i:(((1 - ct) <= cf(alg_utils.input_adapter_single(i_votes)) <= ct)) for i, i_votes in v.items()}\n",
    "print(r)\n",
    "f = [i for i, d in r.items() if d == True]\n",
    "for a in f:\n",
    "    print(a)"
   ]
  },
  {
   "cell_type": "code",
   "execution_count": 29,
   "metadata": {},
   "outputs": [
    {
     "data": {
      "text/plain": [
       "True"
      ]
     },
     "execution_count": 29,
     "metadata": {},
     "output_type": "execute_result"
    }
   ],
   "source": []
  },
  {
   "cell_type": "code",
   "execution_count": null,
   "metadata": {},
   "outputs": [],
   "source": []
  },
  {
   "cell_type": "code",
   "execution_count": null,
   "metadata": {},
   "outputs": [],
   "source": []
  },
  {
   "cell_type": "code",
   "execution_count": null,
   "metadata": {},
   "outputs": [],
   "source": []
  },
  {
   "cell_type": "code",
   "execution_count": 19,
   "metadata": {},
   "outputs": [
    {
     "name": "stdout",
     "output_type": "stream",
     "text": [
      "([0.75, 0.9980392156862745, 0.75], [defaultdict(<class 'float'>, {1: 0.996078431372549, 0: 0.0039215686274509725}), defaultdict(<class 'float'>, {1: 1.0}), defaultdict(<class 'float'>, {0: 1.0}), defaultdict(<class 'float'>, {1: 0.0039215686274509725, 0: 0.996078431372549})])\n"
     ]
    }
   ],
   "source": [
    "from helpers.truth_finder import expectation_maximization\n",
    "from helpers.dawid_skene import dawid_skene\n",
    "import helpers.algorithms_utils as alg_utils\n",
    "import numpy as np\n",
    "\n",
    "v = {\n",
    "    2:{0: [1], 1: [1], 2: [0]},\n",
    "    11:{0: [1], 1: [1], 2: [1]},\n",
    "    3:{0: [0], 1: [0], 2: [0]},\n",
    "    5:{0: [1], 1: [0], 2: [0]}\n",
    "}\n",
    "\n",
    "#ds = dawid_skene(v)\n",
    "votes = alg_utils.input_adapter(v)\n",
    "\n",
    "dong = expectation_maximization(3, 4, votes)\n",
    "\n",
    "#print(ds)\n",
    "#print(np.mean(dong[0]))\n",
    "print(dong)"
   ]
  },
  {
   "cell_type": "code",
   "execution_count": null,
   "metadata": {},
   "outputs": [],
   "source": []
  },
  {
   "cell_type": "code",
   "execution_count": 224,
   "metadata": {},
   "outputs": [
    {
     "name": "stdout",
     "output_type": "stream",
     "text": [
      "0.0016277011551087206\n"
     ]
    }
   ],
   "source": [
    "'''\n",
    "P(positive|evidence) = P(evidence|positive) P(positive) / P(evidence)\n",
    "= P(evidence|positive) P(positive) / P(evidence|positive) P(positive) + P(evidence|negative) P(negative)\n",
    "'''\n",
    "from helpers.truth_finder import expectation_maximization\n",
    "from scipy.stats import binom\n",
    "import math\n",
    "\n",
    "#acc = .66\n",
    "prior = .5\n",
    "\n",
    "a = 1\n",
    "b = 5\n",
    "\n",
    "v = {\n",
    "    0:{0: [1], 1: [1], 2: [0]},\n",
    "    1:{0: [1], 1: [1], 2: [1]},\n",
    "    2:{0: [0], 1: [0], 2: [0]},\n",
    "    3:{0: [1], 1: [0], 2: [0]}\n",
    "}\n",
    "\n",
    "accs, p = expectation_maximization(3, 4, alg_utils.input_adapter(v))\n",
    "\n",
    "acc = np.mean(accs)\n",
    "\n",
    "like_in = binom.pmf(a, a+b, acc)\n",
    "like_out = binom.pmf(b, a+b, acc)\n",
    "\n",
    "p_v_pos = math.pow(acc, a) * math.pow(1 - acc, b)\n",
    "p_v_neg = math.pow(acc, b) * math.pow(1 - acc, a)\n",
    "#print(like_in)\n",
    "#print(like_out)\n",
    "#print(p_v_pos)\n",
    "#print(p_v_neg)\n",
    "\n",
    "#print( ((p_v_pos * prior) / ((p_v_pos * prior) + (p_v_neg * (1 - prior)))) )\n",
    "print( ((like_in * prior) / ((like_in * prior) + (like_out * (1 - prior)))) )\n"
   ]
  },
  {
   "cell_type": "code",
   "execution_count": null,
   "metadata": {},
   "outputs": [],
   "source": []
  },
  {
   "cell_type": "code",
   "execution_count": null,
   "metadata": {},
   "outputs": [],
   "source": []
  },
  {
   "cell_type": "code",
   "execution_count": null,
   "metadata": {},
   "outputs": [],
   "source": []
  },
  {
   "cell_type": "code",
   "execution_count": 113,
   "metadata": {},
   "outputs": [
    {
     "data": {
      "text/html": [
       "<div>\n",
       "<style scoped>\n",
       "    .dataframe tbody tr th:only-of-type {\n",
       "        vertical-align: middle;\n",
       "    }\n",
       "\n",
       "    .dataframe tbody tr th {\n",
       "        vertical-align: top;\n",
       "    }\n",
       "\n",
       "    .dataframe thead th {\n",
       "        text-align: right;\n",
       "    }\n",
       "</style>\n",
       "<table border=\"1\" class=\"dataframe\">\n",
       "  <thead>\n",
       "    <tr style=\"text-align: right;\">\n",
       "      <th></th>\n",
       "      <th>Name</th>\n",
       "      <th>Threshold</th>\n",
       "      <th>Error rate lr=1</th>\n",
       "      <th>Error rate lr=5</th>\n",
       "    </tr>\n",
       "  </thead>\n",
       "  <tbody>\n",
       "    <tr>\n",
       "      <th>0</th>\n",
       "      <td>Brown&amp;Allison</td>\n",
       "      <td>0.5</td>\n",
       "      <td>0.155</td>\n",
       "      <td>0.454</td>\n",
       "    </tr>\n",
       "    <tr>\n",
       "      <th>1</th>\n",
       "      <td>MV Baseline</td>\n",
       "      <td>0.5</td>\n",
       "      <td>0.156</td>\n",
       "      <td>0.472</td>\n",
       "    </tr>\n",
       "    <tr>\n",
       "      <th>2</th>\n",
       "      <td>SmartStop MV</td>\n",
       "      <td>0.5</td>\n",
       "      <td>0.158</td>\n",
       "      <td>0.471</td>\n",
       "    </tr>\n",
       "    <tr>\n",
       "      <th>3</th>\n",
       "      <td>SmartStop MV</td>\n",
       "      <td>0.6</td>\n",
       "      <td>0.157</td>\n",
       "      <td>0.472</td>\n",
       "    </tr>\n",
       "    <tr>\n",
       "      <th>4</th>\n",
       "      <td>SmartStop MV</td>\n",
       "      <td>0.7</td>\n",
       "      <td>0.115</td>\n",
       "      <td>0.225</td>\n",
       "    </tr>\n",
       "    <tr>\n",
       "      <th>5</th>\n",
       "      <td>SmartStop MV</td>\n",
       "      <td>0.8</td>\n",
       "      <td>0.241</td>\n",
       "      <td>0.271</td>\n",
       "    </tr>\n",
       "    <tr>\n",
       "      <th>6</th>\n",
       "      <td>SmartStop MV</td>\n",
       "      <td>0.9</td>\n",
       "      <td>0.298</td>\n",
       "      <td>0.327</td>\n",
       "    </tr>\n",
       "  </tbody>\n",
       "</table>\n",
       "</div>"
      ],
      "text/plain": [
       "            Name  Threshold  Error rate lr=1  Error rate lr=5\n",
       "0  Brown&Allison        0.5            0.155            0.454\n",
       "1    MV Baseline        0.5            0.156            0.472\n",
       "2   SmartStop MV        0.5            0.158            0.471\n",
       "3   SmartStop MV        0.6            0.157            0.472\n",
       "4   SmartStop MV        0.7            0.115            0.225\n",
       "5   SmartStop MV        0.8            0.241            0.271\n",
       "6   SmartStop MV        0.9            0.298            0.327"
      ]
     },
     "execution_count": 113,
     "metadata": {},
     "output_type": "execute_result"
    }
   ],
   "source": [
    "import numpy as np\n",
    "print_table_columns = [\"Threshold\", \"Cost mean\",\"Cost Std\", \"TC mean\", \"TC std\", \"Loss mean\", \"Loss Std\", \"Recall mean\", \"Recall Std\", \"Precision mean\", \"Precision Std\"]\n",
    "smv_mix = pd.DataFrame({}, columns=print_table_columns)\n",
    "smv_mix[\"Loss lr=5\"] = []\n",
    "smv_mix[\"Name\"] = []\n",
    "\n",
    "smv_mix.loc[0] = [.5, \\\n",
    "             ba_lr1[\"Cost mean\"][0], ba_lr1[\"Cost Std\"][0], \\\n",
    "             ba_lr1[\"TC mean\"][0], ba_lr1[\"TC std\"][0], \\\n",
    "             ba_lr1[\"Loss mean\"][0], ba_lr1[\"Loss Std\"][0], \\\n",
    "             ba_lr1[\"Recall mean\"][0], ba_lr1[\"Recall Std\"][0],\\\n",
    "             ba_lr1[\"Precision mean\"][0], ba_lr1[\"Precision Std\"][0], \\\n",
    "             ba_lr5[\"Loss mean\"][0], \"Brown&Allison\"]\n",
    "\n",
    "smv_mix.loc[1] = [.5, \\\n",
    "             mv_base_lr1[\"Cost mean\"][0], mv_base_lr1[\"Cost Std\"][0], \\\n",
    "             mv_base_lr1[\"TC mean\"][0], mv_base_lr1[\"TC std\"][0], \\\n",
    "             mv_base_lr1[\"Loss mean\"][0], mv_base_lr5[\"Loss Std\"][0], \\\n",
    "             mv_base_lr1[\"Recall mean\"][0], mv_base_lr1[\"Recall Std\"][0],\\\n",
    "             mv_base_lr1[\"Precision mean\"][0], mv_base_lr1[\"Precision Std\"][0], \\\n",
    "             mv_base_lr5[\"Loss mean\"][0], \"MV Baseline\"]\n",
    "\n",
    "smv_lr1 = pd.read_csv('./results/it50_d50_b5_lr1/smart_stop_mv_not_expert_it50_d50_b5_cr05.csv')\n",
    "smv_lr5 = pd.read_csv('./results/it50_d50_b5_lr5/smart_stop_mv_not_expert_it50_d50_b5_cr05.csv')\n",
    "\n",
    "idx = 2\n",
    "for key in range(5):\n",
    "    smv_mix.loc[idx] = [np.mean([smv_lr1[\"Threshold\"][key], smv_lr5[\"Threshold\"][key]]), \\\n",
    "             np.mean([smv_lr1[\"Cost mean\"][key], smv_lr5[\"Cost mean\"][key]]), \\\n",
    "             np.mean([smv_lr1[\"Cost Std\"][key], smv_lr5[\"Cost Std\"][key]]), \\\n",
    "             np.mean([smv_lr1[\"TC mean\"][key], smv_lr5[\"TC mean\"][key]]), \\\n",
    "             np.mean([smv_lr1[\"TC std\"][key], smv_lr5[\"TC std\"][key]]), \\\n",
    "             smv_lr1[\"Loss mean\"][key], \\\n",
    "             np.mean([smv_lr1[\"Loss Std\"][key], smv_lr5[\"Loss Std\"][key]]), \\\n",
    "             np.mean([smv_lr1[\"Recall mean\"][key], smv_lr5[\"Recall mean\"][key]]), \\\n",
    "             np.mean([smv_lr1[\"Recall Std\"][key], smv_lr5[\"Recall Std\"][key]]),\\\n",
    "             np.mean([smv_lr1[\"Precision mean\"][key], smv_lr5[\"Precision mean\"][key]]), \\\n",
    "             np.mean([smv_lr1[\"Precision Std\"][key], smv_lr5[\"Precision Std\"][key]]), \\\n",
    "             smv_lr5[\"Loss mean\"][key], \\\n",
    "                        \"SmartStop MV\"]\n",
    "    \n",
    "    idx += 1\n",
    "\n",
    "\n",
    "df = pd.DataFrame(smv_mix, columns=[\"Name\", \"Threshold\", \"Loss mean\", \"Loss lr=5\"])\n",
    "df.columns = [\"Name\", \"Threshold\", \"Error rate lr=1\", \"Error rate lr=5\"]\n",
    "df"
   ]
  },
  {
   "cell_type": "code",
   "execution_count": 109,
   "metadata": {},
   "outputs": [
    {
     "data": {
      "text/html": [
       "<div>\n",
       "<style scoped>\n",
       "    .dataframe tbody tr th:only-of-type {\n",
       "        vertical-align: middle;\n",
       "    }\n",
       "\n",
       "    .dataframe tbody tr th {\n",
       "        vertical-align: top;\n",
       "    }\n",
       "\n",
       "    .dataframe thead th {\n",
       "        text-align: right;\n",
       "    }\n",
       "</style>\n",
       "<table border=\"1\" class=\"dataframe\">\n",
       "  <thead>\n",
       "    <tr style=\"text-align: right;\">\n",
       "      <th></th>\n",
       "      <th>Threshold</th>\n",
       "      <th>Cost mean</th>\n",
       "      <th>Cost Std</th>\n",
       "      <th>TC mean</th>\n",
       "      <th>TC std</th>\n",
       "      <th>Loss mean</th>\n",
       "      <th>Loss Std</th>\n",
       "      <th>Recall mean</th>\n",
       "      <th>Recall Std</th>\n",
       "      <th>Precision mean</th>\n",
       "      <th>Precision Std</th>\n",
       "    </tr>\n",
       "  </thead>\n",
       "  <tbody>\n",
       "    <tr>\n",
       "      <th>0</th>\n",
       "      <td>0.5</td>\n",
       "      <td>150.000</td>\n",
       "      <td>0.000</td>\n",
       "      <td>150.000</td>\n",
       "      <td>0.000</td>\n",
       "      <td>0.158</td>\n",
       "      <td>0.014</td>\n",
       "      <td>0.841</td>\n",
       "      <td>0.021</td>\n",
       "      <td>0.843</td>\n",
       "      <td>0.014</td>\n",
       "    </tr>\n",
       "    <tr>\n",
       "      <th>1</th>\n",
       "      <td>0.6</td>\n",
       "      <td>150.000</td>\n",
       "      <td>0.000</td>\n",
       "      <td>150.000</td>\n",
       "      <td>0.000</td>\n",
       "      <td>0.157</td>\n",
       "      <td>0.013</td>\n",
       "      <td>0.843</td>\n",
       "      <td>0.017</td>\n",
       "      <td>0.843</td>\n",
       "      <td>0.016</td>\n",
       "    </tr>\n",
       "    <tr>\n",
       "      <th>2</th>\n",
       "      <td>0.7</td>\n",
       "      <td>204.808</td>\n",
       "      <td>2.260</td>\n",
       "      <td>204.808</td>\n",
       "      <td>2.260</td>\n",
       "      <td>0.115</td>\n",
       "      <td>0.010</td>\n",
       "      <td>0.947</td>\n",
       "      <td>0.011</td>\n",
       "      <td>0.842</td>\n",
       "      <td>0.012</td>\n",
       "    </tr>\n",
       "    <tr>\n",
       "      <th>3</th>\n",
       "      <td>0.8</td>\n",
       "      <td>186.900</td>\n",
       "      <td>1.715</td>\n",
       "      <td>186.900</td>\n",
       "      <td>1.715</td>\n",
       "      <td>0.241</td>\n",
       "      <td>0.013</td>\n",
       "      <td>0.983</td>\n",
       "      <td>0.006</td>\n",
       "      <td>0.679</td>\n",
       "      <td>0.012</td>\n",
       "    </tr>\n",
       "    <tr>\n",
       "      <th>4</th>\n",
       "      <td>0.9</td>\n",
       "      <td>150.000</td>\n",
       "      <td>0.000</td>\n",
       "      <td>150.000</td>\n",
       "      <td>0.000</td>\n",
       "      <td>0.298</td>\n",
       "      <td>0.012</td>\n",
       "      <td>0.984</td>\n",
       "      <td>0.006</td>\n",
       "      <td>0.629</td>\n",
       "      <td>0.009</td>\n",
       "    </tr>\n",
       "  </tbody>\n",
       "</table>\n",
       "</div>"
      ],
      "text/plain": [
       "   Threshold  Cost mean  Cost Std  TC mean  TC std  Loss mean  Loss Std  \\\n",
       "0        0.5    150.000     0.000  150.000   0.000      0.158     0.014   \n",
       "1        0.6    150.000     0.000  150.000   0.000      0.157     0.013   \n",
       "2        0.7    204.808     2.260  204.808   2.260      0.115     0.010   \n",
       "3        0.8    186.900     1.715  186.900   1.715      0.241     0.013   \n",
       "4        0.9    150.000     0.000  150.000   0.000      0.298     0.012   \n",
       "\n",
       "   Recall mean  Recall Std  Precision mean  Precision Std  \n",
       "0        0.841       0.021           0.843          0.014  \n",
       "1        0.843       0.017           0.843          0.016  \n",
       "2        0.947       0.011           0.842          0.012  \n",
       "3        0.983       0.006           0.679          0.012  \n",
       "4        0.984       0.006           0.629          0.009  "
      ]
     },
     "execution_count": 109,
     "metadata": {},
     "output_type": "execute_result"
    }
   ],
   "source": [
    "smv_lr1"
   ]
  },
  {
   "cell_type": "code",
   "execution_count": null,
   "metadata": {},
   "outputs": [],
   "source": []
  },
  {
   "cell_type": "code",
   "execution_count": 24,
   "metadata": {},
   "outputs": [
    {
     "data": {
      "text/plain": [
       "0.9999996935751597"
      ]
     },
     "execution_count": 24,
     "metadata": {},
     "output_type": "execute_result"
    }
   ],
   "source": [
    "truth_finder_single(alg_utils.input_adapter_single({3: [1], 5: [1], 1: [0]}))\n"
   ]
  },
  {
   "cell_type": "code",
   "execution_count": null,
   "metadata": {},
   "outputs": [],
   "source": []
  },
  {
   "cell_type": "code",
   "execution_count": 136,
   "metadata": {},
   "outputs": [
    {
     "data": {
      "text/plain": [
       "0.6666666666666666"
      ]
     },
     "execution_count": 136,
     "metadata": {},
     "output_type": "execute_result"
    }
   ],
   "source": [
    "tst = {\n",
    "    0:{0: [1], 1: [1], 2: [0]},\n",
    "    1:{0: [1], 1: [1], 2: [1]},\n",
    "    2:{0: [0], 1: [0], 2: [0]},\n",
    "    3:{0: [1], 1: [0], 2: [0]}\n",
    "}\n",
    "i = 0\n",
    "Psi = alg_utils.input_adapter_single(tst[i])\n",
    "sum([x[1] for x in Psi[0]]) / len(Psi[0])"
   ]
  },
  {
   "cell_type": "code",
   "execution_count": 118,
   "metadata": {},
   "outputs": [
    {
     "data": {
      "text/plain": [
       "[[(0, 1), (1, 1), (2, 1)]]"
      ]
     },
     "execution_count": 118,
     "metadata": {},
     "output_type": "execute_result"
    }
   ],
   "source": [
    "alg_utils.input_adapter_single(tst[i])"
   ]
  },
  {
   "cell_type": "code",
   "execution_count": 10,
   "metadata": {},
   "outputs": [
    {
     "data": {
      "text/plain": [
       "([0.75, 0.9999999999999996, 0.75, nan],\n",
       " [defaultdict(float, {1: 0.9999999999999991, 0: 8.881784197001266e-16}),\n",
       "  defaultdict(float, {1: 1.0}),\n",
       "  defaultdict(float, {0: 1.0}),\n",
       "  defaultdict(float, {1: 8.881784197001266e-16, 0: 0.9999999999999991})])"
      ]
     },
     "execution_count": 10,
     "metadata": {},
     "output_type": "execute_result"
    }
   ],
   "source": [
    "item_votes = {\n",
    "    0:{0: [1], 1: [1], 2: [0]},\n",
    "    1:{0: [1], 1: [1], 2: [1]},\n",
    "    2:{0: [0], 1: [0], 2: [0]},\n",
    "    3:{0: [1], 1: [0], 2: [0]}\n",
    "}\n",
    "expectation_maximization(4, 4, alg_utils.input_adapter(item_votes))\n",
    "#alg_utils.input_adapter(item_votes)"
   ]
  },
  {
   "cell_type": "code",
   "execution_count": 15,
   "metadata": {},
   "outputs": [
    {
     "data": {
      "text/plain": [
       "{0: [1], 1: [1], 2: [0]}"
      ]
     },
     "execution_count": 15,
     "metadata": {},
     "output_type": "execute_result"
    }
   ],
   "source": [
    "next(iter(item_votes.values()))"
   ]
  },
  {
   "cell_type": "code",
   "execution_count": 171,
   "metadata": {},
   "outputs": [
    {
     "name": "stdout",
     "output_type": "stream",
     "text": [
      "1\n",
      "2\n",
      "3\n",
      "4\n",
      "0.1875\n",
      "0.8125\n"
     ]
    },
    {
     "data": {
      "text/plain": [
       "0.1875"
      ]
     },
     "execution_count": 171,
     "metadata": {},
     "output_type": "execute_result"
    }
   ],
   "source": [
    "import math\n",
    "from scipy.stats import beta\n",
    "\n",
    "def gal_uncertainty(a, b, x = .5):\n",
    "    result = 1\n",
    "    a = a + 1\n",
    "    b = b + 1\n",
    "    for j in np.arange(1, a + b, 1):\n",
    "        print(j)\n",
    "        term_1 = math.factorial(a + b - 1) / (math.factorial(j) * math.factorial(a + b - 1 - j))\n",
    "        term_2 = math.pow(x, j)\n",
    "        term_3 = math.pow(1 - x, a + b - 1 - j)\n",
    "\n",
    "        result *= term_1 * term_2 * term_3\n",
    "        \n",
    "    return result\n",
    "    \n",
    "gal_uncertainty(2, 1)\n",
    "\n",
    "v_pos = 1 + 3\n",
    "v_neg = 1 + 1\n",
    "\n",
    "beta_cdf = beta.cdf(.5, v_pos, v_neg, loc=0, scale=1)\n",
    "\n",
    "print(beta_cdf)\n",
    "print(1 - beta_cdf)\n",
    "\n",
    "min(beta_cdf, 1-beta_cdf)"
   ]
  },
  {
   "cell_type": "code",
   "execution_count": 102,
   "metadata": {},
   "outputs": [
    {
     "name": "stdout",
     "output_type": "stream",
     "text": [
      "{'A2HTGQE4AACVRV': 0, 'AYHHOK9GDSWNH': 0, 'A1QRQZWBL1SVEX': 0, 'A3G0MGLBT484I1': 0, 'A7NC1H5ZK7TO0': 0, 'A3MPXWFMR0Y2LK': 0, 'A11GX90QFWDLMM': 1, 'A3PIXX8DQGYHGI': 1, 'A2KONK3TIL5KVX': 0, 'A18941IO2ZZWW6': 1}\n"
     ]
    }
   ],
   "source": [
    "gt = pd.read_csv('data/TEMP/gold.txt', delimiter='\\t', header=None)\n",
    "\n",
    "\n",
    "\n",
    "\n",
    "ground_truth = [str(x) for x in gt[0]]\n",
    "\n",
    "def get_dataset_next_worker_vote(responses, item_votes, i, categories):\n",
    "    item_responses = responses[responses[1] == i]\n",
    "    worker_votes = zip(item_responses[0], item_responses[2])\n",
    "    \n",
    "    for worker_id, worker_vote in worker_votes:\n",
    "        if(worker_id not in item_votes):\n",
    "            return worker_id, list(categories[0]).index(worker_vote) #get binary value 0/1\n",
    "            break\n",
    "                \n",
    "    raise ValueError('empty value')\n",
    "    \n",
    "    #remaining_responses = [x for x in item_responses if x[0] not in item_votes.keys()]\n",
    "    #print(remaining_responses)\n",
    "    \n",
    "categories = pd.read_csv('data/TEMP/categories.txt', delimiter='\\t', header=None)\n",
    "responses = pd.read_csv('data/TEMP/workerResponses.txt', delimiter='\\t', header=None)\n",
    "\n",
    "i = \"42_0\"\n",
    "item_votes = {}\n",
    "for _ in range(10):\n",
    "    worker_id, vote = get_vote(responses, item_votes, i, categories)\n",
    "    item_votes[worker_id] = vote\n",
    "    \n",
    "print(item_votes)"
   ]
  },
  {
   "cell_type": "code",
   "execution_count": 103,
   "metadata": {},
   "outputs": [
    {
     "data": {
      "text/plain": [
       "[array([0.08, 0.16, 0.24, 0.32, 0.4 , 0.48, 0.56, 0.64, 0.72, 0.8 , 0.88,\n",
       "        0.96])]"
      ]
     },
     "execution_count": 103,
     "metadata": {},
     "output_type": "execute_result"
    }
   ],
   "source": [
    "[0.08 * np.arange(1, 13, 1)]"
   ]
  },
  {
   "cell_type": "code",
   "execution_count": null,
   "metadata": {},
   "outputs": [],
   "source": []
  },
  {
   "cell_type": "code",
   "execution_count": null,
   "metadata": {},
   "outputs": [],
   "source": []
  }
 ],
 "metadata": {
  "kernelspec": {
   "display_name": "Python 3",
   "language": "python",
   "name": "python3"
  },
  "language_info": {
   "codemirror_mode": {
    "name": "ipython",
    "version": 3
   },
   "file_extension": ".py",
   "mimetype": "text/x-python",
   "name": "python",
   "nbconvert_exporter": "python",
   "pygments_lexer": "ipython3",
   "version": "3.7.0"
  }
 },
 "nbformat": 4,
 "nbformat_minor": 2
}
