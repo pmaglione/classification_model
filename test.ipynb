{
 "cells": [
  {
   "cell_type": "code",
   "execution_count": 54,
   "metadata": {},
   "outputs": [],
   "source": [
    "import numpy as np\n",
    "from tqdm import tqdm\n",
    "import pandas as pd\n",
    "from helpers.mv_single_binary import majority_voting\n",
    "import helpers.algorithms_utils as alg_utils\n",
    "from helpers.truth_finder_single import truth_finder_single\n",
    "from helpers.truth_finder import expectation_maximization\n",
    "import multiprocessing\n",
    "import time"
   ]
  },
  {
   "cell_type": "code",
   "execution_count": 37,
   "metadata": {},
   "outputs": [],
   "source": [
    "'''\n",
    "    Input:\n",
    "        v - votes for item i\n",
    "        ct - value between 0 and 1 for deciding if prob of data is enough or must continue\n",
    "        cf - function to calculate how likely is to be classified\n",
    "        cr - cost ratio between crowd to expert vote [0,1]\n",
    "    Output:\n",
    "        (cost_mean, cost_std)\n",
    "'''\n",
    "def cost_estimator(v, ct, cf, cr):\n",
    "    expert_cost = 1\n",
    "    simulated_costs = []\n",
    "    \n",
    "    for _ in range(drawing_simulations_amount):\n",
    "        must_continue = True\n",
    "        i_item_votes = v.copy()\n",
    "        while (must_continue):\n",
    "            classification_prob = cf(alg_utils.input_adapter_single(i_item_votes))\n",
    "            if classification_prob > ct:\n",
    "                must_continue = False            \n",
    "                simulated_costs.append(len(i_item_votes) * cr)\n",
    "            else:\n",
    "                vote = np.random.binomial(1, classification_prob)\n",
    "                new_index = max(i_item_votes.keys()) + 1\n",
    "                i_item_votes[new_index] = [vote]\n",
    "                #simulated crowd cost is bigger than expert cost\n",
    "                if((len(i_item_votes) * cr) >= (1 * expert_cost_increment)):\n",
    "                    must_continue = False\n",
    "                    simulated_costs.append(len(i_item_votes) * cr)\n",
    "        #end while \n",
    "    #end for\n",
    "                    \n",
    "    return (np.mean(simulated_costs),np.std(simulated_costs))"
   ]
  },
  {
   "cell_type": "code",
   "execution_count": 38,
   "metadata": {},
   "outputs": [],
   "source": [
    "'''\n",
    "Function to answer: must continue collecting votes over each task?\n",
    "\n",
    "Input:\n",
    "items - set of items\n",
    "votes - set of votes over each item\n",
    "classification_threshold - value between 0 and 1 for deciding if prob of data is enough or must continue\n",
    "cost_ratio - ratio of crowd to expert cost, [0,1]\n",
    "classification_function - function to calculate how likely is to be classified\n",
    "\n",
    "Output:\n",
    "    Dictionary with the decision indexed by item_id\n",
    "        {\n",
    "            item_id: bool\n",
    "            ...\n",
    "            item_n: ...\n",
    "        }\n",
    "    Where False = Stop and True=Continue collecting votes\n",
    "'''\n",
    "def decision_function(items, votes, ct, cr, cf):       \n",
    "    results = {i:(((1 - ct) <= cf(alg_utils.input_adapter_single(i_votes)) <= ct)) for i, i_votes in votes.items()}\n",
    "    \n",
    "    results_unclassified = [i for i, d in results.items() if d == True]\n",
    "\n",
    "    for item_id in results_unclassified:\n",
    "            item_votes = votes[item_id].copy()\n",
    "            cost_mean, cost_std = cost_estimator(item_votes, ct, cf, cr)\n",
    "            \n",
    "            if(cost_mean > (1 + (alg_utils.get_crowd_cost(item_votes, cr)))):\n",
    "                results[item_id] = False\n",
    "\n",
    "    return results"
   ]
  },
  {
   "cell_type": "code",
   "execution_count": 39,
   "metadata": {},
   "outputs": [],
   "source": [
    "def generate_votes_1(params, items_num, ct, gt):\n",
    "    total_votes = {}\n",
    " \n",
    "    #base votes\n",
    "    for i in range(items_num):\n",
    "        total_votes[i] = {}\n",
    "        for k in range(params['votes_per_item']):\n",
    "            worker_id, vote = alg_utils.get_worker_vote(params['workers_accuracy'], i, gt, total_votes)\n",
    "\n",
    "            total_votes[i][worker_id] = [vote]\n",
    "\n",
    "    #evaluate votes\n",
    "    results = decision_function(items_num, total_votes, ct, params['cost_ratio'], \n",
    "                                                   params['classification_fn']) \n",
    "    \n",
    "    #Check if must continue collecting votes\n",
    "    items_predicted_classified = alg_utils.get_items_predicted_classified(results)\n",
    "    \n",
    "    must_get_more_votes = len(items_predicted_classified) > 0\n",
    "    \n",
    "    while(must_get_more_votes):\n",
    "        total_votes_aux = {}\n",
    "        for i, v in items_predicted_classified.items():           \n",
    "            worker_id, vote = alg_utils.get_worker_vote(params['workers_accuracy'], i, gt, total_votes)\n",
    "            \n",
    "            total_votes[i][worker_id] = [vote]\n",
    "            \n",
    "            total_votes_aux[i] = total_votes[i]\n",
    "        #end for\n",
    "        results = decision_function(len(total_votes_aux), total_votes_aux, ct, params['cost_ratio'], \n",
    "                                                   params['classification_fn'])\n",
    "\n",
    "        #Stop when there are no more items that can be classified\n",
    "        items_predicted_classified = alg_utils.get_items_predicted_classified(results)\n",
    "        must_get_more_votes = len(items_predicted_classified) > 0\n",
    "    #end while    \n",
    "    \n",
    "    \n",
    "\n",
    "    items_classification = alg_utils.classify_items_mv(total_votes, gt, params['classification_fn'], ct)\n",
    "\n",
    "    return [items_classification, total_votes]"
   ]
  },
  {
   "cell_type": "code",
   "execution_count": 40,
   "metadata": {},
   "outputs": [],
   "source": [
    "def run_experiment_1():\n",
    "    main_results = []\n",
    "\n",
    "    for ct in tqdm(cts):\n",
    "        ct = round(ct, 2) #limit to two decimals\n",
    "        crowd_cost = []\n",
    "        total_cost = []\n",
    "        items_classified_in = []\n",
    "        items_classified_out = []\n",
    "        ct_loss = []\n",
    "        ct_recall = []\n",
    "        ct_precision = []\n",
    "        ct_classified_amount = []\n",
    "        ct_unclassified_amount = []\n",
    "\n",
    "        for _ in range(iterations_per_ct):\n",
    "            workers_accuracy = alg_utils.simulate_workers(workers_num, z, fixed_acc, workers_acc, .9)\n",
    "            \n",
    "            params = {\n",
    "                'workers_accuracy': workers_accuracy,\n",
    "                'workers_num': workers_num,\n",
    "                'items_num': items_num,\n",
    "                'cost_ratio': cr,\n",
    "                'votes_per_item': base_votes_per_item,\n",
    "                'classification_fn': cf\n",
    "            }\n",
    "            \n",
    "            ground_truth = alg_utils.generate_gold_data(items_num, data_true_percentage)\n",
    "\n",
    "            ct_i_results = generate_votes_1(params, items_num, ct, ground_truth)\n",
    "\n",
    "            items_classification = ct_i_results[0]\n",
    "            total_votes = ct_i_results[1]\n",
    "            \n",
    "            classified_amount, unclassified_amount, ct_i_crowd_cost, ct_i_total_cost = alg_utils.get_total_cost(total_votes, cr, cf, ct, False)\n",
    "            \n",
    "            ct_classified_amount.append(classified_amount)\n",
    "            ct_unclassified_amount.append(unclassified_amount)\n",
    "            crowd_cost.append(ct_i_crowd_cost)\n",
    "            total_cost.append(ct_i_total_cost)\n",
    "\n",
    "            loss,  recall, precision = alg_utils.Metrics.compute_metrics(items_classification, ground_truth)\n",
    "            ct_loss.append(loss)\n",
    "            ct_recall.append(recall)\n",
    "            ct_precision.append(precision)\n",
    "        #end for iterations\n",
    "\n",
    "        main_results.append(\n",
    "            [ct, \n",
    "             round(np.mean(crowd_cost), 3), \n",
    "             round(np.std(crowd_cost), 3),\n",
    "             round(np.mean(total_cost), 3),\n",
    "             round(np.std(total_cost), 3),\n",
    "             round(np.mean(ct_loss), 3),\n",
    "             round(np.std(ct_loss), 3),\n",
    "             round(np.mean(ct_recall), 3),\n",
    "             round(np.std(ct_recall), 3),\n",
    "             round(np.mean(ct_precision), 3),\n",
    "             round(np.std(ct_precision), 3)\n",
    "            ])\n",
    "    #end for thresholds\n",
    "\n",
    "    return main_results"
   ]
  },
  {
   "cell_type": "code",
   "execution_count": 41,
   "metadata": {},
   "outputs": [],
   "source": [
    "#main \n",
    "cf = expectation_maximization\n",
    "cr = .01 #ratio 1:100\n",
    "base_votes_per_item = 5\n",
    "\n",
    "#cost estimator \n",
    "drawing_simulations_amount = 50\n",
    "expert_cost_increment = 2\n",
    "\n",
    "#crowd\n",
    "workers_num = 1000\n",
    "z = 0 #% cheaters\n",
    "fixed_acc = False\n",
    "workers_acc = .9\n",
    "\n",
    "#ground truth \n",
    "items_num = 1000\n",
    "data_true_percentage = .5\n",
    "\n",
    "#experiment \n",
    "iterations_per_ct = 1\n",
    "cts = [.7] #classification thresholds"
   ]
  },
  {
   "cell_type": "code",
   "execution_count": 7,
   "metadata": {},
   "outputs": [
    {
     "name": "stderr",
     "output_type": "stream",
     "text": [
      "  0%|          | 0/1 [00:00<?, ?it/s]\n"
     ]
    },
    {
     "ename": "TypeError",
     "evalue": "expectation_maximization() missing 2 required positional arguments: 'M' and 'Psi'",
     "output_type": "error",
     "traceback": [
      "\u001b[0;31m---------------------------------------------------------------------------\u001b[0m",
      "\u001b[0;31mTypeError\u001b[0m                                 Traceback (most recent call last)",
      "\u001b[0;32m<ipython-input-7-63add43aef85>\u001b[0m in \u001b[0;36m<module>\u001b[0;34m()\u001b[0m\n\u001b[1;32m      1\u001b[0m \u001b[0;32mimport\u001b[0m \u001b[0mtime\u001b[0m\u001b[0;34m\u001b[0m\u001b[0m\n\u001b[1;32m      2\u001b[0m \u001b[0mstart\u001b[0m \u001b[0;34m=\u001b[0m \u001b[0mtime\u001b[0m\u001b[0;34m.\u001b[0m\u001b[0mtime\u001b[0m\u001b[0;34m(\u001b[0m\u001b[0;34m)\u001b[0m\u001b[0;34m\u001b[0m\u001b[0m\n\u001b[0;32m----> 3\u001b[0;31m \u001b[0mr\u001b[0m \u001b[0;34m=\u001b[0m \u001b[0mrun_experiment_1\u001b[0m\u001b[0;34m(\u001b[0m\u001b[0;34m)\u001b[0m\u001b[0;34m\u001b[0m\u001b[0m\n\u001b[0m\u001b[1;32m      4\u001b[0m \u001b[0mend\u001b[0m \u001b[0;34m=\u001b[0m \u001b[0mtime\u001b[0m\u001b[0;34m.\u001b[0m\u001b[0mtime\u001b[0m\u001b[0;34m(\u001b[0m\u001b[0;34m)\u001b[0m\u001b[0;34m\u001b[0m\u001b[0m\n\u001b[1;32m      5\u001b[0m \u001b[0mprint\u001b[0m\u001b[0;34m(\u001b[0m\u001b[0;34mf'Time: {end - start}'\u001b[0m\u001b[0;34m)\u001b[0m\u001b[0;34m\u001b[0m\u001b[0m\n",
      "\u001b[0;32m<ipython-input-5-f8355eff009d>\u001b[0m in \u001b[0;36mrun_experiment_1\u001b[0;34m()\u001b[0m\n\u001b[1;32m     28\u001b[0m             \u001b[0mground_truth\u001b[0m \u001b[0;34m=\u001b[0m \u001b[0malg_utils\u001b[0m\u001b[0;34m.\u001b[0m\u001b[0mgenerate_gold_data\u001b[0m\u001b[0;34m(\u001b[0m\u001b[0mitems_num\u001b[0m\u001b[0;34m,\u001b[0m \u001b[0mdata_true_percentage\u001b[0m\u001b[0;34m)\u001b[0m\u001b[0;34m\u001b[0m\u001b[0m\n\u001b[1;32m     29\u001b[0m \u001b[0;34m\u001b[0m\u001b[0m\n\u001b[0;32m---> 30\u001b[0;31m             \u001b[0mct_i_results\u001b[0m \u001b[0;34m=\u001b[0m \u001b[0mgenerate_votes_1\u001b[0m\u001b[0;34m(\u001b[0m\u001b[0mparams\u001b[0m\u001b[0;34m,\u001b[0m \u001b[0mitems_num\u001b[0m\u001b[0;34m,\u001b[0m \u001b[0mct\u001b[0m\u001b[0;34m,\u001b[0m \u001b[0mground_truth\u001b[0m\u001b[0;34m)\u001b[0m\u001b[0;34m\u001b[0m\u001b[0m\n\u001b[0m\u001b[1;32m     31\u001b[0m \u001b[0;34m\u001b[0m\u001b[0m\n\u001b[1;32m     32\u001b[0m             \u001b[0mitems_classification\u001b[0m \u001b[0;34m=\u001b[0m \u001b[0mct_i_results\u001b[0m\u001b[0;34m[\u001b[0m\u001b[0;36m0\u001b[0m\u001b[0;34m]\u001b[0m\u001b[0;34m\u001b[0m\u001b[0m\n",
      "\u001b[0;32m<ipython-input-4-52ab3b38eef6>\u001b[0m in \u001b[0;36mgenerate_votes_1\u001b[0;34m(params, items_num, ct, gt)\u001b[0m\n\u001b[1;32m     12\u001b[0m     \u001b[0;31m#evaluate votes\u001b[0m\u001b[0;34m\u001b[0m\u001b[0;34m\u001b[0m\u001b[0m\n\u001b[1;32m     13\u001b[0m     results = decision_function(items_num, total_votes, ct, params['cost_ratio'], \n\u001b[0;32m---> 14\u001b[0;31m                                                    params['classification_fn']) \n\u001b[0m\u001b[1;32m     15\u001b[0m \u001b[0;34m\u001b[0m\u001b[0m\n\u001b[1;32m     16\u001b[0m     \u001b[0;31m#Check if must continue collecting votes\u001b[0m\u001b[0;34m\u001b[0m\u001b[0;34m\u001b[0m\u001b[0m\n",
      "\u001b[0;32m<ipython-input-3-b36bdc5c0576>\u001b[0m in \u001b[0;36mdecision_function\u001b[0;34m(items, votes, classification_threshold, cost_ratio, classification_function)\u001b[0m\n\u001b[1;32m     24\u001b[0m         \u001b[0mitem_votes\u001b[0m \u001b[0;34m=\u001b[0m \u001b[0mitem_true_votes\u001b[0m\u001b[0;34m.\u001b[0m\u001b[0mcopy\u001b[0m\u001b[0;34m(\u001b[0m\u001b[0;34m)\u001b[0m\u001b[0;34m\u001b[0m\u001b[0m\n\u001b[1;32m     25\u001b[0m         \u001b[0mactual_cost\u001b[0m \u001b[0;34m=\u001b[0m \u001b[0mlen\u001b[0m\u001b[0;34m(\u001b[0m\u001b[0mitem_votes\u001b[0m\u001b[0;34m)\u001b[0m \u001b[0;34m*\u001b[0m \u001b[0mcr\u001b[0m\u001b[0;34m\u001b[0m\u001b[0m\n\u001b[0;32m---> 26\u001b[0;31m         \u001b[0mclassification_prob\u001b[0m \u001b[0;34m=\u001b[0m \u001b[0mclassification_function\u001b[0m\u001b[0;34m(\u001b[0m\u001b[0malg_utils\u001b[0m\u001b[0;34m.\u001b[0m\u001b[0minput_adapter_single\u001b[0m\u001b[0;34m(\u001b[0m\u001b[0mitem_votes\u001b[0m\u001b[0;34m)\u001b[0m\u001b[0;34m)\u001b[0m\u001b[0;34m\u001b[0m\u001b[0m\n\u001b[0m\u001b[1;32m     27\u001b[0m \u001b[0;34m\u001b[0m\u001b[0m\n\u001b[1;32m     28\u001b[0m         \u001b[0;32mif\u001b[0m \u001b[0;34m(\u001b[0m\u001b[0;34m(\u001b[0m\u001b[0mclassification_prob\u001b[0m \u001b[0;34m>\u001b[0m \u001b[0;36m0\u001b[0m\u001b[0;34m)\u001b[0m \u001b[0;32mand\u001b[0m \u001b[0;34m(\u001b[0m\u001b[0mclassification_prob\u001b[0m \u001b[0;34m<=\u001b[0m \u001b[0mclassification_threshold\u001b[0m\u001b[0;34m)\u001b[0m \u001b[0;32mand\u001b[0m \u001b[0;34m(\u001b[0m\u001b[0mactual_cost\u001b[0m \u001b[0;34m<=\u001b[0m \u001b[0;36m1\u001b[0m\u001b[0;34m)\u001b[0m\u001b[0;34m)\u001b[0m\u001b[0;34m:\u001b[0m\u001b[0;34m\u001b[0m\u001b[0m\n",
      "\u001b[0;31mTypeError\u001b[0m: expectation_maximization() missing 2 required positional arguments: 'M' and 'Psi'"
     ]
    }
   ],
   "source": [
    "import time\n",
    "start = time.time()\n",
    "r = run_experiment_1()\n",
    "end = time.time()\n",
    "print(f'Time: {end - start}')"
   ]
  },
  {
   "cell_type": "code",
   "execution_count": 8,
   "metadata": {},
   "outputs": [
    {
     "ename": "TypeError",
     "evalue": "expectation_maximization() missing 2 required positional arguments: 'M' and 'Psi'",
     "output_type": "error",
     "traceback": [
      "\u001b[0;31m---------------------------------------------------------------------------\u001b[0m",
      "\u001b[0;31mTypeError\u001b[0m                                 Traceback (most recent call last)",
      "\u001b[0;32m<ipython-input-8-d131f3d78efb>\u001b[0m in \u001b[0;36m<module>\u001b[0;34m()\u001b[0m\n\u001b[0;32m----> 1\u001b[0;31m \u001b[0mcf\u001b[0m\u001b[0;34m(\u001b[0m\u001b[0malg_utils\u001b[0m\u001b[0;34m.\u001b[0m\u001b[0minput_adapter_single\u001b[0m\u001b[0;34m(\u001b[0m\u001b[0;34m{\u001b[0m\u001b[0;36m240\u001b[0m\u001b[0;34m:\u001b[0m \u001b[0;34m[\u001b[0m\u001b[0;36m0\u001b[0m\u001b[0;34m]\u001b[0m\u001b[0;34m,\u001b[0m \u001b[0;36m250\u001b[0m\u001b[0;34m:\u001b[0m \u001b[0;34m[\u001b[0m\u001b[0;36m0\u001b[0m\u001b[0;34m]\u001b[0m\u001b[0;34m,\u001b[0m \u001b[0;36m528\u001b[0m\u001b[0;34m:\u001b[0m \u001b[0;34m[\u001b[0m\u001b[0;36m0\u001b[0m\u001b[0;34m]\u001b[0m\u001b[0;34m}\u001b[0m\u001b[0;34m)\u001b[0m\u001b[0;34m)\u001b[0m\u001b[0;34m\u001b[0m\u001b[0m\n\u001b[0m",
      "\u001b[0;31mTypeError\u001b[0m: expectation_maximization() missing 2 required positional arguments: 'M' and 'Psi'"
     ]
    }
   ],
   "source": [
    "cf(alg_utils.input_adapter_single({240: [0], 250: [0], 528: [0]}))"
   ]
  },
  {
   "cell_type": "code",
   "execution_count": 17,
   "metadata": {},
   "outputs": [
    {
     "name": "stdout",
     "output_type": "stream",
     "text": [
      "0.0\n"
     ]
    }
   ],
   "source": [
    "def em_adapter(votes):\n",
    "    N = len(votes[1].keys())\n",
    "    M = 2\n",
    "    Psi = alg_utils.input_adapter(votes)\n",
    "    return N, M, Psi\n",
    "adapter = em_adapter\n",
    "votes = {0: [0], 1: [0], 2: [0]}\n",
    "#N, M, Psi = adapter(votes)\n",
    "#print(adapter(votes))\n",
    "_, p = expectation_maximization(3, 1, alg_utils.input_adapter(votes))\n",
    "print(p[0][1])"
   ]
  },
  {
   "cell_type": "code",
   "execution_count": null,
   "metadata": {},
   "outputs": [],
   "source": []
  },
  {
   "cell_type": "code",
   "execution_count": 8,
   "metadata": {},
   "outputs": [
    {
     "ename": "IndexError",
     "evalue": "list index out of range",
     "output_type": "error",
     "traceback": [
      "\u001b[0;31m---------------------------------------------------------------------------\u001b[0m",
      "\u001b[0;31mIndexError\u001b[0m                                Traceback (most recent call last)",
      "\u001b[0;32m<ipython-input-8-6a60a8b209e6>\u001b[0m in \u001b[0;36m<module>\u001b[0;34m()\u001b[0m\n\u001b[0;32m----> 1\u001b[0;31m \u001b[0mtruth_finder_single\u001b[0m\u001b[0;34m(\u001b[0m\u001b[0malg_utils\u001b[0m\u001b[0;34m.\u001b[0m\u001b[0minput_adapter_single\u001b[0m\u001b[0;34m(\u001b[0m\u001b[0;34m{\u001b[0m\u001b[0;36m3\u001b[0m\u001b[0;34m:\u001b[0m \u001b[0;34m[\u001b[0m\u001b[0;36m1\u001b[0m\u001b[0;34m]\u001b[0m\u001b[0;34m,\u001b[0m \u001b[0;36m5\u001b[0m\u001b[0;34m:\u001b[0m \u001b[0;34m[\u001b[0m\u001b[0;36m0\u001b[0m\u001b[0;34m]\u001b[0m\u001b[0;34m,\u001b[0m \u001b[0;36m1\u001b[0m\u001b[0;34m:\u001b[0m \u001b[0;34m[\u001b[0m\u001b[0;36m0\u001b[0m\u001b[0;34m]\u001b[0m\u001b[0;34m}\u001b[0m\u001b[0;34m)\u001b[0m\u001b[0;34m)\u001b[0m\u001b[0;34m\u001b[0m\u001b[0m\n\u001b[0m",
      "\u001b[0;32m~/Google Drive/PhD/Repos/classification_model/helpers/truth_finder_single.py\u001b[0m in \u001b[0;36mtruth_finder_single\u001b[0;34m(Psi)\u001b[0m\n\u001b[1;32m      9\u001b[0m     \u001b[0mM\u001b[0m \u001b[0;34m=\u001b[0m \u001b[0;36m1\u001b[0m\u001b[0;34m\u001b[0m\u001b[0m\n\u001b[1;32m     10\u001b[0m \u001b[0;34m\u001b[0m\u001b[0m\n\u001b[0;32m---> 11\u001b[0;31m     \u001b[0m_\u001b[0m\u001b[0;34m,\u001b[0m \u001b[0mp\u001b[0m \u001b[0;34m=\u001b[0m \u001b[0mtruth_finder_multiple\u001b[0m\u001b[0;34m(\u001b[0m\u001b[0mN\u001b[0m\u001b[0;34m,\u001b[0m \u001b[0mM\u001b[0m\u001b[0;34m,\u001b[0m \u001b[0mPsi\u001b[0m\u001b[0;34m)\u001b[0m\u001b[0;34m\u001b[0m\u001b[0m\n\u001b[0m\u001b[1;32m     12\u001b[0m \u001b[0;34m\u001b[0m\u001b[0m\n\u001b[1;32m     13\u001b[0m     \u001b[0;32mreturn\u001b[0m \u001b[0mp\u001b[0m\u001b[0;34m[\u001b[0m\u001b[0;36m0\u001b[0m\u001b[0;34m]\u001b[0m\u001b[0;34m[\u001b[0m\u001b[0;36m1\u001b[0m\u001b[0;34m]\u001b[0m\u001b[0;34m\u001b[0m\u001b[0m\n",
      "\u001b[0;32m~/Google Drive/PhD/Repos/classification_model/helpers/truth_finder.py\u001b[0m in \u001b[0;36mexpectation_maximization\u001b[0;34m(N, M, Psi)\u001b[0m\n\u001b[1;32m     16\u001b[0m     \u001b[0;34m:\u001b[0m\u001b[0;32mreturn\u001b[0m\u001b[0;34m:\u001b[0m\u001b[0;34m\u001b[0m\u001b[0m\n\u001b[1;32m     17\u001b[0m     \"\"\"\n\u001b[0;32m---> 18\u001b[0;31m     \u001b[0minv_Psi\u001b[0m \u001b[0;34m=\u001b[0m \u001b[0minvert\u001b[0m\u001b[0;34m(\u001b[0m\u001b[0mN\u001b[0m\u001b[0;34m,\u001b[0m \u001b[0mM\u001b[0m\u001b[0;34m,\u001b[0m \u001b[0mPsi\u001b[0m\u001b[0;34m)\u001b[0m\u001b[0;34m\u001b[0m\u001b[0m\n\u001b[0m\u001b[1;32m     19\u001b[0m     \u001b[0;31m# convergence eps\u001b[0m\u001b[0;34m\u001b[0m\u001b[0;34m\u001b[0m\u001b[0m\n\u001b[1;32m     20\u001b[0m     \u001b[0meps\u001b[0m \u001b[0;34m=\u001b[0m \u001b[0;36m0.001\u001b[0m\u001b[0;34m\u001b[0m\u001b[0m\n",
      "\u001b[0;32m~/Google Drive/PhD/Repos/classification_model/helpers/algorithms_utils.py\u001b[0m in \u001b[0;36minvert\u001b[0;34m(N, M, Psi)\u001b[0m\n\u001b[1;32m     40\u001b[0m     \u001b[0;32mfor\u001b[0m \u001b[0mobj\u001b[0m \u001b[0;32min\u001b[0m \u001b[0mrange\u001b[0m\u001b[0;34m(\u001b[0m\u001b[0mM\u001b[0m\u001b[0;34m)\u001b[0m\u001b[0;34m:\u001b[0m\u001b[0;34m\u001b[0m\u001b[0m\n\u001b[1;32m     41\u001b[0m         \u001b[0;32mfor\u001b[0m \u001b[0ms\u001b[0m\u001b[0;34m,\u001b[0m \u001b[0mval\u001b[0m \u001b[0;32min\u001b[0m \u001b[0mPsi\u001b[0m\u001b[0;34m[\u001b[0m\u001b[0mobj\u001b[0m\u001b[0;34m]\u001b[0m\u001b[0;34m:\u001b[0m\u001b[0;34m\u001b[0m\u001b[0m\n\u001b[0;32m---> 42\u001b[0;31m             \u001b[0minv_Psi\u001b[0m\u001b[0;34m[\u001b[0m\u001b[0ms\u001b[0m\u001b[0;34m]\u001b[0m\u001b[0;34m.\u001b[0m\u001b[0mappend\u001b[0m\u001b[0;34m(\u001b[0m\u001b[0;34m(\u001b[0m\u001b[0mobj\u001b[0m\u001b[0;34m,\u001b[0m \u001b[0mval\u001b[0m\u001b[0;34m)\u001b[0m\u001b[0;34m)\u001b[0m\u001b[0;34m\u001b[0m\u001b[0m\n\u001b[0m\u001b[1;32m     43\u001b[0m     \u001b[0;32mreturn\u001b[0m \u001b[0minv_Psi\u001b[0m\u001b[0;34m\u001b[0m\u001b[0m\n\u001b[1;32m     44\u001b[0m \u001b[0;31m#end\u001b[0m\u001b[0;34m\u001b[0m\u001b[0;34m\u001b[0m\u001b[0m\n",
      "\u001b[0;31mIndexError\u001b[0m: list index out of range"
     ]
    }
   ],
   "source": [
    "truth_finder_single(alg_utils.input_adapter_single({3: [1], 5: [0], 1: [0]}))"
   ]
  },
  {
   "cell_type": "code",
   "execution_count": 4,
   "metadata": {},
   "outputs": [
    {
     "data": {
      "text/plain": [
       "[[(0, 1), (1, 0), (2, 0)]]"
      ]
     },
     "execution_count": 4,
     "metadata": {},
     "output_type": "execute_result"
    }
   ],
   "source": [
    "v = {3: [1], 5: [0], 1: [0]}\n",
    "alg_utils.input_adapter_single(v)"
   ]
  },
  {
   "cell_type": "code",
   "execution_count": null,
   "metadata": {},
   "outputs": [],
   "source": []
  },
  {
   "cell_type": "code",
   "execution_count": null,
   "metadata": {},
   "outputs": [],
   "source": [
    "print(range(0, len(a), ))"
   ]
  },
  {
   "cell_type": "code",
   "execution_count": null,
   "metadata": {},
   "outputs": [],
   "source": []
  },
  {
   "cell_type": "code",
   "execution_count": 43,
   "metadata": {},
   "outputs": [
    {
     "name": "stdout",
     "output_type": "stream",
     "text": [
      "0.5\n",
      "0.9\n"
     ]
    }
   ],
   "source": [
    "from scipy.stats import binom\n",
    "\n",
    "v = {3: [1], 5: [1], 1: [0]}\n",
    "p = majority_voting(alg_utils.input_adapter_single(v))\n",
    "pos_v = 9\n",
    "neg_v = 1\n",
    "term_pos = binom(pos_v + neg_v, pos_v)\n",
    "term_neg = binom(pos_v + neg_v, neg_v)\n",
    "p_in = term_pos / (term_pos + term_neg)\n",
    "print(p_in)\n",
    "prior = .5\n",
    "p_bin = pos_v * prior / (pos_v * prior + neg_v * (1 - prior) )\n",
    "print(p_bin)"
   ]
  },
  {
   "cell_type": "code",
   "execution_count": 35,
   "metadata": {},
   "outputs": [
    {
     "name": "stdout",
     "output_type": "stream",
     "text": [
      "{0: False, 1: True, 2: True}\n",
      "1\n",
      "2\n"
     ]
    }
   ],
   "source": [
    "v = {\n",
    "    0:{0: [1], 1: [1], 2: [1], 3:[1]},\n",
    "    1:{0: [1], 1: [1], 2: [1], 3:[0]},\n",
    "    2:{0: [1], 1: [0], 2: [0], 3:[0]}\n",
    "}\n",
    "#expectation_maximization(4, 2, alg_utils.input_adapter(v))\n",
    "cf = majority_voting\n",
    "ct = .9\n",
    "r = {i:(((1 - ct) <= cf(alg_utils.input_adapter_single(i_votes)) <= ct)) for i, i_votes in v.items()}\n",
    "print(r)\n",
    "f = [i for i, d in r.items() if d == True]\n",
    "for a in f:\n",
    "    print(a)"
   ]
  },
  {
   "cell_type": "code",
   "execution_count": 84,
   "metadata": {},
   "outputs": [
    {
     "name": "stdout",
     "output_type": "stream",
     "text": [
      "0.8091958511268632\n"
     ]
    }
   ],
   "source": [
    "from scipy.stats import binom\n",
    "v = {\n",
    "    0:{0: [1], 1: [1], 2: [1], 3:[0], 4:[1], 5:[1], 6:[1], 7:[1], 8:[1], 9:[1], 10:[1]}\n",
    "}\n",
    "em = expectation_maximization(11, 1, alg_utils.input_adapter(v))\n",
    "prior = .5\n",
    "acc = np.mean(em[0])\n",
    "like = binom.pmf(10,11,acc)\n",
    "p_bin = like * prior / (like * prior + (1 - acc) * (1 - prior))\n",
    "print(p_bin)"
   ]
  },
  {
   "cell_type": "code",
   "execution_count": 79,
   "metadata": {},
   "outputs": [
    {
     "name": "stdout",
     "output_type": "stream",
     "text": [
      "0.6279069767441858\n"
     ]
    }
   ],
   "source": [
    "from scipy.stats import binom\n",
    "v = {\n",
    "    0:{0: [1], 1: [1], 2: [1], 3:[0]}\n",
    "}\n",
    "em = expectation_maximization(4, 1, alg_utils.input_adapter(v))\n",
    "\n",
    "acc = np.mean(em[0])\n",
    "like = binom.pmf(3,4,acc)\n",
    "p_bin = like * prior / (like * prior + (1 - acc) * (1 - prior))\n",
    "print(p_bin)"
   ]
  },
  {
   "cell_type": "code",
   "execution_count": 29,
   "metadata": {},
   "outputs": [
    {
     "data": {
      "text/plain": [
       "True"
      ]
     },
     "execution_count": 29,
     "metadata": {},
     "output_type": "execute_result"
    }
   ],
   "source": []
  },
  {
   "cell_type": "code",
   "execution_count": 89,
   "metadata": {},
   "outputs": [
    {
     "name": "stdout",
     "output_type": "stream",
     "text": [
      "running\n",
      "finished in: 0.026658058166503906\n",
      "finished in: 0.0002498626708984375\n",
      "finished in: 0.00023174285888671875\n"
     ]
    }
   ],
   "source": [
    "def worker(values, i, n):\n",
    "    from_i = i * n\n",
    "    to_i = ((1 + i) * n)\n",
    "    for i in range(from_i, to_i):\n",
    "        values[i] = 1\n",
    "    return\n",
    "\n",
    "amount = 1000\n",
    "values = [0] * amount\n",
    "jobs = []\n",
    "iter_n = 4\n",
    "n = int(amount / iter_n)\n",
    "\n",
    "start = time.time()\n",
    "for i in range(iter_n):\n",
    "        p = multiprocessing.Process(target=worker(values, i, n))\n",
    "        jobs.append(p)\n",
    "        p.start()\n",
    "        \n",
    "while (len([x.join() for x in jobs if x.is_alive()])):\n",
    "    print(\"running\")\n",
    "    \n",
    "print(f'finished in: {time.time() - start}')\n",
    "\n",
    "values = [0] * amount\n",
    "\n",
    "start = time.time()\n",
    "for i in range(amount):\n",
    "    values[i] = 1\n",
    "print(f'finished in: {time.time() - start}')\n",
    "\n",
    "start = time.time()\n",
    "values  = [1 for i in range(amount)]\n",
    "print(f'finished in: {time.time() - start}')"
   ]
  },
  {
   "cell_type": "code",
   "execution_count": 93,
   "metadata": {},
   "outputs": [
    {
     "name": "stdout",
     "output_type": "stream",
     "text": [
      "0\n",
      "1000\n",
      "finished in: 0.0022728443145751953\n",
      "finished in: 0.00015997886657714844\n",
      "finished in: 0.00014019012451171875\n"
     ]
    }
   ],
   "source": [
    "import threading\n",
    "\n",
    "def worker(values, i, n):\n",
    "    from_i = i * n\n",
    "    to_i = ((1 + i) * n)\n",
    "    for i in range(from_i, to_i):\n",
    "        values[i] = 1\n",
    "    return\n",
    "\n",
    "amount = 1000\n",
    "values = [0] * amount\n",
    "threads = []\n",
    "iter_n = 4\n",
    "n = int(amount / iter_n)\n",
    "print(sum(values))\n",
    "start = time.time()\n",
    "for i in range(iter_n):\n",
    "        th = threading.Thread(target=worker, args=(values, i, n))\n",
    "        th.start()\n",
    "        threads.append(th)\n",
    "        \n",
    "for th in threads:\n",
    "        th.join()\n",
    "print(sum(values))\n",
    "print(f'finished in: {time.time() - start}')\n",
    "\n",
    "values = [0] * amount\n",
    "\n",
    "start = time.time()\n",
    "for i in range(amount):\n",
    "    values[i] = 1\n",
    "print(f'finished in: {time.time() - start}')\n",
    "\n",
    "start = time.time()\n",
    "values  = [1 for i in range(amount)]\n",
    "print(f'finished in: {time.time() - start}')"
   ]
  },
  {
   "cell_type": "code",
   "execution_count": 121,
   "metadata": {},
   "outputs": [
    {
     "ename": "AttributeError",
     "evalue": "'numpy.ndarray' object has no attribute 'slice'",
     "output_type": "error",
     "traceback": [
      "\u001b[0;31m---------------------------------------------------------------------------\u001b[0m",
      "\u001b[0;31mAttributeError\u001b[0m                            Traceback (most recent call last)",
      "\u001b[0;32m<ipython-input-121-b376f6f2be8b>\u001b[0m in \u001b[0;36m<module>\u001b[0;34m()\u001b[0m\n\u001b[1;32m      6\u001b[0m     \u001b[0mfrom_i\u001b[0m \u001b[0;34m=\u001b[0m \u001b[0mi\u001b[0m \u001b[0;34m*\u001b[0m \u001b[0mth_items_n\u001b[0m\u001b[0;34m\u001b[0m\u001b[0m\n\u001b[1;32m      7\u001b[0m     \u001b[0mto_i\u001b[0m \u001b[0;34m=\u001b[0m \u001b[0;34m(\u001b[0m\u001b[0;34m(\u001b[0m\u001b[0;36m1\u001b[0m \u001b[0;34m+\u001b[0m \u001b[0mi\u001b[0m\u001b[0;34m)\u001b[0m \u001b[0;34m*\u001b[0m \u001b[0mth_items_n\u001b[0m\u001b[0;34m)\u001b[0m\u001b[0;34m\u001b[0m\u001b[0m\n\u001b[0;32m----> 8\u001b[0;31m     \u001b[0mitems_ids\u001b[0m \u001b[0;34m=\u001b[0m \u001b[0mids_items_unclassified\u001b[0m\u001b[0;34m.\u001b[0m\u001b[0mslice\u001b[0m\u001b[0;34m(\u001b[0m\u001b[0mfrom_i\u001b[0m\u001b[0;34m,\u001b[0m\u001b[0mto_i\u001b[0m\u001b[0;34m)\u001b[0m\u001b[0;34m\u001b[0m\u001b[0m\n\u001b[0m\u001b[1;32m      9\u001b[0m     \u001b[0mprint\u001b[0m\u001b[0;34m(\u001b[0m\u001b[0;34mf'f:{from_i} - to: {to_i} - ids:{items_ids}'\u001b[0m\u001b[0;34m)\u001b[0m\u001b[0;34m\u001b[0m\u001b[0m\n",
      "\u001b[0;31mAttributeError\u001b[0m: 'numpy.ndarray' object has no attribute 'slice'"
     ]
    }
   ],
   "source": [
    "\n",
    "ids_items_unclassified = np.arange(250)\n",
    "th_items_n = 100\n",
    "threads_n = int(round(len(ids_items_unclassified) / th_items_n, 0))\n",
    "for i in range(threads_n):\n",
    "    from_i = i * th_items_n\n",
    "    to_i = ((1 + i) * th_items_n)\n",
    "    items_ids = ids_items_unclassified.slice(from_i,to_i)\n",
    "    print(f'f:{from_i} - to: {to_i} - ids:{items_ids}')"
   ]
  },
  {
   "cell_type": "code",
   "execution_count": 144,
   "metadata": {},
   "outputs": [
    {
     "data": {
      "text/plain": [
       "[[4, 5], [6, 6], [7, 2], [3]]"
      ]
     },
     "execution_count": 144,
     "metadata": {},
     "output_type": "execute_result"
    }
   ],
   "source": [
    "import random\n",
    "def chunks(l, n):\n",
    "    \"\"\"Yield successive n-sized chunks from l.\"\"\"\n",
    "    for i in range(0, len(l), n):\n",
    "        yield l[i:i + n]\n",
    "\n",
    "list(chunks([4,5,6,6,7,2,3], 2))"
   ]
  },
  {
   "cell_type": "code",
   "execution_count": 142,
   "metadata": {},
   "outputs": [
    {
     "ename": "TypeError",
     "evalue": "'NoneType' object is not subscriptable",
     "output_type": "error",
     "traceback": [
      "\u001b[0;31m---------------------------------------------------------------------------\u001b[0m",
      "\u001b[0;31mTypeError\u001b[0m                                 Traceback (most recent call last)",
      "\u001b[0;32m<ipython-input-142-5bf35ae82994>\u001b[0m in \u001b[0;36m<module>\u001b[0;34m()\u001b[0m\n\u001b[0;32m----> 1\u001b[0;31m \u001b[0mnp\u001b[0m\u001b[0;34m.\u001b[0m\u001b[0mrandom\u001b[0m\u001b[0;34m.\u001b[0m\u001b[0mshuffle\u001b[0m\u001b[0;34m(\u001b[0m\u001b[0mnp\u001b[0m\u001b[0;34m.\u001b[0m\u001b[0marange\u001b[0m\u001b[0;34m(\u001b[0m\u001b[0;36m250\u001b[0m\u001b[0;34m)\u001b[0m\u001b[0;34m)\u001b[0m\u001b[0;34m[\u001b[0m\u001b[0;36m0\u001b[0m\u001b[0;34m]\u001b[0m\u001b[0;34m\u001b[0m\u001b[0m\n\u001b[0m",
      "\u001b[0;31mTypeError\u001b[0m: 'NoneType' object is not subscriptable"
     ]
    }
   ],
   "source": []
  },
  {
   "cell_type": "code",
   "execution_count": 146,
   "metadata": {},
   "outputs": [
    {
     "data": {
      "text/plain": [
       "1"
      ]
     },
     "execution_count": 146,
     "metadata": {},
     "output_type": "execute_result"
    }
   ],
   "source": [
    "v = {\n",
    "    0:{0: [1], 1: [1], 2: [1], 3:[0]}\n",
    "}\n",
    "np.count_nonzero(v[0])"
   ]
  },
  {
   "cell_type": "code",
   "execution_count": null,
   "metadata": {},
   "outputs": [],
   "source": [
    "import numpy as np\n",
    "for cr in np.arange(.02, .1, .01):\n",
    "    print(str(round(cr-int(cr), 2))[2:])"
   ]
  },
  {
   "cell_type": "code",
   "execution_count": null,
   "metadata": {},
   "outputs": [],
   "source": []
  }
 ],
 "metadata": {
  "kernelspec": {
   "display_name": "Python 3",
   "language": "python",
   "name": "python3"
  },
  "language_info": {
   "codemirror_mode": {
    "name": "ipython",
    "version": 3
   },
   "file_extension": ".py",
   "mimetype": "text/x-python",
   "name": "python",
   "nbconvert_exporter": "python",
   "pygments_lexer": "ipython3",
   "version": "3.7.0"
  }
 },
 "nbformat": 4,
 "nbformat_minor": 2
}
