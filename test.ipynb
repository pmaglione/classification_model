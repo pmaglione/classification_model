{
 "cells": [
  {
   "cell_type": "code",
   "execution_count": 1,
   "metadata": {},
   "outputs": [],
   "source": [
    "import numpy as np\n",
    "from tqdm import tqdm\n",
    "import pandas as pd\n",
    "from helpers.mv_single_binary import majority_voting\n",
    "import helpers.algorithms_utils as alg_utils\n",
    "from helpers.truth_finder_single import truth_finder_single\n",
    "from helpers.truth_finder import expectation_maximization\n",
    "import helpers.dawid_skene as dawid_skene\n",
    "import multiprocessing\n",
    "import time\n",
    "import matplotlib.pyplot as plt\n"
   ]
  },
  {
   "cell_type": "code",
   "execution_count": 300,
   "metadata": {},
   "outputs": [
    {
     "name": "stdout",
     "output_type": "stream",
     "text": [
      "CPU times: user 4 µs, sys: 1e+03 ns, total: 5 µs\n",
      "Wall time: 596 µs\n",
      "----\n",
      "----\n",
      "----\n"
     ]
    },
    {
     "ename": "KeyboardInterrupt",
     "evalue": "",
     "output_type": "error",
     "traceback": [
      "\u001b[0;31m---------------------------------------------------------------------------\u001b[0m",
      "\u001b[0;31mKeyboardInterrupt\u001b[0m                         Traceback (most recent call last)",
      "\u001b[0;32m<ipython-input-300-40b8e2c91348>\u001b[0m in \u001b[0;36m<module>\u001b[0;34m()\u001b[0m\n\u001b[1;32m     52\u001b[0m         \u001b[0;31m#end for\u001b[0m\u001b[0;34m\u001b[0m\u001b[0;34m\u001b[0m\u001b[0m\n\u001b[1;32m     53\u001b[0m \u001b[0;34m\u001b[0m\u001b[0m\n\u001b[0;32m---> 54\u001b[0;31m         \u001b[0mresults\u001b[0m \u001b[0;34m=\u001b[0m \u001b[0mdf\u001b[0m\u001b[0;34m(\u001b[0m\u001b[0mlen\u001b[0m\u001b[0;34m(\u001b[0m\u001b[0mitems_predicted_classified\u001b[0m\u001b[0;34m)\u001b[0m\u001b[0;34m,\u001b[0m \u001b[0mtotal_votes_aux\u001b[0m\u001b[0;34m,\u001b[0m \u001b[0mth\u001b[0m\u001b[0;34m,\u001b[0m \u001b[0mcr\u001b[0m\u001b[0;34m,\u001b[0m \u001b[0mcf\u001b[0m\u001b[0;34m)\u001b[0m\u001b[0;34m\u001b[0m\u001b[0m\n\u001b[0m\u001b[1;32m     55\u001b[0m \u001b[0;34m\u001b[0m\u001b[0m\n\u001b[1;32m     56\u001b[0m         \u001b[0;31m#Stop when there are no more items that can be classified\u001b[0m\u001b[0;34m\u001b[0m\u001b[0;34m\u001b[0m\u001b[0m\n",
      "\u001b[0;32m~/Google Drive/PhD/Repos/classification_model/algorithms/smart_stop.py\u001b[0m in \u001b[0;36mdecision_function_mv\u001b[0;34m(items, votes, ct, cr, cf)\u001b[0m\n\u001b[1;32m     74\u001b[0m             \u001b[0mresults\u001b[0m\u001b[0;34m[\u001b[0m\u001b[0mitem_id\u001b[0m\u001b[0;34m]\u001b[0m \u001b[0;34m=\u001b[0m \u001b[0;32mTrue\u001b[0m\u001b[0;34m\u001b[0m\u001b[0m\n\u001b[1;32m     75\u001b[0m         \u001b[0;32melse\u001b[0m\u001b[0;34m:\u001b[0m\u001b[0;34m\u001b[0m\u001b[0m\n\u001b[0;32m---> 76\u001b[0;31m             \u001b[0mcost_mean\u001b[0m\u001b[0;34m,\u001b[0m \u001b[0mcost_std\u001b[0m \u001b[0;34m=\u001b[0m \u001b[0mcost_estimator\u001b[0m\u001b[0;34m(\u001b[0m\u001b[0mitem_votes\u001b[0m\u001b[0;34m,\u001b[0m \u001b[0mct\u001b[0m\u001b[0;34m,\u001b[0m \u001b[0mcf\u001b[0m\u001b[0;34m,\u001b[0m \u001b[0mcr\u001b[0m\u001b[0;34m)\u001b[0m\u001b[0;34m\u001b[0m\u001b[0m\n\u001b[0m\u001b[1;32m     77\u001b[0m \u001b[0;34m\u001b[0m\u001b[0m\n\u001b[1;32m     78\u001b[0m             \u001b[0;32mif\u001b[0m\u001b[0;34m(\u001b[0m\u001b[0mcost_mean\u001b[0m \u001b[0;34m>\u001b[0m \u001b[0;34m(\u001b[0m\u001b[0;36m1\u001b[0m \u001b[0;34m*\u001b[0m \u001b[0mexpert_cost_increment\u001b[0m\u001b[0;34m)\u001b[0m\u001b[0;34m)\u001b[0m\u001b[0;34m:\u001b[0m\u001b[0;34m\u001b[0m\u001b[0m\n",
      "\u001b[0;32m~/Google Drive/PhD/Repos/classification_model/algorithms/smart_stop.py\u001b[0m in \u001b[0;36mcost_estimator\u001b[0;34m(v, ct, cf, cr)\u001b[0m\n\u001b[1;32m     30\u001b[0m                 \u001b[0msimulated_costs\u001b[0m\u001b[0;34m.\u001b[0m\u001b[0mappend\u001b[0m\u001b[0;34m(\u001b[0m\u001b[0malg_utils\u001b[0m\u001b[0;34m.\u001b[0m\u001b[0mget_crowd_cost\u001b[0m\u001b[0;34m(\u001b[0m\u001b[0mi_item_votes\u001b[0m\u001b[0;34m,\u001b[0m \u001b[0mcr\u001b[0m\u001b[0;34m)\u001b[0m\u001b[0;34m)\u001b[0m\u001b[0;34m\u001b[0m\u001b[0m\n\u001b[1;32m     31\u001b[0m             \u001b[0;32melse\u001b[0m\u001b[0;34m:\u001b[0m\u001b[0;34m\u001b[0m\u001b[0m\n\u001b[0;32m---> 32\u001b[0;31m                 \u001b[0mvote\u001b[0m \u001b[0;34m=\u001b[0m \u001b[0mnp\u001b[0m\u001b[0;34m.\u001b[0m\u001b[0mrandom\u001b[0m\u001b[0;34m.\u001b[0m\u001b[0mbinomial\u001b[0m\u001b[0;34m(\u001b[0m\u001b[0;36m1\u001b[0m\u001b[0;34m,\u001b[0m \u001b[0mclassification_prob_in\u001b[0m\u001b[0;34m)\u001b[0m\u001b[0;34m\u001b[0m\u001b[0m\n\u001b[0m\u001b[1;32m     33\u001b[0m \u001b[0;34m\u001b[0m\u001b[0m\n\u001b[1;32m     34\u001b[0m                 \u001b[0mnew_index\u001b[0m \u001b[0;34m=\u001b[0m \u001b[0mmax\u001b[0m\u001b[0;34m(\u001b[0m\u001b[0mi_item_votes\u001b[0m\u001b[0;34m.\u001b[0m\u001b[0mkeys\u001b[0m\u001b[0;34m(\u001b[0m\u001b[0;34m)\u001b[0m\u001b[0;34m)\u001b[0m \u001b[0;34m+\u001b[0m \u001b[0;36m1\u001b[0m\u001b[0;34m\u001b[0m\u001b[0m\n",
      "\u001b[0;31mKeyboardInterrupt\u001b[0m: "
     ]
    }
   ],
   "source": [
    "from helpers.mv_single_binary import majority_voting\n",
    "from algorithms.smart_stop import decision_function_em\n",
    "from algorithms.smart_stop import decision_function_mv\n",
    "from algorithms.smart_stop import decision_function_bayes\n",
    "from algorithms.smart_stop import decision_function_mv_base\n",
    "\n",
    "%time\n",
    "\n",
    "def worker_vote(gt, i, acc):\n",
    "    if np.random.binomial(1, acc):\n",
    "        vote = gt[i]\n",
    "    else:\n",
    "        vote = 1 - gt[i]\n",
    "        \n",
    "    return vote\n",
    "\n",
    "acc = .75\n",
    "items_num = 1000\n",
    "th = .8\n",
    "cr = 1/5\n",
    "votes_num = 3\n",
    "\n",
    "gt = alg_utils.generate_gold_data(items_num, .5)\n",
    "cf = majority_voting\n",
    "df = decision_function_mv\n",
    "\n",
    "\n",
    "t_l = []\n",
    "t_r = []\n",
    "t_p = []\n",
    "\n",
    "for _ in range(10):\n",
    "\n",
    "    workers_accuracy = alg_utils.simulate_workers(1000, 0, True, acc, base_acc = .5)\n",
    "    votes = {i:{} for i in range(items_num)}\n",
    "    votes = {x:{val:[alg_utils.get_worker_vote(workers_accuracy, x, gt, votes)[1]] for val in np.arange(0, votes_num, 1)} for x in range(items_num)} \n",
    "    must_get_more_votes = True\n",
    "    \n",
    "    results = df(items_num, votes, th, cr, cf)\n",
    "    items_predicted_classified = alg_utils.get_items_predicted_classified(results)\n",
    "    must_get_more_votes = len(items_predicted_classified) > 0\n",
    "\n",
    "    while(must_get_more_votes):\n",
    "\n",
    "        total_votes_aux = {}\n",
    "        for i, v in items_predicted_classified.items():           \n",
    "            worker_id, vote = alg_utils.get_worker_vote(workers_accuracy, i, gt, votes)\n",
    "\n",
    "            votes[i][worker_id] = [vote]\n",
    "\n",
    "            total_votes_aux[i] = votes[i]\n",
    "        #end for\n",
    "\n",
    "        results = df(len(items_predicted_classified), total_votes_aux, th, cr, cf)\n",
    "\n",
    "        #Stop when there are no more items that can be classified\n",
    "        items_predicted_classified = alg_utils.get_items_predicted_classified(results)\n",
    "        #print(len(items_predicted_classified))\n",
    "        must_get_more_votes = len(items_predicted_classified) > 0\n",
    "\n",
    "    #print(votes)\n",
    "\n",
    "    items_classification = alg_utils.classify_items(votes, gt, cf, .5)\n",
    "\n",
    "    print(\"----\")\n",
    "\n",
    "\n",
    "    loss, recall, precision =alg_utils.Metrics.compute_metrics(items_classification, gt, 5)\n",
    "    t_l.append(loss)\n",
    "    t_r.append(recall)\n",
    "    t_p.append(precision)\n",
    "    \n",
    "print(np.mean(t_l))\n",
    "print(np.mean(t_r))\n",
    "print(np.mean(t_p))"
   ]
  },
  {
   "cell_type": "code",
   "execution_count": 9,
   "metadata": {},
   "outputs": [
    {
     "data": {
      "text/plain": [
       "'\\nmv-bayes\\n0.1468\\n0.9508\\n0.9523127645944451\\nmv-em\\n0.2144\\n0.9396\\n0.8829743958123392\\ntf-em\\n0.451\\n0.8484\\n0.857014992134125\\ntf-bayes\\n0.41440000000000005\\n0.8611999999999999\\n0.8663151858194605\\n'"
      ]
     },
     "execution_count": 9,
     "metadata": {},
     "output_type": "execute_result"
    }
   ],
   "source": [
    ".75\n",
    "0.169\n",
    "0.95\n",
    "0.9171729912566118\n",
    "--\n",
    ".85\n",
    "0.195\n",
    "0.9380000000000001\n",
    "0.9216768105081089\n",
    "--\n",
    ".95\n",
    "0.048\n",
    "0.982\n",
    "0.9939983993597439\n",
    "\n",
    "'''\n",
    ".8\n",
    "mv-mv\n",
    "0.184\n",
    "0.9592\n",
    "0.8556714703885876\n",
    "mv-bayes\n",
    "0.1468\n",
    "0.9508\n",
    "0.9523127645944451\n",
    "mv-em\n",
    "0.2144\n",
    "0.9396\n",
    "0.8829743958123392\n",
    "tf-em\n",
    "0.451\n",
    "0.8484\n",
    "0.857014992134125\n",
    "tf-bayes\n",
    "0.41440000000000005\n",
    "0.8611999999999999\n",
    "0.8663151858194605\n",
    "'''\n"
   ]
  },
  {
   "cell_type": "code",
   "execution_count": 122,
   "metadata": {},
   "outputs": [
    {
     "name": "stdout",
     "output_type": "stream",
     "text": [
      "{0: [1], 1: [0], 2: [0], 3: [1], 4: [1], 884: [0], 567: [1], 82: [0], 771: [1], 152: [0], 524: [1], 729: [0], 861: [0]}\n",
      "1\n"
     ]
    },
    {
     "data": {
      "text/plain": [
       "2.2534749635520452e-37"
      ]
     },
     "execution_count": 122,
     "metadata": {},
     "output_type": "execute_result"
    }
   ],
   "source": [
    "#20,31,45    ///13-25\n",
    "i = 13\n",
    "Psi = alg_utils.input_adapter_single(votes[i])\n",
    "print(votes[i])\n",
    "print(gt[i])\n",
    "truth_finder_single(Psi)"
   ]
  },
  {
   "cell_type": "code",
   "execution_count": 24,
   "metadata": {},
   "outputs": [
    {
     "name": "stdout",
     "output_type": "stream",
     "text": [
      "[[(0, 0), (1, 1), (2, 1), (3, 1)]]\n"
     ]
    },
    {
     "data": {
      "text/plain": [
       "0.9999999999999993"
      ]
     },
     "execution_count": 24,
     "metadata": {},
     "output_type": "execute_result"
    }
   ],
   "source": [
    "Psi = alg_utils.input_adapter_single(votes[9])\n",
    "print(Psi)\n",
    "truth_finder_single(Psi)"
   ]
  },
  {
   "cell_type": "code",
   "execution_count": 16,
   "metadata": {},
   "outputs": [
    {
     "data": {
      "text/plain": [
       "0.26"
      ]
     },
     "execution_count": 16,
     "metadata": {},
     "output_type": "execute_result"
    }
   ],
   "source": [
    "x = [np.random.binomial(1, .3) for x in range(100)]\n",
    "np.mean(x)"
   ]
  },
  {
   "cell_type": "code",
   "execution_count": 193,
   "metadata": {},
   "outputs": [
    {
     "data": {
      "text/plain": [
       "([3.064248402684539e-07, 0.9999996935751597, 0.9999996935751597],\n",
       " [defaultdict(float, {1: 3.064248402684539e-07, 0: 0.9999996935751597}),\n",
       "  defaultdict(float, {})])"
      ]
     },
     "execution_count": 193,
     "metadata": {},
     "output_type": "execute_result"
    }
   ],
   "source": [
    "def em_adapter(votes):\n",
    "    N = len(votes[1].keys())\n",
    "    M = 2\n",
    "    Psi = alg_utils.input_adapter(votes)\n",
    "    return N, M, Psi\n",
    "adapter = em_adapter\n",
    "votes = {\n",
    "    0: {0: [1], 1: [0], 2: [0]},\n",
    "    1: {}\n",
    "}\n",
    "#N, M, Psi = adapter(votes)\n",
    "#print(adapter(votes))\n",
    "expectation_maximization(3, 2, alg_utils.input_adapter(votes))\n",
    "#print(p)"
   ]
  },
  {
   "cell_type": "code",
   "execution_count": 14,
   "metadata": {},
   "outputs": [
    {
     "name": "stdout",
     "output_type": "stream",
     "text": [
      "0.29\n",
      "0.68\n"
     ]
    }
   ],
   "source": [
    "ins = [np.random.binomial(1, 0.3) for x in range(1000)]\n",
    "outs = [np.random.binomial(1, 0.7) for x in range(1000)]\n",
    "print(np.mean(ins))\n",
    "print(np.mean(outs))"
   ]
  },
  {
   "cell_type": "code",
   "execution_count": 148,
   "metadata": {},
   "outputs": [
    {
     "data": {
      "text/plain": [
       "0"
      ]
     },
     "execution_count": 148,
     "metadata": {},
     "output_type": "execute_result"
    }
   ],
   "source": [
    "np.random.binomial(1, 0.3)"
   ]
  },
  {
   "cell_type": "code",
   "execution_count": 2,
   "metadata": {},
   "outputs": [
    {
     "data": {
      "text/plain": [
       "[[(0, 1), (1, 0), (2, 0)]]"
      ]
     },
     "execution_count": 2,
     "metadata": {},
     "output_type": "execute_result"
    }
   ],
   "source": [
    "v = {3: [1], 5: [0], 1: [0]}\n",
    "alg_utils.input_adapter_single(v)"
   ]
  },
  {
   "cell_type": "code",
   "execution_count": null,
   "metadata": {},
   "outputs": [],
   "source": []
  },
  {
   "cell_type": "code",
   "execution_count": null,
   "metadata": {},
   "outputs": [],
   "source": [
    "print(range(0, len(a), ))"
   ]
  },
  {
   "cell_type": "code",
   "execution_count": null,
   "metadata": {},
   "outputs": [],
   "source": []
  },
  {
   "cell_type": "code",
   "execution_count": null,
   "metadata": {},
   "outputs": [],
   "source": []
  },
  {
   "cell_type": "code",
   "execution_count": 35,
   "metadata": {},
   "outputs": [
    {
     "name": "stdout",
     "output_type": "stream",
     "text": [
      "{0: False, 1: True, 2: True}\n",
      "1\n",
      "2\n"
     ]
    }
   ],
   "source": [
    "v = {\n",
    "    0:{0: [1], 1: [1], 2: [1], 3:[1]},\n",
    "    1:{0: [1], 1: [1], 2: [1], 3:[0]},\n",
    "    2:{0: [1], 1: [0], 2: [0], 3:[0]}\n",
    "}\n",
    "#expectation_maximization(4, 2, alg_utils.input_adapter(v))\n",
    "cf = majority_voting\n",
    "ct = .9\n",
    "r = {i:(((1 - ct) <= cf(alg_utils.input_adapter_single(i_votes)) <= ct)) for i, i_votes in v.items()}\n",
    "print(r)\n",
    "f = [i for i, d in r.items() if d == True]\n",
    "for a in f:\n",
    "    print(a)"
   ]
  },
  {
   "cell_type": "code",
   "execution_count": 19,
   "metadata": {},
   "outputs": [
    {
     "name": "stdout",
     "output_type": "stream",
     "text": [
      "([0.75, 0.9980392156862745, 0.75], [defaultdict(<class 'float'>, {1: 0.996078431372549, 0: 0.0039215686274509725}), defaultdict(<class 'float'>, {1: 1.0}), defaultdict(<class 'float'>, {0: 1.0}), defaultdict(<class 'float'>, {1: 0.0039215686274509725, 0: 0.996078431372549})])\n"
     ]
    }
   ],
   "source": [
    "from helpers.truth_finder import expectation_maximization\n",
    "from helpers.dawid_skene import dawid_skene\n",
    "import helpers.algorithms_utils as alg_utils\n",
    "import numpy as np\n",
    "\n",
    "v = {\n",
    "    2:{0: [1], 1: [1], 2: [0]},\n",
    "    11:{0: [1], 1: [1], 2: [1]},\n",
    "    3:{0: [0], 1: [0], 2: [0]},\n",
    "    5:{0: [1], 1: [0], 2: [0]}\n",
    "}\n",
    "\n",
    "#ds = dawid_skene(v)\n",
    "votes = alg_utils.input_adapter(v)\n",
    "\n",
    "dong = expectation_maximization(3, 4, votes)\n",
    "\n",
    "#print(ds)\n",
    "#print(np.mean(dong[0]))\n",
    "print(dong)"
   ]
  },
  {
   "cell_type": "code",
   "execution_count": null,
   "metadata": {},
   "outputs": [],
   "source": []
  },
  {
   "cell_type": "code",
   "execution_count": 224,
   "metadata": {},
   "outputs": [
    {
     "name": "stdout",
     "output_type": "stream",
     "text": [
      "0.0016277011551087206\n"
     ]
    }
   ],
   "source": [
    "'''\n",
    "P(positive|evidence) = P(evidence|positive) P(positive) / P(evidence)\n",
    "= P(evidence|positive) P(positive) / P(evidence|positive) P(positive) + P(evidence|negative) P(negative)\n",
    "'''\n",
    "from helpers.truth_finder import expectation_maximization\n",
    "from scipy.stats import binom\n",
    "import math\n",
    "\n",
    "#acc = .66\n",
    "prior = .5\n",
    "\n",
    "a = 1\n",
    "b = 5\n",
    "\n",
    "v = {\n",
    "    0:{0: [1], 1: [1], 2: [0]},\n",
    "    1:{0: [1], 1: [1], 2: [1]},\n",
    "    2:{0: [0], 1: [0], 2: [0]},\n",
    "    3:{0: [1], 1: [0], 2: [0]}\n",
    "}\n",
    "\n",
    "accs, p = expectation_maximization(3, 4, alg_utils.input_adapter(v))\n",
    "\n",
    "acc = np.mean(accs)\n",
    "\n",
    "like_in = binom.pmf(a, a+b, acc)\n",
    "like_out = binom.pmf(b, a+b, acc)\n",
    "\n",
    "p_v_pos = math.pow(acc, a) * math.pow(1 - acc, b)\n",
    "p_v_neg = math.pow(acc, b) * math.pow(1 - acc, a)\n",
    "#print(like_in)\n",
    "#print(like_out)\n",
    "#print(p_v_pos)\n",
    "#print(p_v_neg)\n",
    "\n",
    "#print( ((p_v_pos * prior) / ((p_v_pos * prior) + (p_v_neg * (1 - prior)))) )\n",
    "print( ((like_in * prior) / ((like_in * prior) + (like_out * (1 - prior)))) )\n"
   ]
  },
  {
   "cell_type": "code",
   "execution_count": 113,
   "metadata": {},
   "outputs": [
    {
     "data": {
      "text/html": [
       "<div>\n",
       "<style scoped>\n",
       "    .dataframe tbody tr th:only-of-type {\n",
       "        vertical-align: middle;\n",
       "    }\n",
       "\n",
       "    .dataframe tbody tr th {\n",
       "        vertical-align: top;\n",
       "    }\n",
       "\n",
       "    .dataframe thead th {\n",
       "        text-align: right;\n",
       "    }\n",
       "</style>\n",
       "<table border=\"1\" class=\"dataframe\">\n",
       "  <thead>\n",
       "    <tr style=\"text-align: right;\">\n",
       "      <th></th>\n",
       "      <th>Name</th>\n",
       "      <th>Threshold</th>\n",
       "      <th>Error rate lr=1</th>\n",
       "      <th>Error rate lr=5</th>\n",
       "    </tr>\n",
       "  </thead>\n",
       "  <tbody>\n",
       "    <tr>\n",
       "      <th>0</th>\n",
       "      <td>Brown&amp;Allison</td>\n",
       "      <td>0.5</td>\n",
       "      <td>0.155</td>\n",
       "      <td>0.454</td>\n",
       "    </tr>\n",
       "    <tr>\n",
       "      <th>1</th>\n",
       "      <td>MV Baseline</td>\n",
       "      <td>0.5</td>\n",
       "      <td>0.156</td>\n",
       "      <td>0.472</td>\n",
       "    </tr>\n",
       "    <tr>\n",
       "      <th>2</th>\n",
       "      <td>SmartStop MV</td>\n",
       "      <td>0.5</td>\n",
       "      <td>0.158</td>\n",
       "      <td>0.471</td>\n",
       "    </tr>\n",
       "    <tr>\n",
       "      <th>3</th>\n",
       "      <td>SmartStop MV</td>\n",
       "      <td>0.6</td>\n",
       "      <td>0.157</td>\n",
       "      <td>0.472</td>\n",
       "    </tr>\n",
       "    <tr>\n",
       "      <th>4</th>\n",
       "      <td>SmartStop MV</td>\n",
       "      <td>0.7</td>\n",
       "      <td>0.115</td>\n",
       "      <td>0.225</td>\n",
       "    </tr>\n",
       "    <tr>\n",
       "      <th>5</th>\n",
       "      <td>SmartStop MV</td>\n",
       "      <td>0.8</td>\n",
       "      <td>0.241</td>\n",
       "      <td>0.271</td>\n",
       "    </tr>\n",
       "    <tr>\n",
       "      <th>6</th>\n",
       "      <td>SmartStop MV</td>\n",
       "      <td>0.9</td>\n",
       "      <td>0.298</td>\n",
       "      <td>0.327</td>\n",
       "    </tr>\n",
       "  </tbody>\n",
       "</table>\n",
       "</div>"
      ],
      "text/plain": [
       "            Name  Threshold  Error rate lr=1  Error rate lr=5\n",
       "0  Brown&Allison        0.5            0.155            0.454\n",
       "1    MV Baseline        0.5            0.156            0.472\n",
       "2   SmartStop MV        0.5            0.158            0.471\n",
       "3   SmartStop MV        0.6            0.157            0.472\n",
       "4   SmartStop MV        0.7            0.115            0.225\n",
       "5   SmartStop MV        0.8            0.241            0.271\n",
       "6   SmartStop MV        0.9            0.298            0.327"
      ]
     },
     "execution_count": 113,
     "metadata": {},
     "output_type": "execute_result"
    }
   ],
   "source": [
    "import numpy as np\n",
    "print_table_columns = [\"Threshold\", \"Cost mean\",\"Cost Std\", \"TC mean\", \"TC std\", \"Loss mean\", \"Loss Std\", \"Recall mean\", \"Recall Std\", \"Precision mean\", \"Precision Std\"]\n",
    "smv_mix = pd.DataFrame({}, columns=print_table_columns)\n",
    "smv_mix[\"Loss lr=5\"] = []\n",
    "smv_mix[\"Name\"] = []\n",
    "\n",
    "smv_mix.loc[0] = [.5, \\\n",
    "             ba_lr1[\"Cost mean\"][0], ba_lr1[\"Cost Std\"][0], \\\n",
    "             ba_lr1[\"TC mean\"][0], ba_lr1[\"TC std\"][0], \\\n",
    "             ba_lr1[\"Loss mean\"][0], ba_lr1[\"Loss Std\"][0], \\\n",
    "             ba_lr1[\"Recall mean\"][0], ba_lr1[\"Recall Std\"][0],\\\n",
    "             ba_lr1[\"Precision mean\"][0], ba_lr1[\"Precision Std\"][0], \\\n",
    "             ba_lr5[\"Loss mean\"][0], \"Brown&Allison\"]\n",
    "\n",
    "smv_mix.loc[1] = [.5, \\\n",
    "             mv_base_lr1[\"Cost mean\"][0], mv_base_lr1[\"Cost Std\"][0], \\\n",
    "             mv_base_lr1[\"TC mean\"][0], mv_base_lr1[\"TC std\"][0], \\\n",
    "             mv_base_lr1[\"Loss mean\"][0], mv_base_lr5[\"Loss Std\"][0], \\\n",
    "             mv_base_lr1[\"Recall mean\"][0], mv_base_lr1[\"Recall Std\"][0],\\\n",
    "             mv_base_lr1[\"Precision mean\"][0], mv_base_lr1[\"Precision Std\"][0], \\\n",
    "             mv_base_lr5[\"Loss mean\"][0], \"MV Baseline\"]\n",
    "\n",
    "smv_lr1 = pd.read_csv('./results/it50_d50_b5_lr1/smart_stop_mv_not_expert_it50_d50_b5_cr05.csv')\n",
    "smv_lr5 = pd.read_csv('./results/it50_d50_b5_lr5/smart_stop_mv_not_expert_it50_d50_b5_cr05.csv')\n",
    "\n",
    "idx = 2\n",
    "for key in range(5):\n",
    "    smv_mix.loc[idx] = [np.mean([smv_lr1[\"Threshold\"][key], smv_lr5[\"Threshold\"][key]]), \\\n",
    "             np.mean([smv_lr1[\"Cost mean\"][key], smv_lr5[\"Cost mean\"][key]]), \\\n",
    "             np.mean([smv_lr1[\"Cost Std\"][key], smv_lr5[\"Cost Std\"][key]]), \\\n",
    "             np.mean([smv_lr1[\"TC mean\"][key], smv_lr5[\"TC mean\"][key]]), \\\n",
    "             np.mean([smv_lr1[\"TC std\"][key], smv_lr5[\"TC std\"][key]]), \\\n",
    "             smv_lr1[\"Loss mean\"][key], \\\n",
    "             np.mean([smv_lr1[\"Loss Std\"][key], smv_lr5[\"Loss Std\"][key]]), \\\n",
    "             np.mean([smv_lr1[\"Recall mean\"][key], smv_lr5[\"Recall mean\"][key]]), \\\n",
    "             np.mean([smv_lr1[\"Recall Std\"][key], smv_lr5[\"Recall Std\"][key]]),\\\n",
    "             np.mean([smv_lr1[\"Precision mean\"][key], smv_lr5[\"Precision mean\"][key]]), \\\n",
    "             np.mean([smv_lr1[\"Precision Std\"][key], smv_lr5[\"Precision Std\"][key]]), \\\n",
    "             smv_lr5[\"Loss mean\"][key], \\\n",
    "                        \"SmartStop MV\"]\n",
    "    \n",
    "    idx += 1\n",
    "\n",
    "\n",
    "df = pd.DataFrame(smv_mix, columns=[\"Name\", \"Threshold\", \"Loss mean\", \"Loss lr=5\"])\n",
    "df.columns = [\"Name\", \"Threshold\", \"Error rate lr=1\", \"Error rate lr=5\"]\n",
    "df"
   ]
  },
  {
   "cell_type": "code",
   "execution_count": 109,
   "metadata": {},
   "outputs": [
    {
     "data": {
      "text/html": [
       "<div>\n",
       "<style scoped>\n",
       "    .dataframe tbody tr th:only-of-type {\n",
       "        vertical-align: middle;\n",
       "    }\n",
       "\n",
       "    .dataframe tbody tr th {\n",
       "        vertical-align: top;\n",
       "    }\n",
       "\n",
       "    .dataframe thead th {\n",
       "        text-align: right;\n",
       "    }\n",
       "</style>\n",
       "<table border=\"1\" class=\"dataframe\">\n",
       "  <thead>\n",
       "    <tr style=\"text-align: right;\">\n",
       "      <th></th>\n",
       "      <th>Threshold</th>\n",
       "      <th>Cost mean</th>\n",
       "      <th>Cost Std</th>\n",
       "      <th>TC mean</th>\n",
       "      <th>TC std</th>\n",
       "      <th>Loss mean</th>\n",
       "      <th>Loss Std</th>\n",
       "      <th>Recall mean</th>\n",
       "      <th>Recall Std</th>\n",
       "      <th>Precision mean</th>\n",
       "      <th>Precision Std</th>\n",
       "    </tr>\n",
       "  </thead>\n",
       "  <tbody>\n",
       "    <tr>\n",
       "      <th>0</th>\n",
       "      <td>0.5</td>\n",
       "      <td>150.000</td>\n",
       "      <td>0.000</td>\n",
       "      <td>150.000</td>\n",
       "      <td>0.000</td>\n",
       "      <td>0.158</td>\n",
       "      <td>0.014</td>\n",
       "      <td>0.841</td>\n",
       "      <td>0.021</td>\n",
       "      <td>0.843</td>\n",
       "      <td>0.014</td>\n",
       "    </tr>\n",
       "    <tr>\n",
       "      <th>1</th>\n",
       "      <td>0.6</td>\n",
       "      <td>150.000</td>\n",
       "      <td>0.000</td>\n",
       "      <td>150.000</td>\n",
       "      <td>0.000</td>\n",
       "      <td>0.157</td>\n",
       "      <td>0.013</td>\n",
       "      <td>0.843</td>\n",
       "      <td>0.017</td>\n",
       "      <td>0.843</td>\n",
       "      <td>0.016</td>\n",
       "    </tr>\n",
       "    <tr>\n",
       "      <th>2</th>\n",
       "      <td>0.7</td>\n",
       "      <td>204.808</td>\n",
       "      <td>2.260</td>\n",
       "      <td>204.808</td>\n",
       "      <td>2.260</td>\n",
       "      <td>0.115</td>\n",
       "      <td>0.010</td>\n",
       "      <td>0.947</td>\n",
       "      <td>0.011</td>\n",
       "      <td>0.842</td>\n",
       "      <td>0.012</td>\n",
       "    </tr>\n",
       "    <tr>\n",
       "      <th>3</th>\n",
       "      <td>0.8</td>\n",
       "      <td>186.900</td>\n",
       "      <td>1.715</td>\n",
       "      <td>186.900</td>\n",
       "      <td>1.715</td>\n",
       "      <td>0.241</td>\n",
       "      <td>0.013</td>\n",
       "      <td>0.983</td>\n",
       "      <td>0.006</td>\n",
       "      <td>0.679</td>\n",
       "      <td>0.012</td>\n",
       "    </tr>\n",
       "    <tr>\n",
       "      <th>4</th>\n",
       "      <td>0.9</td>\n",
       "      <td>150.000</td>\n",
       "      <td>0.000</td>\n",
       "      <td>150.000</td>\n",
       "      <td>0.000</td>\n",
       "      <td>0.298</td>\n",
       "      <td>0.012</td>\n",
       "      <td>0.984</td>\n",
       "      <td>0.006</td>\n",
       "      <td>0.629</td>\n",
       "      <td>0.009</td>\n",
       "    </tr>\n",
       "  </tbody>\n",
       "</table>\n",
       "</div>"
      ],
      "text/plain": [
       "   Threshold  Cost mean  Cost Std  TC mean  TC std  Loss mean  Loss Std  \\\n",
       "0        0.5    150.000     0.000  150.000   0.000      0.158     0.014   \n",
       "1        0.6    150.000     0.000  150.000   0.000      0.157     0.013   \n",
       "2        0.7    204.808     2.260  204.808   2.260      0.115     0.010   \n",
       "3        0.8    186.900     1.715  186.900   1.715      0.241     0.013   \n",
       "4        0.9    150.000     0.000  150.000   0.000      0.298     0.012   \n",
       "\n",
       "   Recall mean  Recall Std  Precision mean  Precision Std  \n",
       "0        0.841       0.021           0.843          0.014  \n",
       "1        0.843       0.017           0.843          0.016  \n",
       "2        0.947       0.011           0.842          0.012  \n",
       "3        0.983       0.006           0.679          0.012  \n",
       "4        0.984       0.006           0.629          0.009  "
      ]
     },
     "execution_count": 109,
     "metadata": {},
     "output_type": "execute_result"
    }
   ],
   "source": [
    "smv_lr1"
   ]
  },
  {
   "cell_type": "code",
   "execution_count": 24,
   "metadata": {},
   "outputs": [
    {
     "data": {
      "text/plain": [
       "0.9999996935751597"
      ]
     },
     "execution_count": 24,
     "metadata": {},
     "output_type": "execute_result"
    }
   ],
   "source": [
    "truth_finder_single(alg_utils.input_adapter_single({3: [1], 5: [1], 1: [0]}))\n"
   ]
  },
  {
   "cell_type": "code",
   "execution_count": 136,
   "metadata": {},
   "outputs": [
    {
     "data": {
      "text/plain": [
       "0.6666666666666666"
      ]
     },
     "execution_count": 136,
     "metadata": {},
     "output_type": "execute_result"
    }
   ],
   "source": [
    "tst = {\n",
    "    0:{0: [1], 1: [1], 2: [0]},\n",
    "    1:{0: [1], 1: [1], 2: [1]},\n",
    "    2:{0: [0], 1: [0], 2: [0]},\n",
    "    3:{0: [1], 1: [0], 2: [0]}\n",
    "}\n",
    "i = 0\n",
    "Psi = alg_utils.input_adapter_single(tst[i])\n",
    "sum([x[1] for x in Psi[0]]) / len(Psi[0])"
   ]
  },
  {
   "cell_type": "code",
   "execution_count": 118,
   "metadata": {},
   "outputs": [
    {
     "data": {
      "text/plain": [
       "[[(0, 1), (1, 1), (2, 1)]]"
      ]
     },
     "execution_count": 118,
     "metadata": {},
     "output_type": "execute_result"
    }
   ],
   "source": [
    "alg_utils.input_adapter_single(tst[i])"
   ]
  },
  {
   "cell_type": "code",
   "execution_count": 10,
   "metadata": {},
   "outputs": [
    {
     "data": {
      "text/plain": [
       "([0.75, 0.9999999999999996, 0.75, nan],\n",
       " [defaultdict(float, {1: 0.9999999999999991, 0: 8.881784197001266e-16}),\n",
       "  defaultdict(float, {1: 1.0}),\n",
       "  defaultdict(float, {0: 1.0}),\n",
       "  defaultdict(float, {1: 8.881784197001266e-16, 0: 0.9999999999999991})])"
      ]
     },
     "execution_count": 10,
     "metadata": {},
     "output_type": "execute_result"
    }
   ],
   "source": [
    "item_votes = {\n",
    "    0:{0: [1], 1: [1], 2: [0]},\n",
    "    1:{0: [1], 1: [1], 2: [1]},\n",
    "    2:{0: [0], 1: [0], 2: [0]},\n",
    "    3:{0: [1], 1: [0], 2: [0]}\n",
    "}\n",
    "expectation_maximization(4, 4, alg_utils.input_adapter(item_votes))\n",
    "#alg_utils.input_adapter(item_votes)"
   ]
  },
  {
   "cell_type": "code",
   "execution_count": 15,
   "metadata": {},
   "outputs": [
    {
     "data": {
      "text/plain": [
       "{0: [1], 1: [1], 2: [0]}"
      ]
     },
     "execution_count": 15,
     "metadata": {},
     "output_type": "execute_result"
    }
   ],
   "source": [
    "next(iter(item_votes.values()))"
   ]
  },
  {
   "cell_type": "code",
   "execution_count": 171,
   "metadata": {},
   "outputs": [
    {
     "name": "stdout",
     "output_type": "stream",
     "text": [
      "1\n",
      "2\n",
      "3\n",
      "4\n",
      "0.1875\n",
      "0.8125\n"
     ]
    },
    {
     "data": {
      "text/plain": [
       "0.1875"
      ]
     },
     "execution_count": 171,
     "metadata": {},
     "output_type": "execute_result"
    }
   ],
   "source": [
    "import math\n",
    "from scipy.stats import beta\n",
    "\n",
    "def gal_uncertainty(a, b, x = .5):\n",
    "    result = 1\n",
    "    a = a + 1\n",
    "    b = b + 1\n",
    "    for j in np.arange(1, a + b, 1):\n",
    "        print(j)\n",
    "        term_1 = math.factorial(a + b - 1) / (math.factorial(j) * math.factorial(a + b - 1 - j))\n",
    "        term_2 = math.pow(x, j)\n",
    "        term_3 = math.pow(1 - x, a + b - 1 - j)\n",
    "\n",
    "        result *= term_1 * term_2 * term_3\n",
    "        \n",
    "    return result\n",
    "    \n",
    "gal_uncertainty(2, 1)\n",
    "\n",
    "v_pos = 1 + 3\n",
    "v_neg = 1 + 1\n",
    "\n",
    "beta_cdf = beta.cdf(.5, v_pos, v_neg, loc=0, scale=1)\n",
    "\n",
    "print(beta_cdf)\n",
    "print(1 - beta_cdf)\n",
    "\n",
    "min(beta_cdf, 1-beta_cdf)"
   ]
  },
  {
   "cell_type": "code",
   "execution_count": 102,
   "metadata": {},
   "outputs": [
    {
     "name": "stdout",
     "output_type": "stream",
     "text": [
      "{'A2HTGQE4AACVRV': 0, 'AYHHOK9GDSWNH': 0, 'A1QRQZWBL1SVEX': 0, 'A3G0MGLBT484I1': 0, 'A7NC1H5ZK7TO0': 0, 'A3MPXWFMR0Y2LK': 0, 'A11GX90QFWDLMM': 1, 'A3PIXX8DQGYHGI': 1, 'A2KONK3TIL5KVX': 0, 'A18941IO2ZZWW6': 1}\n"
     ]
    }
   ],
   "source": [
    "gt = pd.read_csv('data/TEMP/gold.txt', delimiter='\\t', header=None)\n",
    "\n",
    "\n",
    "\n",
    "\n",
    "ground_truth = [str(x) for x in gt[0]]\n",
    "\n",
    "def get_dataset_next_worker_vote(responses, item_votes, i, categories):\n",
    "    item_responses = responses[responses[1] == i]\n",
    "    worker_votes = zip(item_responses[0], item_responses[2])\n",
    "    \n",
    "    for worker_id, worker_vote in worker_votes:\n",
    "        if(worker_id not in item_votes):\n",
    "            return worker_id, list(categories[0]).index(worker_vote) #get binary value 0/1\n",
    "            break\n",
    "                \n",
    "    raise ValueError('empty value')\n",
    "    \n",
    "    #remaining_responses = [x for x in item_responses if x[0] not in item_votes.keys()]\n",
    "    #print(remaining_responses)\n",
    "    \n",
    "categories = pd.read_csv('data/TEMP/categories.txt', delimiter='\\t', header=None)\n",
    "responses = pd.read_csv('data/TEMP/workerResponses.txt', delimiter='\\t', header=None)\n",
    "\n",
    "i = \"42_0\"\n",
    "item_votes = {}\n",
    "for _ in range(10):\n",
    "    worker_id, vote = get_vote(responses, item_votes, i, categories)\n",
    "    item_votes[worker_id] = vote\n",
    "    \n",
    "print(item_votes)"
   ]
  },
  {
   "cell_type": "code",
   "execution_count": 103,
   "metadata": {},
   "outputs": [
    {
     "data": {
      "text/plain": [
       "[array([0.08, 0.16, 0.24, 0.32, 0.4 , 0.48, 0.56, 0.64, 0.72, 0.8 , 0.88,\n",
       "        0.96])]"
      ]
     },
     "execution_count": 103,
     "metadata": {},
     "output_type": "execute_result"
    }
   ],
   "source": [
    "[0.08 * np.arange(1, 13, 1)]"
   ]
  },
  {
   "cell_type": "code",
   "execution_count": 111,
   "metadata": {},
   "outputs": [
    {
     "data": {
      "text/plain": [
       "1.0073866704983199"
      ]
     },
     "execution_count": 111,
     "metadata": {},
     "output_type": "execute_result"
    }
   ],
   "source": [
    "s = np.random.normal(1, .2, 1000)\n",
    "np.mean(s)"
   ]
  },
  {
   "cell_type": "code",
   "execution_count": 143,
   "metadata": {},
   "outputs": [
    {
     "data": {
      "text/plain": [
       "0.5790534449850206"
      ]
     },
     "execution_count": 143,
     "metadata": {},
     "output_type": "execute_result"
    }
   ],
   "source": [
    "task_difficulty = np.random.uniform(0, 1)\n",
    "worker_error = np.random.normal(1., 0.2)\n",
    "worker_acc = .5 * (1 + (1 - task_difficulty) ** worker_error)\n"
   ]
  },
  {
   "cell_type": "code",
   "execution_count": 177,
   "metadata": {},
   "outputs": [
    {
     "data": {
      "text/plain": [
       "0.8338976954244961"
      ]
     },
     "execution_count": 177,
     "metadata": {},
     "output_type": "execute_result"
    }
   ],
   "source": [
    "votes = np.random.binomial(1, .75, 3000)\n",
    "matrix = np.fromfunction(lambda i, j: votes[i*j], (1000, 3), dtype=int)\n",
    "\n",
    "votes_dict = {}\n",
    "i=0\n",
    "for vts in matrix:\n",
    "    votes_dict[i] = {}\n",
    "    k = 0\n",
    "    for vt in vts:\n",
    "        votes_dict[i][k] = [vt]\n",
    "        k += 1\n",
    "    \n",
    "    i += 1\n",
    "    \n",
    "accs, ps = expectation_maximization(3, 1000, alg_utils.input_adapter(votes_dict))\n",
    "np.mean(accs)"
   ]
  },
  {
   "cell_type": "code",
   "execution_count": 5,
   "metadata": {},
   "outputs": [
    {
     "name": "stdout",
     "output_type": "stream",
     "text": [
      "Must continue?\n",
      "{0: {116: [0], 609: [0], 641: [1], 313: [1], 867: [1], 695: [1], 713: [0], 766: [0], 748: [0], 77: [1], 742: [0], 428: [0], 234: [0], 256: [1], 722: [0], 235: [0], 97: [0], 761: [0], 845: [1], 621: [0], 283: [1], 671: [1], 287: [0], 658: [1], 569: [1], 872: [1], 214: [1], 917: [0], 843: [1], 865: [0], 423: [1], 461: [1], 735: [0], 530: [0], 829: [1], 474: [1], 974: [0], 484: [1], 173: [0], 945: [0], 462: [0]}}\n",
      "Results: {0: True}\n",
      "0.5365853658536586\n"
     ]
    }
   ],
   "source": []
  },
  {
   "cell_type": "code",
   "execution_count": null,
   "metadata": {},
   "outputs": [],
   "source": [
    "\n",
    "ct = .9\n",
    "classification_prob_in = truth_finder_single(alg_utils.input_adapter_single(votes[0]))\n",
    "classification_prob_out = 1 - classification_prob_in\n",
    "if ((classification_prob_in > ct) or (classification_prob_out > ct)):\n",
    "    print('tasty')\n",
    "    \n",
    "np.mean([x[0] for k,x in votes[0].items()])"
   ]
  },
  {
   "cell_type": "code",
   "execution_count": 7,
   "metadata": {},
   "outputs": [
    {
     "data": {
      "text/html": [
       "<div>\n",
       "<style scoped>\n",
       "    .dataframe tbody tr th:only-of-type {\n",
       "        vertical-align: middle;\n",
       "    }\n",
       "\n",
       "    .dataframe tbody tr th {\n",
       "        vertical-align: top;\n",
       "    }\n",
       "\n",
       "    .dataframe thead th {\n",
       "        text-align: right;\n",
       "    }\n",
       "</style>\n",
       "<table border=\"1\" class=\"dataframe\">\n",
       "  <thead>\n",
       "    <tr style=\"text-align: right;\">\n",
       "      <th></th>\n",
       "      <th>loss_ratio</th>\n",
       "      <th>cost_ratio</th>\n",
       "      <th>class_fn</th>\n",
       "      <th>decision_fn</th>\n",
       "      <th>data_bal</th>\n",
       "      <th>threshold</th>\n",
       "      <th>cost</th>\n",
       "      <th>cost_std</th>\n",
       "      <th>loss</th>\n",
       "      <th>loss_std</th>\n",
       "      <th>recall</th>\n",
       "      <th>recall_std</th>\n",
       "      <th>precision</th>\n",
       "      <th>precision_std</th>\n",
       "    </tr>\n",
       "  </thead>\n",
       "  <tbody>\n",
       "    <tr>\n",
       "      <th>0</th>\n",
       "      <td>5</td>\n",
       "      <td>0.1</td>\n",
       "      <td>majority_voting</td>\n",
       "      <td>decision_function_bayes</td>\n",
       "      <td>0.5</td>\n",
       "      <td>0.70</td>\n",
       "      <td>300.00</td>\n",
       "      <td>0.000</td>\n",
       "      <td>0.470</td>\n",
       "      <td>0.038</td>\n",
       "      <td>0.844</td>\n",
       "      <td>0.014</td>\n",
       "      <td>0.841</td>\n",
       "      <td>0.011</td>\n",
       "    </tr>\n",
       "    <tr>\n",
       "      <th>1</th>\n",
       "      <td>5</td>\n",
       "      <td>0.1</td>\n",
       "      <td>majority_voting</td>\n",
       "      <td>decision_function_bayes</td>\n",
       "      <td>0.5</td>\n",
       "      <td>0.80</td>\n",
       "      <td>572.41</td>\n",
       "      <td>24.633</td>\n",
       "      <td>0.124</td>\n",
       "      <td>0.018</td>\n",
       "      <td>0.960</td>\n",
       "      <td>0.007</td>\n",
       "      <td>0.954</td>\n",
       "      <td>0.012</td>\n",
       "    </tr>\n",
       "    <tr>\n",
       "      <th>2</th>\n",
       "      <td>5</td>\n",
       "      <td>0.1</td>\n",
       "      <td>majority_voting</td>\n",
       "      <td>decision_function_bayes</td>\n",
       "      <td>0.5</td>\n",
       "      <td>0.90</td>\n",
       "      <td>652.89</td>\n",
       "      <td>38.688</td>\n",
       "      <td>0.105</td>\n",
       "      <td>0.034</td>\n",
       "      <td>0.971</td>\n",
       "      <td>0.013</td>\n",
       "      <td>0.937</td>\n",
       "      <td>0.012</td>\n",
       "    </tr>\n",
       "    <tr>\n",
       "      <th>3</th>\n",
       "      <td>5</td>\n",
       "      <td>0.1</td>\n",
       "      <td>majority_voting</td>\n",
       "      <td>decision_function_bayes</td>\n",
       "      <td>0.5</td>\n",
       "      <td>0.95</td>\n",
       "      <td>666.74</td>\n",
       "      <td>27.611</td>\n",
       "      <td>0.115</td>\n",
       "      <td>0.026</td>\n",
       "      <td>0.971</td>\n",
       "      <td>0.008</td>\n",
       "      <td>0.919</td>\n",
       "      <td>0.014</td>\n",
       "    </tr>\n",
       "  </tbody>\n",
       "</table>\n",
       "</div>"
      ],
      "text/plain": [
       "   loss_ratio  cost_ratio         class_fn              decision_fn  data_bal  \\\n",
       "0           5         0.1  majority_voting  decision_function_bayes       0.5   \n",
       "1           5         0.1  majority_voting  decision_function_bayes       0.5   \n",
       "2           5         0.1  majority_voting  decision_function_bayes       0.5   \n",
       "3           5         0.1  majority_voting  decision_function_bayes       0.5   \n",
       "\n",
       "   threshold    cost  cost_std   loss  loss_std  recall  recall_std  \\\n",
       "0       0.70  300.00     0.000  0.470     0.038   0.844       0.014   \n",
       "1       0.80  572.41    24.633  0.124     0.018   0.960       0.007   \n",
       "2       0.90  652.89    38.688  0.105     0.034   0.971       0.013   \n",
       "3       0.95  666.74    27.611  0.115     0.026   0.971       0.008   \n",
       "\n",
       "   precision  precision_std  \n",
       "0      0.841          0.011  \n",
       "1      0.954          0.012  \n",
       "2      0.937          0.012  \n",
       "3      0.919          0.014  "
      ]
     },
     "execution_count": 7,
     "metadata": {},
     "output_type": "execute_result"
    }
   ],
   "source": [
    "data = pd.read_csv('./results/simulated_dataset/all_combinations_results_cr10_all.csv')\n",
    "data[data['class_fn']=='majority_voting'][data['decision_fn']=='decision_function_bayes'][data['data_bal']==0.5][data['cost_ratio']==0.1]"
   ]
  },
  {
   "cell_type": "code",
   "execution_count": 9,
   "metadata": {},
   "outputs": [
    {
     "data": {
      "image/png": "[encoded data removed]",
      "text/plain": [
       "<Figure size 1440x800 with 1 Axes>"
      ]
     },
     "metadata": {},
     "output_type": "display_data"
    }
   ],
   "source": [
    "#smv_05 = pd.read_csv('./results/mv/simulated/it50_d50_b5_lr5/smart_stop_mv_not_expert_it50_d50_b5_cr05.csv')\n",
    "data = pd.read_csv('./results/simulated_dataset/all_combinations_results_cr10_all.csv')\n",
    "smv_05 = data[data['class_fn']=='majority_voting'][data['decision_fn']=='decision_function_bayes'][data['data_bal']==0.5][data['cost_ratio']==0.1]\n",
    "\n",
    "\n",
    "plt.figure(num=2, figsize=(18, 10), dpi=80, facecolor='w', edgecolor='k')\n",
    "plt.tight_layout()\n",
    "ind = [.2, .4, .6, .8]    # the x locations for the groups\n",
    "width = 0.05       # the width of the bars: can also be len(x) sequence\n",
    "\n",
    "cost_mean = smv_05[\"cost\"]/smv_05[\"cost_ratio\"]/1000\n",
    "cost_std = smv_05[\"cost_std\"]/smv_05[\"cost_ratio\"]/1000\n",
    "\n",
    "plt.subplot(221)\n",
    "\n",
    "p1 = plt.bar(ind, cost_mean, width, yerr=cost_std)\n",
    "loss_mean = smv_05[\"loss\"]\n",
    "loss_std = smv_05[\"loss_std\"]\n",
    "p2 = plt.bar(ind, loss_mean, width, yerr=loss_std)\n",
    "#plt.ylabel('Cost/Loss')\n",
    "plt.title('Cost&Loss SmartStopMV Balanced Data')\n",
    "plt.legend((p1[0], p2[0]), ('Cost', 'Loss'))\n",
    "plt.xticks(ind, ('.7', '.8','.9', '.95'))\n",
    "\n",
    "\n",
    "\n",
    "plt.show()"
   ]
  },
  {
   "cell_type": "code",
   "execution_count": 10,
   "metadata": {},
   "outputs": [
    {
     "ename": "IndexError",
     "evalue": "list index out of range",
     "output_type": "error",
     "traceback": [
      "\u001b[0;31m---------------------------------------------------------------------------\u001b[0m",
      "\u001b[0;31mIndexError\u001b[0m                                Traceback (most recent call last)",
      "\u001b[0;32m<ipython-input-10-a6cf7b4d1fc0>\u001b[0m in \u001b[0;36m<module>\u001b[0;34m()\u001b[0m\n\u001b[1;32m     46\u001b[0m \u001b[0mwidth\u001b[0m \u001b[0;34m=\u001b[0m \u001b[0;36m0.05\u001b[0m\u001b[0;34m\u001b[0m\u001b[0m\n\u001b[1;32m     47\u001b[0m \u001b[0;34m\u001b[0m\u001b[0m\n\u001b[0;32m---> 48\u001b[0;31m \u001b[0mcost_mean\u001b[0m\u001b[0;34m,\u001b[0m \u001b[0mcost_std\u001b[0m \u001b[0;34m=\u001b[0m \u001b[0mget_approaches_results\u001b[0m\u001b[0;34m(\u001b[0m\u001b[0mdatasets_print\u001b[0m\u001b[0;34m,\u001b[0m \u001b[0;34m\"cost\"\u001b[0m\u001b[0;34m,\u001b[0m \u001b[0;34m\"cost_std\"\u001b[0m\u001b[0;34m)\u001b[0m\u001b[0;34m\u001b[0m\u001b[0m\n\u001b[0m\u001b[1;32m     49\u001b[0m \u001b[0;34m\u001b[0m\u001b[0m\n\u001b[1;32m     50\u001b[0m \u001b[0mplt\u001b[0m\u001b[0;34m.\u001b[0m\u001b[0msubplot\u001b[0m\u001b[0;34m(\u001b[0m\u001b[0;36m221\u001b[0m\u001b[0;34m)\u001b[0m\u001b[0;34m\u001b[0m\u001b[0m\n",
      "\u001b[0;32m<ipython-input-10-a6cf7b4d1fc0>\u001b[0m in \u001b[0;36mget_approaches_results\u001b[0;34m(datasets, column_mean, column_std)\u001b[0m\n\u001b[1;32m     26\u001b[0m     \u001b[0mi\u001b[0m \u001b[0;34m=\u001b[0m \u001b[0;36m2\u001b[0m\u001b[0;34m\u001b[0m\u001b[0m\n\u001b[1;32m     27\u001b[0m     \u001b[0;32mfor\u001b[0m \u001b[0m_\u001b[0m \u001b[0;32min\u001b[0m \u001b[0mrange\u001b[0m\u001b[0;34m(\u001b[0m\u001b[0;36m3\u001b[0m\u001b[0;34m)\u001b[0m\u001b[0;34m:\u001b[0m\u001b[0;34m\u001b[0m\u001b[0m\n\u001b[0;32m---> 28\u001b[0;31m         \u001b[0mmean\u001b[0m\u001b[0;34m.\u001b[0m\u001b[0mappend\u001b[0m\u001b[0;34m(\u001b[0m\u001b[0mlist\u001b[0m\u001b[0;34m(\u001b[0m\u001b[0mdatasets\u001b[0m\u001b[0;34m[\u001b[0m\u001b[0;36m2\u001b[0m\u001b[0;34m]\u001b[0m\u001b[0;34m[\u001b[0m\u001b[0mcolumn_mean\u001b[0m\u001b[0;34m]\u001b[0m\u001b[0;34m)\u001b[0m\u001b[0;34m[\u001b[0m\u001b[0mi\u001b[0m\u001b[0;34m]\u001b[0m\u001b[0;34m)\u001b[0m\u001b[0;34m\u001b[0m\u001b[0m\n\u001b[0m\u001b[1;32m     29\u001b[0m         \u001b[0mstd\u001b[0m\u001b[0;34m.\u001b[0m\u001b[0mappend\u001b[0m\u001b[0;34m(\u001b[0m\u001b[0mlist\u001b[0m\u001b[0;34m(\u001b[0m\u001b[0mdatasets\u001b[0m\u001b[0;34m[\u001b[0m\u001b[0;36m2\u001b[0m\u001b[0;34m]\u001b[0m\u001b[0;34m[\u001b[0m\u001b[0mcolumn_std\u001b[0m\u001b[0;34m]\u001b[0m\u001b[0;34m)\u001b[0m\u001b[0;34m[\u001b[0m\u001b[0mi\u001b[0m\u001b[0;34m]\u001b[0m\u001b[0;34m)\u001b[0m\u001b[0;34m\u001b[0m\u001b[0m\n\u001b[1;32m     30\u001b[0m \u001b[0;34m\u001b[0m\u001b[0m\n",
      "\u001b[0;31mIndexError\u001b[0m: list index out of range"
     ]
    },
    {
     "data": {
      "text/plain": [
       "<Figure size 1440x800 with 0 Axes>"
      ]
     },
     "metadata": {},
     "output_type": "display_data"
    }
   ],
   "source": [
    "from IPython.core import display as ICD\n",
    "\n",
    "data = pd.read_csv('./results/simulated_dataset/all_combinations_results_mv_base.csv')\n",
    "mv_base_01 = data[data['class_fn']=='majority_voting'][data['data_bal']==0.5][data['cost_ratio']==0.05][data['threshold'] in [.7,.8,.9]]\n",
    "\n",
    "data = pd.read_csv('./results/simulated_dataset/all_combinations_results_break_tie.csv')\n",
    "ba_01 = data[data['class_fn']=='majority_voting'][data['data_bal']==0.5][data['cost_ratio']==0.05][data['threshold'] in [.7,.8,.9]]\n",
    "\n",
    "data = pd.read_csv('./results/simulated_dataset/all_combinations_results_cr10_all.csv')\n",
    "smv_01 = data[data['class_fn']=='majority_voting'][data['decision_fn']=='decision_function_bayes'][data['data_bal']==0.5][data['cost_ratio']==0.05][data['threshold'] in [.7,.8,.9]]\n",
    "\n",
    "sem_05 = data[data['class_fn']=='truth_finder_single'][data['decision_fn']=='decision_function_bayes'][data['data_bal']==0.5][data['cost_ratio']==0.05][data['threshold'] in [.7,.8,.9]]\n",
    "\n",
    "#plot\n",
    "datasets_print = [mv_base_01, ba_01, smv_01, sem_05]\n",
    "\n",
    "def get_approaches_results(datasets, column_mean, column_std):\n",
    "    mean = []\n",
    "    std = []\n",
    "    #initial\n",
    "    mean.append(datasets[0][column_mean][0])\n",
    "    std.append(datasets[0][column_std][0])\n",
    "    mean.append(datasets[1][column_mean][0])\n",
    "    std.append(datasets[1][column_std][0])\n",
    "\n",
    "    i = 2\n",
    "    for _ in range(3):\n",
    "        mean.append(list(datasets[2][column_mean])[i])\n",
    "        std.append(list(datasets[2][column_std])[i])\n",
    "        \n",
    "        i += 1\n",
    "    i = 2\n",
    "    for _ in range(3):\n",
    "        mean.append(list(datasets[3][column_mean])[i])\n",
    "        std.append(list(datasets[3][column_std])[i])\n",
    "        \n",
    "        i += 1\n",
    "        \n",
    "    return mean, std\n",
    "\n",
    "plt.figure(num=None, figsize=(18, 10), dpi=80, facecolor='w', edgecolor='k')\n",
    "plt.tight_layout()\n",
    "#ind = [.14, .28, .42, .56, .70 , .84, 1]    # the x locations for the groups\n",
    "elems = 8\n",
    "ind = [1/(elems+1) * (i+1) for i in range(elems)]\n",
    "width = 0.05\n",
    "\n",
    "cost_mean, cost_std = get_approaches_results(datasets_print, \"cost\", \"cost_std\")\n",
    "\n",
    "plt.subplot(221)\n",
    "\n",
    "p1 = plt.bar(ind, [x/0.05/1000 for x in cost_mean], width, yerr=[x/0.05/1000 for x in cost_std])\n",
    "loss_mean, loss_std = get_approaches_results(datasets_print, \"loss\", \"loss_std\")\n",
    "p2 = plt.bar(ind, loss_mean, width, yerr=loss_std)\n",
    "plt.ylabel('Cost')\n",
    "plt.title('Approaches overall cost in units')\n",
    "plt.xticks(ind, ('MV Base', 'B&A', 'SMV.07', 'SMV.8', 'SMV.09', 'STF.07', 'STF.8', 'STF.09'))\n",
    "plt.legend((p1[0], p2[0]), ('Cost', 'Loss'))\n",
    "'''\n",
    "plt.subplot(222)\n",
    "loss_mean, loss_std = get_approaches_results(datasets_print, \"loss\", \"loss_std\")\n",
    "p2 = plt.bar(ind, loss_mean, width, yerr=loss_std)\n",
    "plt.ylabel('Loss')\n",
    "plt.title('Loss plot')\n",
    "plt.xticks(ind, ('MV Base', 'B&A', 'SMV.07', 'SMV.8', 'SMV.09', 'STF.07', 'STF.8', 'STF.09'))\n",
    "'''\n",
    "\n",
    "plt.subplot(223)\n",
    "loss_mean, loss_std = get_approaches_results(datasets_print, \"precision\", \"precision_std\")\n",
    "p2 = plt.bar(ind, loss_mean, width, yerr=loss_std)\n",
    "plt.ylabel('Precision')\n",
    "plt.title('Precision plot')\n",
    "plt.xticks(ind, ('MV Base', 'B&A', 'SMV.07', 'SMV.8', 'SMV.09', 'STF.07', 'STF.8', 'STF.09'))\n",
    "\n",
    "\n",
    "plt.subplot(224)\n",
    "loss_mean, loss_std = get_approaches_results(datasets_print, \"recall\", \"recall_std\")\n",
    "p2 = plt.bar(ind, loss_mean, width, yerr=loss_std)\n",
    "plt.ylabel('Recall')\n",
    "plt.title('Recall plot')\n",
    "plt.xticks(ind, ('MV Base', 'B&A', 'SMV.07', 'SMV.8', 'SMV.09', 'STF.07', 'STF.8', 'STF.09'))\n",
    "\n",
    "plt.show()\n"
   ]
  },
  {
   "cell_type": "code",
   "execution_count": 38,
   "metadata": {},
   "outputs": [
    {
     "data": {
      "image/png": "[encoded data removed]",
      "text/plain": [
       "<Figure size 1440x800 with 1 Axes>"
      ]
     },
     "metadata": {},
     "output_type": "display_data"
    }
   ],
   "source": [
    "data = pd.read_csv('./results/simulated_dataset/all_combinations_results.csv')\n",
    "\n",
    "bayes_mv_05 = data[data['class_fn']=='majority_voting'][data['decision_fn']=='decision_function_bayes'][data['data_bal']==0.5][data['cost_ratio']==0.05]\n",
    "\n",
    "bayes_tf_05 = data[data['class_fn']=='truth_finder_single'][data['decision_fn']=='decision_function_bayes'][data['data_bal']==0.5][data['cost_ratio']==0.05]\n",
    "\n",
    "bayes_mv_01 = data[data['class_fn']=='majority_voting'][data['decision_fn']=='decision_function_bayes'][data['data_bal']==0.5][data['cost_ratio']==0.1]\n",
    "\n",
    "bayes_tf_01 = data[data['class_fn']=='truth_finder_single'][data['decision_fn']=='decision_function_bayes'][data['data_bal']==0.5][data['cost_ratio']==0.1]\n",
    "\n",
    "\n",
    "ths = bayes_mv['threshold']\n",
    "\n",
    "bayes_mv_cost_05 = bayes_mv_05['cost']/bayes_mv_05['cost_ratio']/1000\n",
    "bayes_mv_cost_std_05 = bayes_mv_05['cost_std']/bayes_mv_05['cost_ratio']/1000\n",
    "bayes_mv_loss_05 = bayes_mv_05['loss']\n",
    "bayes_mv_loss_std_05 = bayes_mv_05['loss_std']\n",
    "\n",
    "bayes_tf_cost_05 = bayes_mv_05['cost']/bayes_mv_05['cost_ratio']/1000\n",
    "bayes_tf_cost_std_05 = bayes_mv_05['cost_std']/bayes_mv_05['cost_ratio']/1000\n",
    "bayes_tf_loss_05 = bayes_mv_05['loss']\n",
    "bayes_tf_loss_std_05 = bayes_mv_05['loss_std']\n",
    "\n",
    "bayes_mv_cost_05 = bayes_mv_05['precision']\n",
    "bayes_mv_cost_std_05 = bayes_mv_05['precision_std']\n",
    "bayes_mv_loss_05 = bayes_mv_05['loss']\n",
    "bayes_mv_loss_std_05 = bayes_mv_05['loss_std']\n",
    "\n",
    "\n",
    "plt.figure(num=None, figsize=(18, 10), dpi=80, facecolor='w', edgecolor='k')\n",
    "plt.tight_layout()\n",
    "#ind = [.14, .28, .42, .56, .70 , .84, 1]    # the x locations for the groups\n",
    "elems = 4\n",
    "ind = [1/(elems+1) * (i+1) for i in range(elems)]\n",
    "width = 0.05\n",
    "\n",
    "plt.subplot(221)\n",
    "p1 = plt.bar(ind, bayes_mv_cost_05, width, yerr=bayes_mv_cost_std_05)\n",
    "p2 = plt.bar(ind, bayes_mv_loss_05, width, yerr=bayes_mv_loss_std_05)\n",
    "plt.ylabel('Cost per item')\n",
    "plt.title('SmartStop Cost/Loss')\n",
    "plt.xticks(ind, ('.7','.8','.9','.95'))\n",
    "plt.legend((p1[0], p2[0]), ('Cost', 'Loss'))\n",
    "\n",
    "\n",
    "\n",
    "plt.show()\n"
   ]
  },
  {
   "cell_type": "code",
   "execution_count": null,
   "metadata": {},
   "outputs": [],
   "source": []
  },
  {
   "cell_type": "code",
   "execution_count": 55,
   "metadata": {},
   "outputs": [
    {
     "data": {
      "text/html": [
       "<div>\n",
       "<style scoped>\n",
       "    .dataframe tbody tr th:only-of-type {\n",
       "        vertical-align: middle;\n",
       "    }\n",
       "\n",
       "    .dataframe tbody tr th {\n",
       "        vertical-align: top;\n",
       "    }\n",
       "\n",
       "    .dataframe thead th {\n",
       "        text-align: right;\n",
       "    }\n",
       "</style>\n",
       "<table border=\"1\" class=\"dataframe\">\n",
       "  <thead>\n",
       "    <tr style=\"text-align: right;\">\n",
       "      <th></th>\n",
       "      <th>loss_ratio</th>\n",
       "      <th>cost_ratio</th>\n",
       "      <th>class_fn</th>\n",
       "      <th>decision_fn</th>\n",
       "      <th>data_bal</th>\n",
       "      <th>threshold</th>\n",
       "      <th>cost</th>\n",
       "      <th>cost_std</th>\n",
       "      <th>loss</th>\n",
       "      <th>loss_std</th>\n",
       "      <th>recall</th>\n",
       "      <th>recall_std</th>\n",
       "      <th>precision</th>\n",
       "      <th>precision_std</th>\n",
       "    </tr>\n",
       "  </thead>\n",
       "  <tbody>\n",
       "    <tr>\n",
       "      <th>30</th>\n",
       "      <td>5</td>\n",
       "      <td>0.05</td>\n",
       "      <td>majority_voting</td>\n",
       "      <td>decision_function_bayes</td>\n",
       "      <td>0.5</td>\n",
       "      <td>0.95</td>\n",
       "      <td>441.755</td>\n",
       "      <td>21.413</td>\n",
       "      <td>0.057</td>\n",
       "      <td>0.012</td>\n",
       "      <td>0.981</td>\n",
       "      <td>0.005</td>\n",
       "      <td>0.980</td>\n",
       "      <td>0.004</td>\n",
       "    </tr>\n",
       "    <tr>\n",
       "      <th>70</th>\n",
       "      <td>5</td>\n",
       "      <td>0.05</td>\n",
       "      <td>majority_voting</td>\n",
       "      <td>decision_function_bayes</td>\n",
       "      <td>0.3</td>\n",
       "      <td>0.95</td>\n",
       "      <td>449.670</td>\n",
       "      <td>20.436</td>\n",
       "      <td>0.045</td>\n",
       "      <td>0.009</td>\n",
       "      <td>0.980</td>\n",
       "      <td>0.007</td>\n",
       "      <td>0.954</td>\n",
       "      <td>0.013</td>\n",
       "    </tr>\n",
       "    <tr>\n",
       "      <th>86</th>\n",
       "      <td>5</td>\n",
       "      <td>0.05</td>\n",
       "      <td>majority_voting</td>\n",
       "      <td>decision_function_bayes</td>\n",
       "      <td>0.1</td>\n",
       "      <td>0.95</td>\n",
       "      <td>433.325</td>\n",
       "      <td>21.522</td>\n",
       "      <td>0.029</td>\n",
       "      <td>0.008</td>\n",
       "      <td>0.985</td>\n",
       "      <td>0.014</td>\n",
       "      <td>0.819</td>\n",
       "      <td>0.018</td>\n",
       "    </tr>\n",
       "  </tbody>\n",
       "</table>\n",
       "</div>"
      ],
      "text/plain": [
       "    loss_ratio  cost_ratio         class_fn              decision_fn  \\\n",
       "30           5        0.05  majority_voting  decision_function_bayes   \n",
       "70           5        0.05  majority_voting  decision_function_bayes   \n",
       "86           5        0.05  majority_voting  decision_function_bayes   \n",
       "\n",
       "    data_bal  threshold     cost  cost_std   loss  loss_std  recall  \\\n",
       "30       0.5       0.95  441.755    21.413  0.057     0.012   0.981   \n",
       "70       0.3       0.95  449.670    20.436  0.045     0.009   0.980   \n",
       "86       0.1       0.95  433.325    21.522  0.029     0.008   0.985   \n",
       "\n",
       "    recall_std  precision  precision_std  \n",
       "30       0.005      0.980          0.004  \n",
       "70       0.007      0.954          0.013  \n",
       "86       0.014      0.819          0.018  "
      ]
     },
     "metadata": {},
     "output_type": "display_data"
    },
    {
     "data": {
      "text/html": [
       "<div>\n",
       "<style scoped>\n",
       "    .dataframe tbody tr th:only-of-type {\n",
       "        vertical-align: middle;\n",
       "    }\n",
       "\n",
       "    .dataframe tbody tr th {\n",
       "        vertical-align: top;\n",
       "    }\n",
       "\n",
       "    .dataframe thead th {\n",
       "        text-align: right;\n",
       "    }\n",
       "</style>\n",
       "<table border=\"1\" class=\"dataframe\">\n",
       "  <thead>\n",
       "    <tr style=\"text-align: right;\">\n",
       "      <th></th>\n",
       "      <th>0</th>\n",
       "      <th>1</th>\n",
       "      <th>2</th>\n",
       "      <th>3</th>\n",
       "      <th>4</th>\n",
       "      <th>5</th>\n",
       "      <th>6</th>\n",
       "      <th>7</th>\n",
       "      <th>8</th>\n",
       "      <th>9</th>\n",
       "      <th>10</th>\n",
       "      <th>11</th>\n",
       "      <th>12</th>\n",
       "      <th>13</th>\n",
       "      <th>14</th>\n",
       "      <th>15</th>\n",
       "    </tr>\n",
       "  </thead>\n",
       "  <tbody>\n",
       "    <tr>\n",
       "      <th>0</th>\n",
       "      <td>c</td>\n",
       "      <td>e</td>\n",
       "      <td>loss_ratio</td>\n",
       "      <td>cost_ratio</td>\n",
       "      <td>class_fn</td>\n",
       "      <td>decision_fn</td>\n",
       "      <td>data_bal</td>\n",
       "      <td>threshold</td>\n",
       "      <td>cost</td>\n",
       "      <td>cost_std</td>\n",
       "      <td>loss</td>\n",
       "      <td>loss_std</td>\n",
       "      <td>recall</td>\n",
       "      <td>recall_std</td>\n",
       "      <td>precision</td>\n",
       "      <td>precision_std</td>\n",
       "    </tr>\n",
       "    <tr>\n",
       "      <th>1</th>\n",
       "      <td>2</td>\n",
       "      <td>0.02</td>\n",
       "      <td>5</td>\n",
       "      <td>0.05</td>\n",
       "      <td>majority_voting</td>\n",
       "      <td>abraham_decision</td>\n",
       "      <td>0.5</td>\n",
       "      <td>0.5</td>\n",
       "      <td>684.988</td>\n",
       "      <td>24.775</td>\n",
       "      <td>0.01</td>\n",
       "      <td>0.006</td>\n",
       "      <td>0.995</td>\n",
       "      <td>0.004</td>\n",
       "      <td>0.991</td>\n",
       "      <td>0.005</td>\n",
       "    </tr>\n",
       "    <tr>\n",
       "      <th>2</th>\n",
       "      <td>2</td>\n",
       "      <td>0.02</td>\n",
       "      <td>5</td>\n",
       "      <td>0.05</td>\n",
       "      <td>majority_voting</td>\n",
       "      <td>abraham_decision</td>\n",
       "      <td>0.3</td>\n",
       "      <td>0.5</td>\n",
       "      <td>689.745</td>\n",
       "      <td>23.012</td>\n",
       "      <td>0.01</td>\n",
       "      <td>0.006</td>\n",
       "      <td>0.995</td>\n",
       "      <td>0.004</td>\n",
       "      <td>0.99</td>\n",
       "      <td>0.006</td>\n",
       "    </tr>\n",
       "    <tr>\n",
       "      <th>3</th>\n",
       "      <td>2</td>\n",
       "      <td>0.02</td>\n",
       "      <td>5</td>\n",
       "      <td>0.05</td>\n",
       "      <td>majority_voting</td>\n",
       "      <td>abraham_decision</td>\n",
       "      <td>0.1</td>\n",
       "      <td>0.5</td>\n",
       "      <td>687.888</td>\n",
       "      <td>24.446</td>\n",
       "      <td>0.01</td>\n",
       "      <td>0.006</td>\n",
       "      <td>0.996</td>\n",
       "      <td>0.004</td>\n",
       "      <td>0.989</td>\n",
       "      <td>0.005</td>\n",
       "    </tr>\n",
       "  </tbody>\n",
       "</table>\n",
       "</div>"
      ],
      "text/plain": [
       "  0     1           2           3                4                 5   \\\n",
       "0  c     e  loss_ratio  cost_ratio         class_fn       decision_fn   \n",
       "1  2  0.02           5        0.05  majority_voting  abraham_decision   \n",
       "2  2  0.02           5        0.05  majority_voting  abraham_decision   \n",
       "3  2  0.02           5        0.05  majority_voting  abraham_decision   \n",
       "\n",
       "         6          7        8         9     10        11      12          13  \\\n",
       "0  data_bal  threshold     cost  cost_std  loss  loss_std  recall  recall_std   \n",
       "1       0.5        0.5  684.988    24.775  0.01     0.006   0.995       0.004   \n",
       "2       0.3        0.5  689.745    23.012  0.01     0.006   0.995       0.004   \n",
       "3       0.1        0.5  687.888    24.446  0.01     0.006   0.996       0.004   \n",
       "\n",
       "          14             15  \n",
       "0  precision  precision_std  \n",
       "1      0.991          0.005  \n",
       "2       0.99          0.006  \n",
       "3      0.989          0.005  "
      ]
     },
     "metadata": {},
     "output_type": "display_data"
    }
   ],
   "source": [
    "from IPython.core import display as ICD\n",
    "data = pd.read_csv('./results/simulated_dataset/all_combinations_results.csv')\n",
    "\n",
    "bayes_mv_05 = data[data['class_fn']=='majority_voting'][data['decision_fn']=='decision_function_bayes'][data['cost_ratio']==0.05][data['threshold']==0.95]\n",
    "\n",
    "data = pd.read_csv('./results/abraham/results_c2_e02.csv')\n",
    "\n",
    "abraham = data#data[data['data_bal']==0.5]\n",
    "\n",
    "ICD.display(bayes_mv_05)\n",
    "ICD.display(abraham)\n",
    "\n",
    "\n"
   ]
  },
  {
   "cell_type": "code",
   "execution_count": 270,
   "metadata": {},
   "outputs": [
    {
     "ename": "TypeError",
     "evalue": "invalid type comparison",
     "output_type": "error",
     "traceback": [
      "\u001b[0;31m---------------------------------------------------------------------------\u001b[0m",
      "\u001b[0;31mTypeError\u001b[0m                                 Traceback (most recent call last)",
      "\u001b[0;32m<ipython-input-270-31ae74e7c605>\u001b[0m in \u001b[0;36m<module>\u001b[0;34m()\u001b[0m\n\u001b[1;32m     31\u001b[0m             \u001b[0mworker_vote_task\u001b[0m \u001b[0;34m=\u001b[0m \u001b[0mworker_vote_info\u001b[0m\u001b[0;34m[\u001b[0m\u001b[0;36m1\u001b[0m\u001b[0;34m]\u001b[0m\u001b[0;34m\u001b[0m\u001b[0m\n\u001b[1;32m     32\u001b[0m             \u001b[0mworker_vote\u001b[0m \u001b[0;34m=\u001b[0m \u001b[0mworker_vote_info\u001b[0m\u001b[0;34m[\u001b[0m\u001b[0;36m2\u001b[0m\u001b[0;34m]\u001b[0m\u001b[0;34m\u001b[0m\u001b[0m\n\u001b[0;32m---> 33\u001b[0;31m             \u001b[0mprint\u001b[0m\u001b[0;34m(\u001b[0m\u001b[0mground_truth\u001b[0m\u001b[0;34m[\u001b[0m\u001b[0mground_truth\u001b[0m\u001b[0;34m[\u001b[0m\u001b[0;36m0\u001b[0m\u001b[0;34m]\u001b[0m\u001b[0;34m==\u001b[0m\u001b[0mworker_vote_task\u001b[0m\u001b[0;34m]\u001b[0m\u001b[0;34m)\u001b[0m\u001b[0;34m\u001b[0m\u001b[0m\n\u001b[0m\u001b[1;32m     34\u001b[0m \u001b[0;34m\u001b[0m\u001b[0m\n\u001b[1;32m     35\u001b[0m             \u001b[0mgt_val\u001b[0m \u001b[0;34m=\u001b[0m \u001b[0mground_truth\u001b[0m\u001b[0;34m[\u001b[0m\u001b[0mground_truth\u001b[0m\u001b[0;34m[\u001b[0m\u001b[0;36m0\u001b[0m\u001b[0;34m]\u001b[0m\u001b[0;34m==\u001b[0m\u001b[0mworker_vote_task\u001b[0m\u001b[0;34m]\u001b[0m\u001b[0;34m[\u001b[0m\u001b[0;36m1\u001b[0m\u001b[0;34m]\u001b[0m\u001b[0;34m\u001b[0m\u001b[0m\n",
      "\u001b[0;32m~/anaconda3/lib/python3.7/site-packages/pandas/core/ops.py\u001b[0m in \u001b[0;36mwrapper\u001b[0;34m(self, other, axis)\u001b[0m\n\u001b[1;32m   1281\u001b[0m \u001b[0;34m\u001b[0m\u001b[0m\n\u001b[1;32m   1282\u001b[0m             \u001b[0;32mwith\u001b[0m \u001b[0mnp\u001b[0m\u001b[0;34m.\u001b[0m\u001b[0merrstate\u001b[0m\u001b[0;34m(\u001b[0m\u001b[0mall\u001b[0m\u001b[0;34m=\u001b[0m\u001b[0;34m'ignore'\u001b[0m\u001b[0;34m)\u001b[0m\u001b[0;34m:\u001b[0m\u001b[0;34m\u001b[0m\u001b[0m\n\u001b[0;32m-> 1283\u001b[0;31m                 \u001b[0mres\u001b[0m \u001b[0;34m=\u001b[0m \u001b[0mna_op\u001b[0m\u001b[0;34m(\u001b[0m\u001b[0mvalues\u001b[0m\u001b[0;34m,\u001b[0m \u001b[0mother\u001b[0m\u001b[0;34m)\u001b[0m\u001b[0;34m\u001b[0m\u001b[0m\n\u001b[0m\u001b[1;32m   1284\u001b[0m             \u001b[0;32mif\u001b[0m \u001b[0mis_scalar\u001b[0m\u001b[0;34m(\u001b[0m\u001b[0mres\u001b[0m\u001b[0;34m)\u001b[0m\u001b[0;34m:\u001b[0m\u001b[0;34m\u001b[0m\u001b[0m\n\u001b[1;32m   1285\u001b[0m                 raise TypeError('Could not compare {typ} type with Series'\n",
      "\u001b[0;32m~/anaconda3/lib/python3.7/site-packages/pandas/core/ops.py\u001b[0m in \u001b[0;36mna_op\u001b[0;34m(x, y)\u001b[0m\n\u001b[1;32m   1167\u001b[0m                     \u001b[0mresult\u001b[0m \u001b[0;34m=\u001b[0m \u001b[0mmethod\u001b[0m\u001b[0;34m(\u001b[0m\u001b[0my\u001b[0m\u001b[0;34m)\u001b[0m\u001b[0;34m\u001b[0m\u001b[0m\n\u001b[1;32m   1168\u001b[0m                 \u001b[0;32mif\u001b[0m \u001b[0mresult\u001b[0m \u001b[0;32mis\u001b[0m \u001b[0mNotImplemented\u001b[0m\u001b[0;34m:\u001b[0m\u001b[0;34m\u001b[0m\u001b[0m\n\u001b[0;32m-> 1169\u001b[0;31m                     \u001b[0;32mraise\u001b[0m \u001b[0mTypeError\u001b[0m\u001b[0;34m(\u001b[0m\u001b[0;34m\"invalid type comparison\"\u001b[0m\u001b[0;34m)\u001b[0m\u001b[0;34m\u001b[0m\u001b[0m\n\u001b[0m\u001b[1;32m   1170\u001b[0m             \u001b[0;32melse\u001b[0m\u001b[0;34m:\u001b[0m\u001b[0;34m\u001b[0m\u001b[0m\n\u001b[1;32m   1171\u001b[0m                 \u001b[0mresult\u001b[0m \u001b[0;34m=\u001b[0m \u001b[0mop\u001b[0m\u001b[0;34m(\u001b[0m\u001b[0mx\u001b[0m\u001b[0;34m,\u001b[0m \u001b[0my\u001b[0m\u001b[0;34m)\u001b[0m\u001b[0;34m\u001b[0m\u001b[0m\n",
      "\u001b[0;31mTypeError\u001b[0m: invalid type comparison"
     ]
    }
   ],
   "source": [
    "datasets = [\n",
    "    #{'folder':'amazon-sentiment-dataset', 'filename':'1k_amazon_reviews_crowdsourced_lemmatized_min3votes.csv','predicates': ['is_negative', 'is_book']},\n",
    "    #{'folder':'loneliness-dataset-2018', 'filename':'loneliness-dataset-2018.csv','predicates': ['oa_predicate', 'study_predicate']},\n",
    "    #{'folder':'ohsumed_data', 'filename':'ohsumed_C14_C23_1grams.csv','predicates': ['C14', 'C23']},\n",
    "    {'folder':'BarzanMozafari', 'filename':'ground_truth_normalized.csv','predicates':['gt']},\n",
    "    #{'folder':'HyunCatherines_Binary', 'filename':'ground_truth_normalized.csv','predicates':['gt']},  \n",
    "    #{'folder':'RTE', 'filename':'ground_truth_normalized.csv','predicates':['gt']},\n",
    "    #{'folder':'SpamCF', 'filename':'ground_truth_normalized.csv','predicates':['gt']},\n",
    "    #{'folder':'TEMP', 'filename':'ground_truth_normalized.csv','predicates':['gt']}, \n",
    "    #{'folder':'WVSCM', 'filename':'ground_truth_normalized.csv','predicates':['gt']},\n",
    "]\n",
    "\n",
    "for dataset_key in range(len(datasets)):\n",
    "    dataset = datasets[dataset_key]\n",
    "    \n",
    "    folder = dataset['folder']\n",
    "    path = f'data/{folder}/workerResponses.txt'\n",
    "    votes = pd.read_csv(path, delimiter='\\t', header=None)\n",
    "    path = f'data/{folder}/groundTruth.txt'\n",
    "    ground_truth = pd.read_csv(path, delimiter='\\t', header=None)\n",
    "    \n",
    "    workers_accuracy = []\n",
    "    for worker_id in np.unique(votes[0]):\n",
    "        \n",
    "        worker_votes = votes[votes[0] == worker_id]\n",
    "        worker_successes = 0\n",
    "        worker_tasks = 0\n",
    "        \n",
    "        for index, worker_vote_info in worker_votes.iterrows():\n",
    "            \n",
    "            worker_vote_task = worker_vote_info[1]\n",
    "            worker_vote = worker_vote_info[2]\n",
    "            print(ground_truth[ground_truth[0]==worker_vote_task])\n",
    "            \n",
    "            gt_val = ground_truth[ground_truth[0]==worker_vote_task][1]\n",
    "            \n",
    "            if len(gt_val) > 0:\n",
    "                worker_tasks += 1\n",
    "                if worker_vote == gt_val.item():\n",
    "                    worker_successes += 1\n",
    "        #endfor\n",
    "        \n",
    "        if worker_tasks > 0:\n",
    "            workers_accuracy.append(worker_successes / worker_tasks)\n",
    "            \n",
    "        break\n",
    "      \n",
    "        \n",
    "    dataset['accuracy'] = np.mean(workers_accuracy)\n",
    "        \n",
    "datasets\n"
   ]
  },
  {
   "cell_type": "code",
   "execution_count": 281,
   "metadata": {},
   "outputs": [
    {
     "data": {
      "text/plain": [
       "1"
      ]
     },
     "execution_count": 281,
     "metadata": {},
     "output_type": "execute_result"
    }
   ],
   "source": [
    "n = [3, 5]\n",
    "n.index(max(n))"
   ]
  },
  {
   "cell_type": "code",
   "execution_count": 279,
   "metadata": {},
   "outputs": [
    {
     "ename": "AttributeError",
     "evalue": "'list' object has no attribute '__name__'",
     "output_type": "error",
     "traceback": [
      "\u001b[0;31m---------------------------------------------------------------------------\u001b[0m",
      "\u001b[0;31mAttributeError\u001b[0m                            Traceback (most recent call last)",
      "\u001b[0;32m<ipython-input-279-7ff6f0dfc880>\u001b[0m in \u001b[0;36m<module>\u001b[0;34m()\u001b[0m\n\u001b[0;32m----> 1\u001b[0;31m \u001b[0mn\u001b[0m\u001b[0;34m.\u001b[0m\u001b[0m__name__\u001b[0m\u001b[0;34m\u001b[0m\u001b[0m\n\u001b[0m",
      "\u001b[0;31mAttributeError\u001b[0m: 'list' object has no attribute '__name__'"
     ]
    }
   ],
   "source": []
  },
  {
   "cell_type": "code",
   "execution_count": 292,
   "metadata": {},
   "outputs": [],
   "source": [
    "import numpy as np\n",
    "\n",
    "#s        - number of actions\n",
    "#n        - number of states\n",
    "#r        - number of observations\n",
    "#A[a,i,j] - probability of transition from state i to state j given action a\n",
    "#O[a,j,o] - probability of observing o when entering state j given action a\n",
    "#pi[j]    - probability that the initial state is j\n",
    "#Act      - a list of actions\n",
    "#Obs      - a list of observations, the j-th observation corresponds to the \n",
    "#           j-th action\n",
    "\n",
    "class POMDP:\n",
    "    def __init__(self, Obs, Act, A, O, pi):\n",
    "        self.T = len(Obs)\n",
    "        self.Obs = Obs\n",
    "        self.Act = Act\n",
    "        self.A = A\n",
    "        self.O = O\n",
    "        self.pi = pi\n",
    "        self.s = self.A.shape[0]\n",
    "        self.n = self.A.shape[1]\n",
    "        self.r = self.O.shape[2]\n",
    "        self.alpha = np.zeros((self.T+1,self.n))\n",
    "        self.beta = np.zeros((self.T+1,self.n))\n",
    "        self.chi = np.zeros((self.T+1,self.n))\n",
    "        self.xi = np.zeros((self.T+1,self.n,self.n))\n",
    "\n",
    "    def alpha_beta_calc(self):\n",
    "        for j in range(self.n):\n",
    "            self.alpha[0,j] = self.pi[j]\n",
    "            self.beta[self.T,j]= 1.0            \n",
    "\n",
    "        for t in range(1, self.T+1):\n",
    "            for j in range(self.n):\n",
    "                self.alpha[t,j] = sum([self.A[self.Act[t- \n",
    "                1],i,j]*self.alpha[t-1,i]*self.O[self.Act[t-1],j,self.Obs[t- \n",
    "                1]] for i in range(self.n)])\n",
    "                self.beta[self.T-t,j] = sum([self.A[self.Act[self.T- \n",
    "                t],j,i]*self.O[self.Act[self.T-t],i,self.Obs[self.T- \n",
    "                t]]*self.beta[self.T- t+1,i] for i in range(self.n)])\n",
    "\n",
    "    def xi_chi_calc(self):      \n",
    "        for t in range(0, self.T+1):\n",
    "            l = sum([self.alpha[t,k]*self.beta[t,k] for k in range(self.n)])\n",
    "\n",
    "            for i in range(self.n):\n",
    "                self.chi[t,i]=self.alpha[t,i]*self.beta[t,i]/l\n",
    "                for j in range(self.n):\n",
    "                    self.xi[t,i,j]=(self.alpha[t-1,i]*self.A[self.Act[t- \n",
    "                    1],i,j]*self.O[self.Act[t-1],j,self.Obs[t- \n",
    "                    1]]*self.beta[t,j])/l\n",
    "\n",
    "    def pi_calc(self):\n",
    "        for j in range(self.n):\n",
    "            self.pi[j] = self.chi[0,j]\n",
    "\n",
    "    def A_calc(self):        \n",
    "        for i in range(self.n):\n",
    "            for j in range(self.n):\n",
    "                for a in range(self.s):\n",
    "                    nom = sum([self.xi[t,i,j] for t in range(1,self.T+1) if \n",
    "self.Act[t-1] == a])\n",
    "                    denom = sum([self.chi[t-1,i] for t in range(1,self.T+1) \n",
    "if self.Act[t-1] == a])\n",
    "                    self.A[a,i,j] = nom/denom\n",
    "\n",
    "    def O_calc(self):\n",
    "        for j in range(self.n):\n",
    "            for k in range(self.r):\n",
    "                for a in range(self.s):\n",
    "                    nom = sum([self.chi[t,j] for t in range(1, self.T+1) if \n",
    "(self.Act[t-1] == a) and (self.Obs[t-1] == k)])\n",
    "                    denom = sum([self.chi[t,j] for t in range(1, self.T+1) \n",
    "if self.Act[t-1] == a])\n",
    "                    self.O[a,j,k] = nom/denom\n",
    "def sim(l, A, O, pi):\n",
    "    obs=[]\n",
    "    act=[]\n",
    "    if np.random.rand()>pi[0]: curr = 1\n",
    "    else: curr = 0\n",
    "    states = [curr]\n",
    "    for _ in range(l):\n",
    "        a = np.random.randint(0,2)\n",
    "\n",
    "        if np.random.rand()<A[a, curr, 1]: curr = 1\n",
    "        else: curr = 0\n",
    "        if np.random.rand()<O[a, curr, 1]: o = 1\n",
    "        else: o =0\n",
    "        obs.append(o)\n",
    "        act.append(a)\n",
    "        states.append(curr)\n",
    "    return act,obs,states\n",
    "\n",
    "def generate(length = 1000):\n",
    "    A = np.random.rand(2,2,2)\n",
    "    O = np.random.rand(2,2,2)\n",
    "    for i in range(2):\n",
    "        for j in range(2):\n",
    "            A[i,j,1]=1.0-A[i,j,0]\n",
    "            O[i,j,1]=1.0-O[i,j,0]\n",
    "\n",
    "    pi = np.random.rand(2)    \n",
    "    pi[1]=1.0-pi[0]\n",
    "    act,obs,states = sim(length, A, O, pi)\n",
    "    return A, O, pi, act,obs,states\n",
    "\n",
    "#generate random pomdp and a simulation of a given length\n",
    "A, O, pi,act,obs,states = generate(100)\n",
    "\n",
    "#initialize matrices randomly\n",
    "A, O, pi,act1,obs1,states1 = generate()\n",
    "pomdp = POMDP(obs, act, A, O, pi)\n",
    "\n",
    "for _ in range(100):\n",
    "    pomdp.alpha_beta_calc()        \n",
    "    pomdp.xi_chi_calc()\n",
    "    pomdp.A_calc()\n",
    "    pomdp.O_calc()\n",
    "    pomdp.pi_calc()\n",
    "    \n",
    "    \n"
   ]
  },
  {
   "cell_type": "code",
   "execution_count": 299,
   "metadata": {},
   "outputs": [
    {
     "data": {
      "text/plain": [
       "array([[[0.77769904, 0.22230096],\n",
       "        [0.30375983, 0.69624017]],\n",
       "\n",
       "       [[0.19285609, 0.80714391],\n",
       "        [0.00424167, 0.99575833]]])"
      ]
     },
     "execution_count": 299,
     "metadata": {},
     "output_type": "execute_result"
    }
   ],
   "source": [
    "A"
   ]
  },
  {
   "cell_type": "code",
   "execution_count": null,
   "metadata": {},
   "outputs": [],
   "source": []
  },
  {
   "cell_type": "code",
   "execution_count": null,
   "metadata": {},
   "outputs": [],
   "source": []
  }
 ],
 "metadata": {
  "kernelspec": {
   "display_name": "Python 3",
   "language": "python",
   "name": "python3"
  },
  "language_info": {
   "codemirror_mode": {
    "name": "ipython",
    "version": 3
   },
   "file_extension": ".py",
   "mimetype": "text/x-python",
   "name": "python",
   "nbconvert_exporter": "python",
   "pygments_lexer": "ipython3",
   "version": "3.7.0"
  }
 },
 "nbformat": 4,
 "nbformat_minor": 2
}
