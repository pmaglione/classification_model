{
 "cells": [
  {
   "cell_type": "markdown",
   "metadata": {},
   "source": [
    "# Problem Statement\n",
    "Performing an efficient management of budget and securing accuracy are key points when using crowdsourcing. In classification scenarios the crowd sometimes can be noisy and generate a lack of concensus over tasks. The majority of the state-of-art approaches set a fixed number of votes per item and aggregate the votes with some criteria, this produces a reduction in the quality and an increment of costs. For this reason we present a smart detection algorithm which predicts the best decision between stop or continue collecting votes over a task and analyze its efficiency with different experiments.\n",
    "\n",
    "Formalizing the problem, given a set of items $I$, a set of votes $V$, a classification function $fn$, a classification threshold $th$ and a cost ratio for crowd to expert vote cost $cr$, for each item we want to find the minimum amount of votes needed to take the decision of continue collecting votes or switch to an expert vote. For this we describe a smart stopping algorithm. \n",
    "\n",
    "**We define a 3 methods structure**:\n",
    "- the **classifier** which returns the probability of an item being classified\n",
    "- the **cost estimator** which returns the estimated cost for each item given the votes\n",
    "- the **decision function** which returns a boolean decision for each item"
   ]
  },
  {
   "cell_type": "markdown",
   "metadata": {},
   "source": [
    "# Rationale for the algorithms"
   ]
  },
  {
   "cell_type": "markdown",
   "metadata": {},
   "source": [
    "### Classifier function"
   ]
  },
  {
   "cell_type": "markdown",
   "metadata": {},
   "source": [
    "- Input: item votes\n",
    "- Output: probability IN [0, 1]"
   ]
  },
  {
   "cell_type": "markdown",
   "metadata": {},
   "source": [
    "### Cost estimator function\n"
   ]
  },
  {
   "cell_type": "markdown",
   "metadata": {},
   "source": [
    "- Input: item votes, classification threshold, classification function, cost ratio\n",
    "- Output: predicted cost\n",
    "- Logic:\n",
    "    - Iterate 50 times for converging the results\n",
    "        - Calculate actual cost for the given votes\n",
    "        - While (is not classified or is not too expensive)\n",
    "            - If actual cost is not too expensive\n",
    "                - Get P(IN) using the classification function\n",
    "                - If P(IN) > threshold\n",
    "                    - **Stop because item can be classified**\n",
    "                - Else\n",
    "                    - Simulate 1 vote over the item using P(IN)\n",
    "                    - Increment actual cost\n",
    "            - Else **stop because the item is too expensive to be classified**"
   ]
  },
  {
   "cell_type": "markdown",
   "metadata": {},
   "source": [
    "### Decision function\n",
    "\n"
   ]
  },
  {
   "cell_type": "markdown",
   "metadata": {},
   "source": [
    "- Input: items, votes, classification_threshold, cost_ratio, classification_function\n",
    "- Output: Boolean decision over each item, where True = continue and False = stop collecting votes\n",
    "- Logic:\n",
    "    - For each item\n",
    "        - Get P(IN) using the classification function\n",
    "        - If P(IN) > classification threshold\n",
    "            - Decision over item = False\n",
    "        - Else\n",
    "            - Call **cost estimator function**\n",
    "                - If cost estimated <= max cost\n",
    "                    - Decision over item = True\n",
    "                - Else\n",
    "                    - Decision over item = False\n"
   ]
  },
  {
   "cell_type": "markdown",
   "metadata": {},
   "source": [
    "# Experiments"
   ]
  },
  {
   "cell_type": "markdown",
   "metadata": {},
   "source": [
    "Here we discuss a few experiments, the objective is to compare the overall crowdsourcing cost and quality in the case where we have a smart stopping algorithm vs \n",
    "- the baseline approach where all items receive the same amount of votes\n",
    "- an approach introduced by Andrew W. Brown and David B. Allison. 2014. Using Crowdsourcing to Evaluate Published Scientific Literature: Methods and Example. Plos One 9, 7 (2014). Where 2 votes are requested and if they disagree ask a third to break the tie"
   ]
  },
  {
   "cell_type": "markdown",
   "metadata": {},
   "source": [
    "### Experiments Imports"
   ]
  },
  {
   "cell_type": "code",
   "execution_count": 1,
   "metadata": {},
   "outputs": [
    {
     "data": {
      "text/html": [
       "<script>\n",
       "code_show=true; \n",
       "function code_toggle() {\n",
       " if (code_show){\n",
       " $('div.input').hide();\n",
       " } else {\n",
       " $('div.input').show();\n",
       " }\n",
       " code_show = !code_show\n",
       "} \n",
       "$( document ).ready(code_toggle);\n",
       "</script>\n",
       "The raw code for this IPython notebook is by default hidden for easier reading.\n",
       "To toggle on/off the raw code, click <a href=\"javascript:code_toggle()\">here</a>."
      ],
      "text/plain": [
       "<IPython.core.display.HTML object>"
      ]
     },
     "execution_count": 1,
     "metadata": {},
     "output_type": "execute_result"
    }
   ],
   "source": [
    "%matplotlib inline\n",
    "\n",
    "import numpy as np\n",
    "from tqdm import tqdm\n",
    "import pandas as pd\n",
    "from helpers.mv_single_binary import majority_voting\n",
    "import helpers.algorithms_utils as alg_utils\n",
    "from IPython.display import HTML\n",
    "\n",
    "HTML('''<script>\n",
    "code_show=true; \n",
    "function code_toggle() {\n",
    " if (code_show){\n",
    " $('div.input').hide();\n",
    " } else {\n",
    " $('div.input').show();\n",
    " }\n",
    " code_show = !code_show\n",
    "} \n",
    "$( document ).ready(code_toggle);\n",
    "</script>\n",
    "The raw code for this IPython notebook is by default hidden for easier reading.\n",
    "To toggle on/off the raw code, click <a href=\"javascript:code_toggle()\">here</a>.''')"
   ]
  },
  {
   "cell_type": "markdown",
   "metadata": {},
   "source": [
    "### Hyperparameters for all experiments"
   ]
  },
  {
   "cell_type": "code",
   "execution_count": 2,
   "metadata": {},
   "outputs": [],
   "source": [
    "#main \n",
    "cf = majority_voting\n",
    "cr = .01 #ratio 1:100\n",
    "base_votes_per_item = 3\n",
    "\n",
    "#cost estimator \n",
    "drawing_simulations_amount = 50\n",
    "expert_cost_increment = 2\n",
    "\n",
    "#crowd\n",
    "workers_num = 1000\n",
    "z = 0 #% cheaters\n",
    "fixed_acc = False\n",
    "workers_acc = .9\n",
    "\n",
    "#ground truth \n",
    "items_num = 100\n",
    "data_true_percentage = .5\n",
    "\n",
    "#experiment \n",
    "iterations_per_ct = 50\n",
    "cts = [.5, .8, .85, .9, .95] #classification thresholds"
   ]
  },
  {
   "cell_type": "code",
   "execution_count": 3,
   "metadata": {},
   "outputs": [],
   "source": [
    "columns = [\"Cost mean\",\"Cost Std\", \"TC mean\", \"TC std\", \"Loss mean\", \"Loss Std\", \"Recall mean\", \"Recall Std\", \"Precision mean\", \"Precision Std\"]\n",
    "pdColumns = [\"Threshold\"] + columns"
   ]
  },
  {
   "cell_type": "markdown",
   "metadata": {},
   "source": [
    "## 1) Basic settings: MV as classification function, Expected cost limited by expert cost\n",
    "\n",
    "**Assumptions**:\n",
    "- The classification is binary. True/False\n",
    "- The items are evaluated over only 1 condition\n",
    "- Difficulty of tasks are all equal\n",
    "- There are no test questions\n",
    "- The crowd workers accuracy is fixed"
   ]
  },
  {
   "cell_type": "markdown",
   "metadata": {},
   "source": [
    "## 1.1) Logic"
   ]
  },
  {
   "cell_type": "markdown",
   "metadata": {},
   "source": [
    "1. Evalute for each classification threshold in [.7, .75, .8, .85, .9, .95]\n",
    "2. Iterate 50 times per threshold for converging results doing:\n",
    "    1. Generate workers accuracy\n",
    "    2. Generate ground truth values\n",
    "    3. Generate the base votes for each item\n",
    "    4. Call the decision function\n",
    "        1. If we have any item to continue collecting votes:\n",
    "            1. Collect 1 more vote per item\n",
    "            2. Call decision function\n",
    "    5. Classify items using MV\n",
    "        1. If P(IN) > threshold, classify it as IN\n",
    "        2. If P(IN) < .3, classify it as OUT\n",
    "        3. If .3 < P(IN) <= threshold, switch to expert vote\n",
    "    6. Calculate the metrics"
   ]
  },
  {
   "cell_type": "code",
   "execution_count": 4,
   "metadata": {},
   "outputs": [],
   "source": [
    "'''\n",
    "    Input:\n",
    "        v - votes for item i\n",
    "        ct - value between 0 and 1 for deciding if prob of data is enough or must continue\n",
    "        cf - function to calculate how likely is to be classified\n",
    "        cr - cost ratio between crowd to expert vote [0,1]\n",
    "    Output:\n",
    "        (cost_mean, cost_std)\n",
    "'''\n",
    "def cost_estimator(v, ct, cf, cr):\n",
    "    actual_cost, expert_cost, must_continue = len(v) * cr, 1/cr, True\n",
    "    simulated_costs = []\n",
    "    for _ in range(drawing_simulations_amount):            \n",
    "        while (must_continue == True):\n",
    "            classification_prob = cf(alg_utils.input_adapter_single(v))\n",
    "            if classification_prob > ct:\n",
    "                must_continue = False            \n",
    "                simulated_costs.append(actual_cost)\n",
    "            else:\n",
    "                vote = np.random.binomial(1, classification_prob)\n",
    "                new_index = max(v.keys()) + 1\n",
    "                v[new_index] = [vote]\n",
    "                actual_cost += 1\n",
    "                if(actual_cost >= (expert_cost * expert_cost_increment)):\n",
    "                    must_continue = False\n",
    "                    simulated_costs.append(actual_cost)\n",
    "\n",
    "    return (np.mean(simulated_costs),np.std(simulated_costs))"
   ]
  },
  {
   "cell_type": "code",
   "execution_count": 5,
   "metadata": {},
   "outputs": [],
   "source": [
    "'''\n",
    "Function to answer: must continue collecting votes over each task?\n",
    "\n",
    "Input:\n",
    "items - set of items\n",
    "votes - set of votes over each item\n",
    "classification_threshold - value between 0 and 1 for deciding if prob of data is enough or must continue\n",
    "cost_ratio - ratio of crowd to expert cost, [0,1]\n",
    "classification_function - function to calculate how likely is to be classified\n",
    "\n",
    "Output:\n",
    "    Dictionary with the decision indexed by item_id\n",
    "        {\n",
    "            item_id: bool\n",
    "            ...\n",
    "            item_n: ...\n",
    "        }\n",
    "    Where False = Stop and True=Continue collecting votes\n",
    "'''\n",
    "def decision_function(items, votes, classification_threshold, cost_ratio, classification_function):      \n",
    "    expert_cost = 1 / cost_ratio  \n",
    "    results = dict.fromkeys(range(items), False)\n",
    "\n",
    "    for item_id in range(items):            \n",
    "        item_votes = votes[item_id].copy()\n",
    "        actual_cost = len(item_votes)\n",
    "        classification_prob = classification_function(alg_utils.input_adapter_single(item_votes))\n",
    "        if classification_prob <= classification_threshold:\n",
    "            cost_mean, cost_std = cost_estimator(item_votes, classification_threshold, classification_function, cost_ratio)\n",
    "\n",
    "            if(cost_mean <= expert_cost):\n",
    "                results[item_id] = True\n",
    "\n",
    "    return results"
   ]
  },
  {
   "cell_type": "code",
   "execution_count": 6,
   "metadata": {},
   "outputs": [],
   "source": [
    "def generate_votes_1(params, items_num, ct, gt):\n",
    "    total_votes = {}\n",
    "\n",
    "    #base votes\n",
    "    for i in range(items_num):\n",
    "        total_votes[i] = {}\n",
    "        for k in range(params['votes_per_item']):\n",
    "            worker_id, vote = alg_utils.get_worker_vote(params['workers_accuracy'], i, gt, total_votes)\n",
    "\n",
    "            total_votes[i][worker_id] = [vote]\n",
    "\n",
    "    #evaluate votes\n",
    "    results = decision_function(items_num, total_votes, ct, params['cost_ratio'], \n",
    "                                                   params['classification_fn'])\n",
    "    #Check if must continue collecting votes\n",
    "    items_predicted_classified = alg_utils.get_items_predicted_classified(results)\n",
    "    must_get_more_votes = len(items_predicted_classified) > 0\n",
    "\n",
    "    while(must_get_more_votes):\n",
    "        for i, v in items_predicted_classified.items():\n",
    "            worker_id, vote = alg_utils.get_worker_vote(params['workers_accuracy'], i, gt, total_votes)\n",
    "\n",
    "            total_votes[i][worker_id] = [vote]             \n",
    "        #end for\n",
    "        results = decision_function(items_num, total_votes, ct, params['cost_ratio'], \n",
    "                                                   params['classification_fn'])\n",
    "\n",
    "        #Stop when there are no more items that can be classified\n",
    "        items_predicted_classified = alg_utils.get_items_predicted_classified(results)\n",
    "        must_get_more_votes = len(items_predicted_classified) > 0\n",
    "    #end while        \n",
    "\n",
    "    items_classification = alg_utils.classify_items_mv(total_votes, gt, params['classification_fn'], ct)\n",
    "\n",
    "    return [items_classification, total_votes]"
   ]
  },
  {
   "cell_type": "code",
   "execution_count": 9,
   "metadata": {},
   "outputs": [],
   "source": [
    "def run_experiment_1():\n",
    "    main_results = []\n",
    "\n",
    "    for ct in tqdm(cts):\n",
    "        ct = round(ct, 2) #limit to two decimals\n",
    "        crowd_cost = []\n",
    "        total_cost = []\n",
    "        items_classified_in = []\n",
    "        items_classified_out = []\n",
    "        ct_loss = []\n",
    "        ct_recall = []\n",
    "        ct_precision = []\n",
    "        ct_classified_amount = []\n",
    "        ct_unclassified_amount = []\n",
    "\n",
    "        for _ in range(iterations_per_ct):\n",
    "            workers_accuracy = alg_utils.simulate_workers(workers_num, z, fixed_acc, workers_acc)\n",
    "            \n",
    "            params = {\n",
    "                'workers_accuracy': workers_accuracy,\n",
    "                'workers_num': workers_num,\n",
    "                'items_num': items_num,\n",
    "                'cost_ratio': cr,\n",
    "                'votes_per_item': base_votes_per_item,\n",
    "                'classification_fn': cf\n",
    "            }\n",
    "            \n",
    "            ground_truth = alg_utils.generate_gold_data(items_num, data_true_percentage)\n",
    "\n",
    "            ct_i_results = generate_votes_1(params, items_num, ct, ground_truth)\n",
    "\n",
    "            items_classification = ct_i_results[0]\n",
    "            total_votes = ct_i_results[1]\n",
    "            \n",
    "            classified_amount, unclassified_amount, ct_i_crowd_cost, ct_i_total_cost = alg_utils.get_total_cost(total_votes, cr, cf, ct, False)\n",
    "            \n",
    "            ct_classified_amount.append(classified_amount)\n",
    "            ct_unclassified_amount.append(unclassified_amount)\n",
    "            crowd_cost.append(ct_i_crowd_cost)\n",
    "            total_cost.append(ct_i_total_cost)\n",
    "\n",
    "            loss,  recall, precision = alg_utils.Metrics.compute_metrics(items_classification, ground_truth)\n",
    "            ct_loss.append(loss)\n",
    "            ct_recall.append(recall)\n",
    "            ct_precision.append(precision)\n",
    "        #end for iterations\n",
    "\n",
    "        main_results.append(\n",
    "            [ct, \n",
    "             round(np.mean(crowd_cost), 3), \n",
    "             round(np.std(crowd_cost), 3),\n",
    "             round(np.mean(total_cost), 3),\n",
    "             round(np.std(total_cost), 3),\n",
    "             round(np.mean(ct_loss), 3),\n",
    "             round(np.std(ct_loss), 3),\n",
    "             round(np.mean(ct_recall), 3),\n",
    "             round(np.std(ct_recall), 3),\n",
    "             round(np.mean(ct_precision), 3),\n",
    "             round(np.std(ct_precision), 3)\n",
    "            ])\n",
    "    #end for thresholds\n",
    "\n",
    "    return main_results"
   ]
  },
  {
   "cell_type": "markdown",
   "metadata": {},
   "source": [
    "## 1.2) Run experiment 1 and see the results "
   ]
  },
  {
   "cell_type": "code",
   "execution_count": 8,
   "metadata": {},
   "outputs": [
    {
     "name": "stderr",
     "output_type": "stream",
     "text": [
      "100%|██████████| 5/5 [1:07:14<00:00, 714.64s/it]\n"
     ]
    },
    {
     "data": {
      "text/html": [
       "<div>\n",
       "<style scoped>\n",
       "    .dataframe tbody tr th:only-of-type {\n",
       "        vertical-align: middle;\n",
       "    }\n",
       "\n",
       "    .dataframe tbody tr th {\n",
       "        vertical-align: top;\n",
       "    }\n",
       "\n",
       "    .dataframe thead th {\n",
       "        text-align: right;\n",
       "    }\n",
       "</style>\n",
       "<table border=\"1\" class=\"dataframe\">\n",
       "  <thead>\n",
       "    <tr style=\"text-align: right;\">\n",
       "      <th></th>\n",
       "      <th>Threshold</th>\n",
       "      <th>Cost mean</th>\n",
       "      <th>Cost Std</th>\n",
       "      <th>TC mean</th>\n",
       "      <th>TC std</th>\n",
       "      <th>Loss mean</th>\n",
       "      <th>Loss Std</th>\n",
       "      <th>Recall mean</th>\n",
       "      <th>Recall Std</th>\n",
       "      <th>Precision mean</th>\n",
       "      <th>Precision Std</th>\n",
       "    </tr>\n",
       "  </thead>\n",
       "  <tbody>\n",
       "    <tr>\n",
       "      <th>0</th>\n",
       "      <td>0.50</td>\n",
       "      <td>3.955</td>\n",
       "      <td>0.281</td>\n",
       "      <td>197.955</td>\n",
       "      <td>115.676</td>\n",
       "      <td>0.056</td>\n",
       "      <td>0.022</td>\n",
       "      <td>0.967</td>\n",
       "      <td>0.024</td>\n",
       "      <td>0.926</td>\n",
       "      <td>0.032</td>\n",
       "    </tr>\n",
       "    <tr>\n",
       "      <th>1</th>\n",
       "      <td>0.80</td>\n",
       "      <td>5.568</td>\n",
       "      <td>0.966</td>\n",
       "      <td>2039.568</td>\n",
       "      <td>370.472</td>\n",
       "      <td>0.148</td>\n",
       "      <td>0.031</td>\n",
       "      <td>0.708</td>\n",
       "      <td>0.061</td>\n",
       "      <td>0.994</td>\n",
       "      <td>0.014</td>\n",
       "    </tr>\n",
       "    <tr>\n",
       "      <th>2</th>\n",
       "      <td>0.85</td>\n",
       "      <td>5.251</td>\n",
       "      <td>0.999</td>\n",
       "      <td>2859.251</td>\n",
       "      <td>425.917</td>\n",
       "      <td>0.210</td>\n",
       "      <td>0.038</td>\n",
       "      <td>0.582</td>\n",
       "      <td>0.076</td>\n",
       "      <td>0.997</td>\n",
       "      <td>0.013</td>\n",
       "    </tr>\n",
       "    <tr>\n",
       "      <th>3</th>\n",
       "      <td>0.90</td>\n",
       "      <td>4.694</td>\n",
       "      <td>0.719</td>\n",
       "      <td>3992.694</td>\n",
       "      <td>532.936</td>\n",
       "      <td>0.269</td>\n",
       "      <td>0.032</td>\n",
       "      <td>0.468</td>\n",
       "      <td>0.062</td>\n",
       "      <td>0.989</td>\n",
       "      <td>0.019</td>\n",
       "    </tr>\n",
       "    <tr>\n",
       "      <th>4</th>\n",
       "      <td>0.95</td>\n",
       "      <td>3.643</td>\n",
       "      <td>0.448</td>\n",
       "      <td>4651.643</td>\n",
       "      <td>517.015</td>\n",
       "      <td>0.283</td>\n",
       "      <td>0.039</td>\n",
       "      <td>0.439</td>\n",
       "      <td>0.075</td>\n",
       "      <td>0.989</td>\n",
       "      <td>0.022</td>\n",
       "    </tr>\n",
       "  </tbody>\n",
       "</table>\n",
       "</div>"
      ],
      "text/plain": [
       "   Threshold  Cost mean  Cost Std   TC mean   TC std  Loss mean  Loss Std  \\\n",
       "0       0.50      3.955     0.281   197.955  115.676      0.056     0.022   \n",
       "1       0.80      5.568     0.966  2039.568  370.472      0.148     0.031   \n",
       "2       0.85      5.251     0.999  2859.251  425.917      0.210     0.038   \n",
       "3       0.90      4.694     0.719  3992.694  532.936      0.269     0.032   \n",
       "4       0.95      3.643     0.448  4651.643  517.015      0.283     0.039   \n",
       "\n",
       "   Recall mean  Recall Std  Precision mean  Precision Std  \n",
       "0        0.967       0.024           0.926          0.032  \n",
       "1        0.708       0.061           0.994          0.014  \n",
       "2        0.582       0.076           0.997          0.013  \n",
       "3        0.468       0.062           0.989          0.019  \n",
       "4        0.439       0.075           0.989          0.022  "
      ]
     },
     "execution_count": 8,
     "metadata": {},
     "output_type": "execute_result"
    }
   ],
   "source": [
    "results_mv = run_experiment_1()\n",
    "\n",
    "#table    \n",
    "pd.DataFrame(results_mv, columns=pdColumns).to_csv('results/smart_stop_mv_not_expert.csv', index=False)\n",
    "pd.DataFrame(results_mv, columns=pdColumns)"
   ]
  },
  {
   "cell_type": "markdown",
   "metadata": {},
   "source": [
    "## 2) MV with fixed number of votes per item"
   ]
  },
  {
   "cell_type": "markdown",
   "metadata": {},
   "source": [
    "In this experiment we use the baseline approach of majority voting with a fixed number of votes per item and a classification threshold of .5"
   ]
  },
  {
   "cell_type": "markdown",
   "metadata": {},
   "source": [
    "## 2.1) Logic"
   ]
  },
  {
   "cell_type": "markdown",
   "metadata": {},
   "source": [
    "1. Iterate 50 times for converging results where:\n",
    "    1. Generate workers accuracy\n",
    "    2. Generate ground truth values\n",
    "    3. Generate a fixed number of votes for each item\n",
    "    4. Classify items using MV\n",
    "    5. Calculate the metrics"
   ]
  },
  {
   "cell_type": "code",
   "execution_count": 25,
   "metadata": {},
   "outputs": [],
   "source": [
    "def generate_votes_2(params, items_num, ct, gt):\n",
    "    total_votes = {}\n",
    "\n",
    "    #base votes\n",
    "    for i in range(items_num):\n",
    "        total_votes[i] = {}\n",
    "        for k in range(params['votes_per_item']):\n",
    "            worker_id, vote = alg_utils.get_worker_vote(params['workers_accuracy'], i, gt, total_votes)\n",
    "\n",
    "            total_votes[i][worker_id] = [vote]\n",
    "\n",
    "    items_classification = alg_utils.classify_items_mv(total_votes, gt, params['classification_fn'], ct)\n",
    "    \n",
    "    return [items_classification, total_votes]"
   ]
  },
  {
   "cell_type": "code",
   "execution_count": 26,
   "metadata": {},
   "outputs": [],
   "source": [
    "def run_experiment_2():\n",
    "    main_results = []\n",
    "\n",
    "    for ct in tqdm(cts):\n",
    "        ct = round(ct, 2) #limit to two decimals\n",
    "        crowd_cost = []\n",
    "        total_cost = []\n",
    "        items_classified_in = []\n",
    "        items_classified_out = []\n",
    "        ct_loss = []\n",
    "        ct_recall = []\n",
    "        ct_precision = []\n",
    "        ct_classified_amount = []\n",
    "        ct_unclassified_amount = []\n",
    "\n",
    "        for _ in range(iterations_per_ct):\n",
    "            workers_accuracy = alg_utils.simulate_workers(workers_num, z, fixed_acc, workers_acc)\n",
    "            params = {\n",
    "                'workers_accuracy': workers_accuracy,\n",
    "                'workers_num': workers_num,\n",
    "                'items_num': items_num,\n",
    "                'cost_ratio': cr,\n",
    "                'votes_per_item': base_votes_per_item,\n",
    "                'classification_fn': cf\n",
    "            }\n",
    "                \n",
    "            ground_truth = alg_utils.generate_gold_data(items_num, data_true_percentage)\n",
    "\n",
    "            ct_i_results = generate_votes_2(params, items_num, ct, ground_truth)\n",
    "\n",
    "            items_classification = ct_i_results[0]\n",
    "            total_votes = ct_i_results[1]\n",
    "\n",
    "            loss,  recall, precision = alg_utils.Metrics.compute_metrics(items_classification, ground_truth)\n",
    "            ct_loss.append(loss)\n",
    "            ct_recall.append(recall)\n",
    "            ct_precision.append(precision)\n",
    "            \n",
    "            ct_i_crowd_cost = sum([len(v) for i, v in total_votes.items()]) * cr\n",
    "            ct_i_total_cost = ct_i_crowd_cost\n",
    "       \n",
    "            crowd_cost.append(ct_i_crowd_cost)\n",
    "            total_cost.append(ct_i_total_cost)\n",
    "        #end for iterations\n",
    "        \n",
    "        main_results.append(\n",
    "            [ct,\n",
    "             round(np.mean(crowd_cost), 3), \n",
    "             round(np.std(crowd_cost), 3),\n",
    "             round(np.mean(total_cost), 3),\n",
    "             round(np.std(total_cost), 3),\n",
    "             round(np.mean(ct_loss), 3),\n",
    "             round(np.std(ct_loss), 3),\n",
    "             round(np.mean(ct_recall), 3),\n",
    "             round(np.std(ct_recall), 3),\n",
    "             round(np.mean(ct_precision), 3),\n",
    "             round(np.std(ct_precision), 3)\n",
    "            ])\n",
    "    #end for thresholds\n",
    "\n",
    "    return main_results"
   ]
  },
  {
   "cell_type": "markdown",
   "metadata": {},
   "source": [
    "## 2.2) Run experiment 2 and see the results"
   ]
  },
  {
   "cell_type": "code",
   "execution_count": 48,
   "metadata": {},
   "outputs": [
    {
     "name": "stderr",
     "output_type": "stream",
     "text": [
      "\n",
      "\n",
      "  0%|          | 0/5 [00:00<?, ?it/s]\u001b[A\u001b[A\n",
      "\n",
      " 20%|██        | 1/5 [00:01<00:06,  1.63s/it]\u001b[A\u001b[A\n",
      "\n",
      " 40%|████      | 2/5 [00:03<00:04,  1.63s/it]\u001b[A\u001b[A\n",
      "\n",
      " 60%|██████    | 3/5 [00:04<00:03,  1.63s/it]\u001b[A\u001b[A\n",
      "\n",
      " 80%|████████  | 4/5 [00:06<00:01,  1.65s/it]\u001b[A\u001b[A\n",
      "\n",
      "100%|██████████| 5/5 [00:08<00:00,  1.62s/it]\u001b[A\u001b[A\n",
      "\n",
      "\u001b[A\u001b[A"
     ]
    },
    {
     "data": {
      "text/html": [
       "<div>\n",
       "<style scoped>\n",
       "    .dataframe tbody tr th:only-of-type {\n",
       "        vertical-align: middle;\n",
       "    }\n",
       "\n",
       "    .dataframe tbody tr th {\n",
       "        vertical-align: top;\n",
       "    }\n",
       "\n",
       "    .dataframe thead th {\n",
       "        text-align: right;\n",
       "    }\n",
       "</style>\n",
       "<table border=\"1\" class=\"dataframe\">\n",
       "  <thead>\n",
       "    <tr style=\"text-align: right;\">\n",
       "      <th></th>\n",
       "      <th>Threshold</th>\n",
       "      <th>Cost mean</th>\n",
       "      <th>Cost Std</th>\n",
       "      <th>TC mean</th>\n",
       "      <th>TC std</th>\n",
       "      <th>Loss mean</th>\n",
       "      <th>Loss Std</th>\n",
       "      <th>Recall mean</th>\n",
       "      <th>Recall Std</th>\n",
       "      <th>Precision mean</th>\n",
       "      <th>Precision Std</th>\n",
       "    </tr>\n",
       "  </thead>\n",
       "  <tbody>\n",
       "    <tr>\n",
       "      <th>0</th>\n",
       "      <td>0.50</td>\n",
       "      <td>3.0</td>\n",
       "      <td>0.0</td>\n",
       "      <td>3.0</td>\n",
       "      <td>0.0</td>\n",
       "      <td>0.113</td>\n",
       "      <td>0.030</td>\n",
       "      <td>0.844</td>\n",
       "      <td>0.051</td>\n",
       "      <td>0.924</td>\n",
       "      <td>0.033</td>\n",
       "    </tr>\n",
       "    <tr>\n",
       "      <th>1</th>\n",
       "      <td>0.80</td>\n",
       "      <td>3.0</td>\n",
       "      <td>0.0</td>\n",
       "      <td>3.0</td>\n",
       "      <td>0.0</td>\n",
       "      <td>0.282</td>\n",
       "      <td>0.037</td>\n",
       "      <td>0.440</td>\n",
       "      <td>0.074</td>\n",
       "      <td>0.993</td>\n",
       "      <td>0.017</td>\n",
       "    </tr>\n",
       "    <tr>\n",
       "      <th>2</th>\n",
       "      <td>0.85</td>\n",
       "      <td>3.0</td>\n",
       "      <td>0.0</td>\n",
       "      <td>3.0</td>\n",
       "      <td>0.0</td>\n",
       "      <td>0.285</td>\n",
       "      <td>0.037</td>\n",
       "      <td>0.435</td>\n",
       "      <td>0.074</td>\n",
       "      <td>0.991</td>\n",
       "      <td>0.021</td>\n",
       "    </tr>\n",
       "    <tr>\n",
       "      <th>3</th>\n",
       "      <td>0.90</td>\n",
       "      <td>3.0</td>\n",
       "      <td>0.0</td>\n",
       "      <td>3.0</td>\n",
       "      <td>0.0</td>\n",
       "      <td>0.292</td>\n",
       "      <td>0.029</td>\n",
       "      <td>0.421</td>\n",
       "      <td>0.056</td>\n",
       "      <td>0.989</td>\n",
       "      <td>0.020</td>\n",
       "    </tr>\n",
       "    <tr>\n",
       "      <th>4</th>\n",
       "      <td>0.95</td>\n",
       "      <td>3.0</td>\n",
       "      <td>0.0</td>\n",
       "      <td>3.0</td>\n",
       "      <td>0.0</td>\n",
       "      <td>0.294</td>\n",
       "      <td>0.038</td>\n",
       "      <td>0.416</td>\n",
       "      <td>0.077</td>\n",
       "      <td>0.989</td>\n",
       "      <td>0.026</td>\n",
       "    </tr>\n",
       "  </tbody>\n",
       "</table>\n",
       "</div>"
      ],
      "text/plain": [
       "   Threshold  Cost mean  Cost Std  TC mean  TC std  Loss mean  Loss Std  \\\n",
       "0       0.50        3.0       0.0      3.0     0.0      0.113     0.030   \n",
       "1       0.80        3.0       0.0      3.0     0.0      0.282     0.037   \n",
       "2       0.85        3.0       0.0      3.0     0.0      0.285     0.037   \n",
       "3       0.90        3.0       0.0      3.0     0.0      0.292     0.029   \n",
       "4       0.95        3.0       0.0      3.0     0.0      0.294     0.038   \n",
       "\n",
       "   Recall mean  Recall Std  Precision mean  Precision Std  \n",
       "0        0.844       0.051           0.924          0.033  \n",
       "1        0.440       0.074           0.993          0.017  \n",
       "2        0.435       0.074           0.991          0.021  \n",
       "3        0.421       0.056           0.989          0.020  \n",
       "4        0.416       0.077           0.989          0.026  "
      ]
     },
     "execution_count": 48,
     "metadata": {},
     "output_type": "execute_result"
    }
   ],
   "source": [
    "results_mv_baseline = run_experiment_2()\n",
    "\n",
    "#table    \n",
    "pd.DataFrame(results_mv_baseline, columns=pdColumns).to_csv('results/baseline_mv.csv', index=False)\n",
    "pd.DataFrame(results_mv_baseline, columns=pdColumns)"
   ]
  },
  {
   "cell_type": "markdown",
   "metadata": {},
   "source": [
    "## 3) Two votes first and if disagree one more to break the tie"
   ]
  },
  {
   "cell_type": "markdown",
   "metadata": {},
   "source": [
    "In this experiment we collect 2 votes per item and a third one if they disagree."
   ]
  },
  {
   "cell_type": "markdown",
   "metadata": {},
   "source": [
    "## 3.1) Logic"
   ]
  },
  {
   "cell_type": "markdown",
   "metadata": {},
   "source": [
    "1. Iterate 50 times for converging results where:\n",
    "    1. Generate workers accuracy\n",
    "    2. Generate ground truth values\n",
    "    3. Generate 2 votes for each item\n",
    "    4. Evalutes the votes:\n",
    "        1. If votes agree:\n",
    "            1. Jump to next step\n",
    "        2. If votes disagree:\n",
    "            1. Get 1 more vote \n",
    "    4. Classify items using MV\n",
    "    5. Calculate the metrics"
   ]
  },
  {
   "cell_type": "code",
   "execution_count": 41,
   "metadata": {},
   "outputs": [],
   "source": [
    "def generate_votes_3(params, items_num, ct, gt):\n",
    "    total_votes = {}\n",
    "\n",
    "    #base votes\n",
    "    for i in range(items_num):\n",
    "        total_votes[i] = {}\n",
    "        for k in range(2):\n",
    "            worker_id, vote = alg_utils.get_worker_vote(params['workers_accuracy'], i, gt, total_votes)\n",
    "\n",
    "            total_votes[i][worker_id] = [vote]\n",
    "            \n",
    "        #if disagree get 1 more vote\n",
    "        votes_disagree = sum([v[0] for i,v in total_votes[i].items()]) == 1\n",
    "        if(votes_disagree):\n",
    "            worker_id, vote = alg_utils.get_worker_vote(params['workers_accuracy'], i, gt, total_votes)\n",
    "\n",
    "            total_votes[i][worker_id] = [vote]\n",
    "\n",
    "    items_classification = alg_utils.classify_items_mv(total_votes, gt, params['classification_fn'], ct)\n",
    "    \n",
    "    return [items_classification, total_votes]"
   ]
  },
  {
   "cell_type": "code",
   "execution_count": 30,
   "metadata": {},
   "outputs": [],
   "source": [
    "def run_experiment_3():\n",
    "    main_results = []\n",
    "\n",
    "    for ct in tqdm(cts):\n",
    "        ct = round(ct, 2) #limit to two decimals\n",
    "        crowd_cost = []\n",
    "        total_cost = []\n",
    "        items_classified_in = []\n",
    "        items_classified_out = []\n",
    "        ct_loss = []\n",
    "        ct_recall = []\n",
    "        ct_precision = []\n",
    "        ct_classified_amount = []\n",
    "        ct_unclassified_amount = []\n",
    "\n",
    "        for _ in range(iterations_per_ct):\n",
    "            workers_accuracy = alg_utils.simulate_workers(workers_num, z, fixed_acc, workers_acc)\n",
    "            params = {\n",
    "                'workers_accuracy': workers_accuracy,\n",
    "                'workers_num': workers_num,\n",
    "                'items_num': items_num,\n",
    "                'cost_ratio': cr,\n",
    "                'votes_per_item': base_votes_per_item,\n",
    "                'classification_fn': cf\n",
    "            }\n",
    "                \n",
    "            ground_truth = alg_utils.generate_gold_data(items_num, data_true_percentage)\n",
    "\n",
    "            ct_i_results = generate_votes_3(params, items_num, ct, ground_truth)\n",
    "\n",
    "            items_classification = ct_i_results[0]\n",
    "            total_votes = ct_i_results[1]\n",
    "\n",
    "            loss,  recall, precision = alg_utils.Metrics.compute_metrics(items_classification, ground_truth)\n",
    "            ct_loss.append(loss)\n",
    "            ct_recall.append(recall)\n",
    "            ct_precision.append(precision)\n",
    "            \n",
    "            ct_i_crowd_cost = sum([len(v) for i, v in total_votes.items()]) * cr\n",
    "            ct_i_total_cost = ct_i_crowd_cost\n",
    "       \n",
    "            crowd_cost.append(ct_i_crowd_cost)\n",
    "            total_cost.append(ct_i_total_cost)\n",
    "        #end for iterations\n",
    "        \n",
    "        main_results.append(\n",
    "            [ct,\n",
    "             round(np.mean(crowd_cost), 3), \n",
    "             round(np.std(crowd_cost), 3),\n",
    "             round(np.mean(total_cost), 3),\n",
    "             round(np.std(total_cost), 3),\n",
    "             round(np.mean(ct_loss), 3),\n",
    "             round(np.std(ct_loss), 3),\n",
    "             round(np.mean(ct_recall), 3),\n",
    "             round(np.std(ct_recall), 3),\n",
    "             round(np.mean(ct_precision), 3),\n",
    "             round(np.std(ct_precision), 3)\n",
    "            ])\n",
    "    #end for thresholds\n",
    "\n",
    "    return main_results"
   ]
  },
  {
   "cell_type": "markdown",
   "metadata": {},
   "source": [
    "## 3.2) Run experiment 3 and see the results"
   ]
  },
  {
   "cell_type": "code",
   "execution_count": 49,
   "metadata": {},
   "outputs": [
    {
     "name": "stderr",
     "output_type": "stream",
     "text": [
      "\n",
      "\n",
      "  0%|          | 0/5 [00:00<?, ?it/s]\u001b[A\u001b[A\n",
      "\n",
      " 20%|██        | 1/5 [00:01<00:05,  1.29s/it]\u001b[A\u001b[A\n",
      "\n",
      " 40%|████      | 2/5 [00:02<00:03,  1.31s/it]\u001b[A\u001b[A\n",
      "\n",
      " 60%|██████    | 3/5 [00:04<00:02,  1.39s/it]\u001b[A\u001b[A\n",
      "\n",
      " 80%|████████  | 4/5 [00:05<00:01,  1.43s/it]\u001b[A\u001b[A\n",
      "\n",
      "100%|██████████| 5/5 [00:07<00:00,  1.63s/it]\u001b[A\u001b[A\n",
      "\n",
      "\u001b[A\u001b[A"
     ]
    },
    {
     "data": {
      "text/html": [
       "<div>\n",
       "<style scoped>\n",
       "    .dataframe tbody tr th:only-of-type {\n",
       "        vertical-align: middle;\n",
       "    }\n",
       "\n",
       "    .dataframe tbody tr th {\n",
       "        vertical-align: top;\n",
       "    }\n",
       "\n",
       "    .dataframe thead th {\n",
       "        text-align: right;\n",
       "    }\n",
       "</style>\n",
       "<table border=\"1\" class=\"dataframe\">\n",
       "  <thead>\n",
       "    <tr style=\"text-align: right;\">\n",
       "      <th></th>\n",
       "      <th>Threshold</th>\n",
       "      <th>Cost mean</th>\n",
       "      <th>Cost Std</th>\n",
       "      <th>TC mean</th>\n",
       "      <th>TC std</th>\n",
       "      <th>Loss mean</th>\n",
       "      <th>Loss Std</th>\n",
       "      <th>Recall mean</th>\n",
       "      <th>Recall Std</th>\n",
       "      <th>Precision mean</th>\n",
       "      <th>Precision Std</th>\n",
       "    </tr>\n",
       "  </thead>\n",
       "  <tbody>\n",
       "    <tr>\n",
       "      <th>0</th>\n",
       "      <td>0.50</td>\n",
       "      <td>2.313</td>\n",
       "      <td>0.045</td>\n",
       "      <td>2.313</td>\n",
       "      <td>0.045</td>\n",
       "      <td>0.115</td>\n",
       "      <td>0.026</td>\n",
       "      <td>0.846</td>\n",
       "      <td>0.049</td>\n",
       "      <td>0.919</td>\n",
       "      <td>0.034</td>\n",
       "    </tr>\n",
       "    <tr>\n",
       "      <th>1</th>\n",
       "      <td>0.80</td>\n",
       "      <td>2.328</td>\n",
       "      <td>0.049</td>\n",
       "      <td>2.328</td>\n",
       "      <td>0.049</td>\n",
       "      <td>0.237</td>\n",
       "      <td>0.040</td>\n",
       "      <td>0.548</td>\n",
       "      <td>0.074</td>\n",
       "      <td>0.961</td>\n",
       "      <td>0.038</td>\n",
       "    </tr>\n",
       "    <tr>\n",
       "      <th>2</th>\n",
       "      <td>0.85</td>\n",
       "      <td>2.323</td>\n",
       "      <td>0.049</td>\n",
       "      <td>2.323</td>\n",
       "      <td>0.049</td>\n",
       "      <td>0.229</td>\n",
       "      <td>0.033</td>\n",
       "      <td>0.568</td>\n",
       "      <td>0.056</td>\n",
       "      <td>0.957</td>\n",
       "      <td>0.038</td>\n",
       "    </tr>\n",
       "    <tr>\n",
       "      <th>3</th>\n",
       "      <td>0.90</td>\n",
       "      <td>2.324</td>\n",
       "      <td>0.040</td>\n",
       "      <td>2.324</td>\n",
       "      <td>0.040</td>\n",
       "      <td>0.229</td>\n",
       "      <td>0.038</td>\n",
       "      <td>0.569</td>\n",
       "      <td>0.073</td>\n",
       "      <td>0.955</td>\n",
       "      <td>0.037</td>\n",
       "    </tr>\n",
       "    <tr>\n",
       "      <th>4</th>\n",
       "      <td>0.95</td>\n",
       "      <td>2.321</td>\n",
       "      <td>0.042</td>\n",
       "      <td>2.321</td>\n",
       "      <td>0.042</td>\n",
       "      <td>0.232</td>\n",
       "      <td>0.032</td>\n",
       "      <td>0.559</td>\n",
       "      <td>0.061</td>\n",
       "      <td>0.959</td>\n",
       "      <td>0.030</td>\n",
       "    </tr>\n",
       "  </tbody>\n",
       "</table>\n",
       "</div>"
      ],
      "text/plain": [
       "   Threshold  Cost mean  Cost Std  TC mean  TC std  Loss mean  Loss Std  \\\n",
       "0       0.50      2.313     0.045    2.313   0.045      0.115     0.026   \n",
       "1       0.80      2.328     0.049    2.328   0.049      0.237     0.040   \n",
       "2       0.85      2.323     0.049    2.323   0.049      0.229     0.033   \n",
       "3       0.90      2.324     0.040    2.324   0.040      0.229     0.038   \n",
       "4       0.95      2.321     0.042    2.321   0.042      0.232     0.032   \n",
       "\n",
       "   Recall mean  Recall Std  Precision mean  Precision Std  \n",
       "0        0.846       0.049           0.919          0.034  \n",
       "1        0.548       0.074           0.961          0.038  \n",
       "2        0.568       0.056           0.957          0.038  \n",
       "3        0.569       0.073           0.955          0.037  \n",
       "4        0.559       0.061           0.959          0.030  "
      ]
     },
     "execution_count": 49,
     "metadata": {},
     "output_type": "execute_result"
    }
   ],
   "source": [
    "results_mv_break_tie = run_experiment_3()\n",
    "\n",
    "#table    \n",
    "pd.DataFrame(results_mv_break_tie, columns=pdColumns).to_csv('results/mv_break_tie.csv', index=False)\n",
    "pd.DataFrame(results_mv_break_tie, columns=pdColumns)"
   ]
  },
  {
   "cell_type": "markdown",
   "metadata": {},
   "source": [
    "## Results comparison"
   ]
  },
  {
   "cell_type": "code",
   "execution_count": 50,
   "metadata": {},
   "outputs": [
    {
     "data": {
      "image/png": "[encoded data removed]",
      "text/plain": [
       "<Figure size 432x288 with 1 Axes>"
      ]
     },
     "metadata": {
      "needs_background": "light"
     },
     "output_type": "display_data"
    },
    {
     "data": {
      "image/png": "[encoded data removed]",
      "text/plain": [
       "<Figure size 432x288 with 1 Axes>"
      ]
     },
     "metadata": {
      "needs_background": "light"
     },
     "output_type": "display_data"
    },
    {
     "data": {
      "image/png": "[encoded data removed]",
      "text/plain": [
       "<Figure size 432x288 with 1 Axes>"
      ]
     },
     "metadata": {
      "needs_background": "light"
     },
     "output_type": "display_data"
    },
    {
     "data": {
      "image/png": "[encoded data removed]",
      "text/plain": [
       "<Figure size 432x288 with 1 Axes>"
      ]
     },
     "metadata": {
      "needs_background": "light"
     },
     "output_type": "display_data"
    },
    {
     "data": {
      "image/png": "[encoded data removed]",
      "text/plain": [
       "<Figure size 432x288 with 1 Axes>"
      ]
     },
     "metadata": {
      "needs_background": "light"
     },
     "output_type": "display_data"
    },
    {
     "data": {
      "image/png": "[encoded data removed]",
      "text/plain": [
       "<Figure size 432x288 with 1 Axes>"
      ]
     },
     "metadata": {
      "needs_background": "light"
     },
     "output_type": "display_data"
    },
    {
     "data": {
      "image/png": "[encoded data removed]",
      "text/plain": [
       "<Figure size 432x288 with 1 Axes>"
      ]
     },
     "metadata": {
      "needs_background": "light"
     },
     "output_type": "display_data"
    },
    {
     "data": {
      "image/png": "[encoded data removed]",
      "text/plain": [
       "<Figure size 432x288 with 1 Axes>"
      ]
     },
     "metadata": {
      "needs_background": "light"
     },
     "output_type": "display_data"
    },
    {
     "data": {
      "image/png": "[encoded data removed]",
      "text/plain": [
       "<Figure size 432x288 with 1 Axes>"
      ]
     },
     "metadata": {
      "needs_background": "light"
     },
     "output_type": "display_data"
    },
    {
     "data": {
      "image/png": "[encoded data removed]",
      "text/plain": [
       "<Figure size 432x288 with 1 Axes>"
      ]
     },
     "metadata": {
      "needs_background": "light"
     },
     "output_type": "display_data"
    }
   ],
   "source": [
    "results_mv_baseline = pd.read_csv('./results/baseline_mv.csv')\n",
    "results_mv = pd.read_csv('./results/smart_stop_mv.csv')\n",
    "results_mv_break_tie = pd.read_csv('./results/mv_break_tie.csv')\n",
    "\n",
    "cts = results_mv_baseline['Threshold']\n",
    "    \n",
    "for column in columns:\n",
    "    alg_utils.plot_results(cts, \n",
    "                           {\n",
    "                               \"B&A\": results_mv_break_tie[column],\n",
    "                               \"Smart\": results_mv[column],\n",
    "                               \"Base\": results_mv_baseline[column],\n",
    "                           }, \n",
    "                           \"Threshold\", \n",
    "                           column)"
   ]
  },
  {
   "cell_type": "code",
   "execution_count": null,
   "metadata": {},
   "outputs": [],
   "source": []
  }
 ],
 "metadata": {
  "kernelspec": {
   "display_name": "Python 3",
   "language": "python",
   "name": "python3"
  },
  "language_info": {
   "codemirror_mode": {
    "name": "ipython",
    "version": 3
   },
   "file_extension": ".py",
   "mimetype": "text/x-python",
   "name": "python",
   "nbconvert_exporter": "python",
   "pygments_lexer": "ipython3",
   "version": "3.7.0"
  }
 },
 "nbformat": 4,
 "nbformat_minor": 2
}
