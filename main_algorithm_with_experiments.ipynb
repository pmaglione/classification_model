{
 "cells": [
  {
   "cell_type": "markdown",
   "metadata": {},
   "source": [
    "# Problem Statement\n",
    "Performing an efficient management of budget and securing accuracy are key points when using crowdsourcing. In classification scenarios the crowd sometimes can be noisy and generate a lack of concensus over tasks. The majority of the state-of-art approaches set a fixed number of votes per item and aggregate the votes with some criteria, this produces a reduction in the quality and an increment of costs. For this reason we present a smart detection algorithm which predicts the best decision between stop or continue collecting votes over a task and analyze its efficiency with different experiments.\n",
    "\n",
    "Formalizing the problem, given a set of items $I$, a set of votes $V$, a classification function $fn$, a classification threshold $th$ and a cost ratio for crowd to expert vote cost $cr$, for each item we want to find the minimum amount of votes needed to take the decision of continue collecting votes or switch to an expert vote. For this we describe a smart stopping algorithm. \n",
    "\n",
    "**We define a 3 methods structure**:\n",
    "- the **classifier** which returns the probability of an item being classified\n",
    "- the **cost estimator** which returns the estimated cost for each item given the votes\n",
    "- the **decision function** which returns a boolean decision for each item"
   ]
  },
  {
   "cell_type": "markdown",
   "metadata": {},
   "source": [
    "# Rationale for the algorithms"
   ]
  },
  {
   "cell_type": "markdown",
   "metadata": {},
   "source": [
    "### Classifier function"
   ]
  },
  {
   "cell_type": "markdown",
   "metadata": {},
   "source": [
    "- Input: item votes\n",
    "- Output: probability IN [0, 1]"
   ]
  },
  {
   "cell_type": "markdown",
   "metadata": {},
   "source": [
    "### Cost estimator function\n"
   ]
  },
  {
   "cell_type": "markdown",
   "metadata": {},
   "source": [
    "- Input: item votes, classification threshold, classification function, cost ratio\n",
    "- Output: predicted cost\n",
    "- Logic:\n",
    "    - Iterate 50 times for converging the results\n",
    "        - Calculate actual cost for the given votes\n",
    "        - While (is not classified or is not too expensive)\n",
    "            - If actual cost is not too expensive\n",
    "                - Get P(IN) using the classification function\n",
    "                - If P(IN) > threshold\n",
    "                    - **Stop because item can be classified**\n",
    "                - Else\n",
    "                    - Simulate 1 vote over the item using P(IN)\n",
    "                    - Increment actual cost\n",
    "            - Else **stop because the item is too expensive to be classified**"
   ]
  },
  {
   "cell_type": "markdown",
   "metadata": {},
   "source": [
    "### Decision function\n",
    "\n"
   ]
  },
  {
   "cell_type": "markdown",
   "metadata": {},
   "source": [
    "- Input: items, votes, classification_threshold, cost_ratio, classification_function\n",
    "- Output: Boolean decision over each item, where True = continue and False = stop collecting votes\n",
    "- Logic:\n",
    "    - For each item\n",
    "        - Get P(IN) using the classification function\n",
    "        - If P(IN) > classification threshold\n",
    "            - Decision over item = False\n",
    "        - Else\n",
    "            - Call **cost estimator function**\n",
    "                - If cost estimated <= max cost\n",
    "                    - Decision over item = True\n",
    "                - Else\n",
    "                    - Decision over item = False\n"
   ]
  },
  {
   "cell_type": "markdown",
   "metadata": {},
   "source": [
    "# Experiments"
   ]
  },
  {
   "cell_type": "markdown",
   "metadata": {},
   "source": [
    "Here we discuss a few experiments, the objective is to compare the overall crowdsourcing cost and quality in the case where we have a smart stopping algorithm vs \n",
    "- the baseline approach where all items receive the same amount of votes\n",
    "- an approach introduced by Andrew W. Brown and David B. Allison. 2014. Using Crowdsourcing to Evaluate Published Scientific Literature: Methods and Example. Plos One 9, 7 (2014). Where 2 votes are requested and if they disagree ask a third to break the tie"
   ]
  },
  {
   "cell_type": "markdown",
   "metadata": {},
   "source": [
    "### Experiments Imports"
   ]
  },
  {
   "cell_type": "code",
   "execution_count": 1,
   "metadata": {},
   "outputs": [
    {
     "data": {
      "text/html": [
       "<script>\n",
       "code_show=true; \n",
       "function code_toggle() {\n",
       " if (code_show){\n",
       " $('div.input').hide();\n",
       " } else {\n",
       " $('div.input').show();\n",
       " }\n",
       " code_show = !code_show\n",
       "} \n",
       "$( document ).ready(code_toggle);\n",
       "</script>\n",
       "The raw code for this IPython notebook is by default hidden for easier reading.\n",
       "To toggle on/off the raw code, click <a href=\"javascript:code_toggle()\">here</a>."
      ],
      "text/plain": [
       "<IPython.core.display.HTML object>"
      ]
     },
     "execution_count": 1,
     "metadata": {},
     "output_type": "execute_result"
    }
   ],
   "source": [
    "%matplotlib inline\n",
    "\n",
    "import numpy as np\n",
    "from tqdm import tqdm\n",
    "import pandas as pd\n",
    "from helpers.mv_single_binary import majority_voting\n",
    "import helpers.algorithms_utils as alg_utils\n",
    "from IPython.display import HTML\n",
    "\n",
    "HTML('''<script>\n",
    "code_show=true; \n",
    "function code_toggle() {\n",
    " if (code_show){\n",
    " $('div.input').hide();\n",
    " } else {\n",
    " $('div.input').show();\n",
    " }\n",
    " code_show = !code_show\n",
    "} \n",
    "$( document ).ready(code_toggle);\n",
    "</script>\n",
    "The raw code for this IPython notebook is by default hidden for easier reading.\n",
    "To toggle on/off the raw code, click <a href=\"javascript:code_toggle()\">here</a>.''')"
   ]
  },
  {
   "cell_type": "markdown",
   "metadata": {},
   "source": [
    "### Hyperparameters for all experiments"
   ]
  },
  {
   "cell_type": "code",
   "execution_count": 2,
   "metadata": {},
   "outputs": [],
   "source": [
    "#main \n",
    "cf = majority_voting\n",
    "cr = .01 #ratio 1:100\n",
    "base_votes_per_item = 3\n",
    "\n",
    "#cost estimator\n",
    "drawing_simulations_amount = 50\n",
    "expert_cost_increment = 2\n",
    "\n",
    "#crowd\n",
    "workers_num = 1000\n",
    "z = 0 #% cheaters\n",
    "fixed_acc = False\n",
    "workers_acc = .9\n",
    "\n",
    "#ground truth \n",
    "items_num = 100\n",
    "data_true_percentage = .5\n",
    "\n",
    "#experiment \n",
    "iterations_per_ct = 50\n",
    "cts = [.5, .8, .85, .9, .95] #classification thresholds"
   ]
  },
  {
   "cell_type": "code",
   "execution_count": 3,
   "metadata": {},
   "outputs": [],
   "source": [
    "columns = [\"Cost mean\",\"Cost Std\", \"TC mean\", \"TC std\", \"Loss mean\", \"Loss Std\", \"Recall mean\", \"Recall Std\", \"Precision mean\", \"Precision Std\"]\n",
    "pdColumns = [\"Threshold\"] + columns"
   ]
  },
  {
   "cell_type": "markdown",
   "metadata": {},
   "source": [
    "## 1) Experiments without considering workers accuracy for predictions"
   ]
  },
  {
   "cell_type": "markdown",
   "metadata": {},
   "source": [
    "## 1.1) Smart stop with MV as classification function, where the Expected cost is limited by expert cost."
   ]
  },
  {
   "cell_type": "markdown",
   "metadata": {},
   "source": [
    "## 1.1.1) Logic"
   ]
  },
  {
   "cell_type": "markdown",
   "metadata": {},
   "source": [
    "1. Evalute for each classification threshold in [.7, .75, .8, .85, .9, .95]\n",
    "2. Iterate 50 times per threshold for converging results doing:\n",
    "    1. Generate workers accuracy\n",
    "    2. Generate ground truth values\n",
    "    3. Generate the base votes for each item\n",
    "    4. Call the decision function\n",
    "        1. If we have any item to continue collecting votes:\n",
    "            1. Collect 1 more vote per item\n",
    "            2. Call decision function\n",
    "    5. Classify items using MV\n",
    "        1. If P(IN) > threshold, classify it as IN\n",
    "        2. If P(IN) < .3, classify it as OUT\n",
    "        3. If .3 < P(IN) <= threshold, switch to expert vote\n",
    "    6. Calculate the metrics"
   ]
  },
  {
   "cell_type": "code",
   "execution_count": 4,
   "metadata": {},
   "outputs": [],
   "source": [
    "'''\n",
    "    Input:\n",
    "        v - votes for item i\n",
    "        ct - value between 0 and 1 for deciding if prob of data is enough or must continue\n",
    "        cf - function to calculate how likely is to be classified\n",
    "        cr - cost ratio between crowd to expert vote [0,1]\n",
    "    Output:\n",
    "        (cost_mean, cost_std)\n",
    "'''\n",
    "def cost_estimator(v, ct, cf, cr):\n",
    "    simulated_costs = []\n",
    "    \n",
    "    for _ in range(drawing_simulations_amount):\n",
    "        must_continue = True\n",
    "        i_item_votes = v.copy()\n",
    "        while (must_continue):\n",
    "            classification_prob = cf(alg_utils.input_adapter_single(i_item_votes))\n",
    "            if classification_prob > ct:\n",
    "                must_continue = False            \n",
    "                simulated_costs.append(len(i_item_votes) * cr)\n",
    "            else:\n",
    "                vote = np.random.binomial(1, classification_prob)\n",
    "                new_index = max(i_item_votes.keys()) + 1\n",
    "                i_item_votes[new_index] = [vote]\n",
    " \n",
    "                if((len(i_item_votes) * cr) >= (1 * expert_cost_increment)):\n",
    "                    must_continue = False\n",
    "                    simulated_costs.append(len(i_item_votes) * cr)\n",
    "        #end while      \n",
    "    #end for\n",
    "                    \n",
    "    return (np.mean(simulated_costs),np.std(simulated_costs))"
   ]
  },
  {
   "cell_type": "code",
   "execution_count": 5,
   "metadata": {},
   "outputs": [],
   "source": [
    "'''\n",
    "Function to answer: must continue collecting votes over each task?\n",
    "\n",
    "Input:\n",
    "items - set of items\n",
    "votes - set of votes over each item\n",
    "classification_threshold - value between 0 and 1 for deciding if prob of data is enough or must continue\n",
    "cost_ratio - ratio of crowd to expert cost, [0,1]\n",
    "classification_function - function to calculate how likely is to be classified\n",
    "\n",
    "Output:\n",
    "    Dictionary with the decision indexed by item_id\n",
    "        {\n",
    "            item_id: bool\n",
    "            ...\n",
    "            item_n: ...\n",
    "        }\n",
    "    Where False = Stop and True=Continue collecting votes\n",
    "'''\n",
    "def decision_function(items, votes, classification_threshold, cost_ratio, classification_function):       \n",
    "    results = dict.fromkeys(range(items), False)\n",
    "\n",
    "    for item_id, item_true_votes in votes.items():            \n",
    "        item_votes = item_true_votes.copy()\n",
    "        actual_cost = len(item_votes) * cr\n",
    "        classification_prob = classification_function(alg_utils.input_adapter_single(item_votes))\n",
    "        \n",
    "        if ((classification_prob <= classification_threshold) and (actual_cost <= 1)):\n",
    "           \n",
    "            cost_mean, cost_std = cost_estimator(item_votes, classification_threshold, classification_function, cost_ratio)\n",
    "           \n",
    "            if(cost_mean <= 1):\n",
    "                results[item_id] = True\n",
    "\n",
    "    return results"
   ]
  },
  {
   "cell_type": "code",
   "execution_count": 8,
   "metadata": {},
   "outputs": [],
   "source": [
    "def generate_votes_1(params, items_num, ct, gt):\n",
    "    total_votes = {}\n",
    "\n",
    "    #base votes\n",
    "    for i in range(items_num):\n",
    "        total_votes[i] = {}\n",
    "        for k in range(params['votes_per_item']):\n",
    "            worker_id, vote = alg_utils.get_worker_vote(params['workers_accuracy'], i, gt, total_votes)\n",
    "\n",
    "            total_votes[i][worker_id] = [vote]\n",
    "\n",
    "    #evaluate votes\n",
    "    results = decision_function(items_num, total_votes, ct, params['cost_ratio'], \n",
    "                                                   params['classification_fn'])\n",
    "    #Check if must continue collecting votes\n",
    "    items_predicted_classified = alg_utils.get_items_predicted_classified(results)\n",
    "    must_get_more_votes = len(items_predicted_classified) > 0\n",
    "\n",
    "    while(must_get_more_votes):\n",
    "        total_votes_aux = {}\n",
    "        for i, v in items_predicted_classified.items():           \n",
    "            worker_id, vote = alg_utils.get_worker_vote(params['workers_accuracy'], i, gt, total_votes)\n",
    "            \n",
    "            total_votes[i][worker_id] = [vote]\n",
    "            \n",
    "            total_votes_aux[i] = total_votes[i]\n",
    "        #end for\n",
    "        results = decision_function(len(total_votes_aux), total_votes_aux, ct, params['cost_ratio'], \n",
    "                                                   params['classification_fn'])\n",
    "\n",
    "        #Stop when there are no more items that can be classified\n",
    "        items_predicted_classified = alg_utils.get_items_predicted_classified(results)\n",
    "        must_get_more_votes = len(items_predicted_classified) > 0\n",
    "    #end while\n",
    "\n",
    "    items_classification = alg_utils.classify_items_mv(total_votes, gt, params['classification_fn'], ct)\n",
    "\n",
    "    return [items_classification, total_votes]"
   ]
  },
  {
   "cell_type": "code",
   "execution_count": 7,
   "metadata": {},
   "outputs": [],
   "source": [
    "def run_experiment_1():\n",
    "    main_results = []\n",
    "\n",
    "    for ct in tqdm(cts):\n",
    "        ct = round(ct, 2) #limit to two decimals\n",
    "        crowd_cost = []\n",
    "        total_cost = []\n",
    "        items_classified_in = []\n",
    "        items_classified_out = []\n",
    "        ct_loss = []\n",
    "        ct_recall = []\n",
    "        ct_precision = []\n",
    "        ct_classified_amount = []\n",
    "        ct_unclassified_amount = []\n",
    "\n",
    "        for _ in range(iterations_per_ct):\n",
    "            workers_accuracy = alg_utils.simulate_workers(workers_num, z, fixed_acc, workers_acc)\n",
    "            \n",
    "            params = {\n",
    "                'workers_accuracy': workers_accuracy,\n",
    "                'workers_num': workers_num,\n",
    "                'items_num': items_num,\n",
    "                'cost_ratio': cr,\n",
    "                'votes_per_item': base_votes_per_item,\n",
    "                'classification_fn': cf\n",
    "            }\n",
    "            \n",
    "            ground_truth = alg_utils.generate_gold_data(items_num, data_true_percentage)\n",
    "\n",
    "            ct_i_results = generate_votes_1(params, items_num, ct, ground_truth)\n",
    "\n",
    "            items_classification = ct_i_results[0]\n",
    "            total_votes = ct_i_results[1]\n",
    "            \n",
    "            classified_amount, unclassified_amount, ct_i_crowd_cost, ct_i_total_cost = alg_utils.get_total_cost(total_votes, cr, cf, ct, False)\n",
    "            \n",
    "            ct_classified_amount.append(classified_amount)\n",
    "            ct_unclassified_amount.append(unclassified_amount)\n",
    "            crowd_cost.append(ct_i_crowd_cost)\n",
    "            total_cost.append(ct_i_total_cost)\n",
    "\n",
    "            loss,  recall, precision = alg_utils.Metrics.compute_metrics(items_classification, ground_truth)\n",
    "            ct_loss.append(loss)\n",
    "            ct_recall.append(recall)\n",
    "            ct_precision.append(precision)\n",
    "        #end for iterations\n",
    "\n",
    "        main_results.append(\n",
    "            [ct, \n",
    "             round(np.mean(crowd_cost), 3), \n",
    "             round(np.std(crowd_cost), 3),\n",
    "             round(np.mean(total_cost), 3),\n",
    "             round(np.std(total_cost), 3),\n",
    "             round(np.mean(ct_loss), 3),\n",
    "             round(np.std(ct_loss), 3),\n",
    "             round(np.mean(ct_recall), 3),\n",
    "             round(np.std(ct_recall), 3),\n",
    "             round(np.mean(ct_precision), 3),\n",
    "             round(np.std(ct_precision), 3)\n",
    "            ])\n",
    "    #end for thresholds\n",
    "\n",
    "    return main_results"
   ]
  },
  {
   "cell_type": "markdown",
   "metadata": {},
   "source": [
    "## 1.1.2) Run experiment 1 and see the results "
   ]
  },
  {
   "cell_type": "code",
   "execution_count": 9,
   "metadata": {},
   "outputs": [
    {
     "name": "stderr",
     "output_type": "stream",
     "text": [
      "  0%|          | 0/5 [00:00<?, ?it/s]"
     ]
    },
    {
     "name": "stdout",
     "output_type": "stream",
     "text": [
      "\n",
      "        Hyparparameters:\n",
      "            - Classification\n",
      "                * Classification function: majority_voting\n",
      "                * Cost ratio: 0.01\n",
      "            - Classification thresholds:\n",
      "                * [0.5, 0.8, 0.85, 0.9, 0.95]\n",
      "            - Items\n",
      "                * Amount: 100 \n",
      "                * Ground true percentage: 0.5\n",
      "            - MV votes:\n",
      "                * Base votes per item: 3\n",
      "            - Workers\n",
      "                * Amount of workers: 1000\n",
      "                * Cheaters percentage: 0\n",
      "                * Workers fixed accuracy? False\n",
      "            - Cost estimator fn\n",
      "                * Cost estimator drawing number: 50\n",
      "                * Expert cost increment: 2\n",
      "    \n"
     ]
    },
    {
     "name": "stderr",
     "output_type": "stream",
     "text": [
      "100%|██████████| 5/5 [1:24:10<00:00, 997.13s/it]\n"
     ]
    },
    {
     "data": {
      "text/html": [
       "<div>\n",
       "<style scoped>\n",
       "    .dataframe tbody tr th:only-of-type {\n",
       "        vertical-align: middle;\n",
       "    }\n",
       "\n",
       "    .dataframe tbody tr th {\n",
       "        vertical-align: top;\n",
       "    }\n",
       "\n",
       "    .dataframe thead th {\n",
       "        text-align: right;\n",
       "    }\n",
       "</style>\n",
       "<table border=\"1\" class=\"dataframe\">\n",
       "  <thead>\n",
       "    <tr style=\"text-align: right;\">\n",
       "      <th></th>\n",
       "      <th>Threshold</th>\n",
       "      <th>Cost mean</th>\n",
       "      <th>Cost Std</th>\n",
       "      <th>TC mean</th>\n",
       "      <th>TC std</th>\n",
       "      <th>Loss mean</th>\n",
       "      <th>Loss Std</th>\n",
       "      <th>Recall mean</th>\n",
       "      <th>Recall Std</th>\n",
       "      <th>Precision mean</th>\n",
       "      <th>Precision Std</th>\n",
       "    </tr>\n",
       "  </thead>\n",
       "  <tbody>\n",
       "    <tr>\n",
       "      <th>0</th>\n",
       "      <td>0.50</td>\n",
       "      <td>3.007</td>\n",
       "      <td>0.010</td>\n",
       "      <td>3.007</td>\n",
       "      <td>0.010</td>\n",
       "      <td>0.109</td>\n",
       "      <td>0.034</td>\n",
       "      <td>0.848</td>\n",
       "      <td>0.051</td>\n",
       "      <td>0.929</td>\n",
       "      <td>0.038</td>\n",
       "    </tr>\n",
       "    <tr>\n",
       "      <th>1</th>\n",
       "      <td>0.80</td>\n",
       "      <td>3.332</td>\n",
       "      <td>0.091</td>\n",
       "      <td>3.332</td>\n",
       "      <td>0.091</td>\n",
       "      <td>0.234</td>\n",
       "      <td>0.033</td>\n",
       "      <td>0.536</td>\n",
       "      <td>0.065</td>\n",
       "      <td>0.994</td>\n",
       "      <td>0.014</td>\n",
       "    </tr>\n",
       "    <tr>\n",
       "      <th>2</th>\n",
       "      <td>0.85</td>\n",
       "      <td>3.057</td>\n",
       "      <td>0.039</td>\n",
       "      <td>3.057</td>\n",
       "      <td>0.039</td>\n",
       "      <td>0.292</td>\n",
       "      <td>0.029</td>\n",
       "      <td>0.420</td>\n",
       "      <td>0.059</td>\n",
       "      <td>0.989</td>\n",
       "      <td>0.019</td>\n",
       "    </tr>\n",
       "    <tr>\n",
       "      <th>3</th>\n",
       "      <td>0.90</td>\n",
       "      <td>3.000</td>\n",
       "      <td>0.000</td>\n",
       "      <td>3.000</td>\n",
       "      <td>0.000</td>\n",
       "      <td>0.285</td>\n",
       "      <td>0.042</td>\n",
       "      <td>0.434</td>\n",
       "      <td>0.082</td>\n",
       "      <td>0.989</td>\n",
       "      <td>0.021</td>\n",
       "    </tr>\n",
       "    <tr>\n",
       "      <th>4</th>\n",
       "      <td>0.95</td>\n",
       "      <td>3.000</td>\n",
       "      <td>0.000</td>\n",
       "      <td>3.000</td>\n",
       "      <td>0.000</td>\n",
       "      <td>0.292</td>\n",
       "      <td>0.035</td>\n",
       "      <td>0.420</td>\n",
       "      <td>0.071</td>\n",
       "      <td>0.992</td>\n",
       "      <td>0.018</td>\n",
       "    </tr>\n",
       "  </tbody>\n",
       "</table>\n",
       "</div>"
      ],
      "text/plain": [
       "   Threshold  Cost mean  Cost Std  TC mean  TC std  Loss mean  Loss Std  \\\n",
       "0       0.50      3.007     0.010    3.007   0.010      0.109     0.034   \n",
       "1       0.80      3.332     0.091    3.332   0.091      0.234     0.033   \n",
       "2       0.85      3.057     0.039    3.057   0.039      0.292     0.029   \n",
       "3       0.90      3.000     0.000    3.000   0.000      0.285     0.042   \n",
       "4       0.95      3.000     0.000    3.000   0.000      0.292     0.035   \n",
       "\n",
       "   Recall mean  Recall Std  Precision mean  Precision Std  \n",
       "0        0.848       0.051           0.929          0.038  \n",
       "1        0.536       0.065           0.994          0.014  \n",
       "2        0.420       0.059           0.989          0.019  \n",
       "3        0.434       0.082           0.989          0.021  \n",
       "4        0.420       0.071           0.992          0.018  "
      ]
     },
     "execution_count": 9,
     "metadata": {},
     "output_type": "execute_result"
    }
   ],
   "source": [
    "alg_utils.print_hyperparameters(cf, cr,base_votes_per_item, drawing_simulations_amount, expert_cost_increment, workers_num, z, fixed_acc, items_num, data_true_percentage, iterations_per_ct, cts)\n",
    "results_mv = run_experiment_1()\n",
    "\n",
    "#table    \n",
    "pd.DataFrame(results_mv, columns=pdColumns).to_csv('results/smart_stop_mv_not_expert.csv', index=False)\n",
    "pd.DataFrame(results_mv, columns=pdColumns)"
   ]
  },
  {
   "cell_type": "markdown",
   "metadata": {},
   "source": [
    "## 1.2) MV with fixed number of votes per item"
   ]
  },
  {
   "cell_type": "markdown",
   "metadata": {},
   "source": [
    "In this experiment we use the baseline approach of majority voting with a fixed number of votes per item and a classification threshold of .5"
   ]
  },
  {
   "cell_type": "markdown",
   "metadata": {},
   "source": [
    "## 1.2.1) Logic"
   ]
  },
  {
   "cell_type": "markdown",
   "metadata": {},
   "source": [
    "1. Iterate 50 times for converging results where:\n",
    "    1. Generate workers accuracy\n",
    "    2. Generate ground truth values\n",
    "    3. Generate a fixed number of votes for each item\n",
    "    4. Classify items using MV\n",
    "    5. Calculate the metrics"
   ]
  },
  {
   "cell_type": "code",
   "execution_count": 10,
   "metadata": {},
   "outputs": [],
   "source": [
    "def generate_votes_2(params, items_num, ct, gt):\n",
    "    total_votes = {}\n",
    "\n",
    "    #base votes\n",
    "    for i in range(items_num):\n",
    "        total_votes[i] = {}\n",
    "        for k in range(params['votes_per_item']):\n",
    "            worker_id, vote = alg_utils.get_worker_vote(params['workers_accuracy'], i, gt, total_votes)\n",
    "\n",
    "            total_votes[i][worker_id] = [vote]\n",
    "\n",
    "    items_classification = alg_utils.classify_items_mv(total_votes, gt, params['classification_fn'], ct)\n",
    "    \n",
    "    return [items_classification, total_votes]"
   ]
  },
  {
   "cell_type": "code",
   "execution_count": 11,
   "metadata": {},
   "outputs": [],
   "source": [
    "def run_experiment_2():\n",
    "    main_results = []\n",
    "\n",
    "    for ct in tqdm(cts):\n",
    "        ct = round(ct, 2) #limit to two decimals\n",
    "        crowd_cost = []\n",
    "        total_cost = []\n",
    "        items_classified_in = []\n",
    "        items_classified_out = []\n",
    "        ct_loss = []\n",
    "        ct_recall = []\n",
    "        ct_precision = []\n",
    "        ct_classified_amount = []\n",
    "        ct_unclassified_amount = []\n",
    "\n",
    "        for _ in range(iterations_per_ct):\n",
    "            workers_accuracy = alg_utils.simulate_workers(workers_num, z, fixed_acc, workers_acc)\n",
    "            params = {\n",
    "                'workers_accuracy': workers_accuracy,\n",
    "                'workers_num': workers_num,\n",
    "                'items_num': items_num,\n",
    "                'cost_ratio': cr,\n",
    "                'votes_per_item': base_votes_per_item,\n",
    "                'classification_fn': cf\n",
    "            }\n",
    "                \n",
    "            ground_truth = alg_utils.generate_gold_data(items_num, data_true_percentage)\n",
    "\n",
    "            ct_i_results = generate_votes_2(params, items_num, ct, ground_truth)\n",
    "\n",
    "            items_classification = ct_i_results[0]\n",
    "            total_votes = ct_i_results[1]\n",
    "\n",
    "            loss,  recall, precision = alg_utils.Metrics.compute_metrics(items_classification, ground_truth)\n",
    "            ct_loss.append(loss)\n",
    "            ct_recall.append(recall)\n",
    "            ct_precision.append(precision)\n",
    "            \n",
    "            ct_i_crowd_cost = sum([len(v) for i, v in total_votes.items()]) * cr\n",
    "            ct_i_total_cost = ct_i_crowd_cost\n",
    "       \n",
    "            crowd_cost.append(ct_i_crowd_cost)\n",
    "            total_cost.append(ct_i_total_cost)\n",
    "        #end for iterations\n",
    "        \n",
    "        main_results.append(\n",
    "            [ct,\n",
    "             round(np.mean(crowd_cost), 3), \n",
    "             round(np.std(crowd_cost), 3),\n",
    "             round(np.mean(total_cost), 3),\n",
    "             round(np.std(total_cost), 3),\n",
    "             round(np.mean(ct_loss), 3),\n",
    "             round(np.std(ct_loss), 3),\n",
    "             round(np.mean(ct_recall), 3),\n",
    "             round(np.std(ct_recall), 3),\n",
    "             round(np.mean(ct_precision), 3),\n",
    "             round(np.std(ct_precision), 3)\n",
    "            ])\n",
    "    #end for thresholds\n",
    "\n",
    "    return main_results"
   ]
  },
  {
   "cell_type": "markdown",
   "metadata": {},
   "source": [
    "## 1.2.2) Run experiment 2 and see the results"
   ]
  },
  {
   "cell_type": "code",
   "execution_count": 12,
   "metadata": {},
   "outputs": [
    {
     "name": "stderr",
     "output_type": "stream",
     "text": [
      "  0%|          | 0/5 [00:00<?, ?it/s]"
     ]
    },
    {
     "name": "stdout",
     "output_type": "stream",
     "text": [
      "\n",
      "        Hyparparameters:\n",
      "            - Classification\n",
      "                * Classification function: majority_voting\n",
      "                * Cost ratio: 0.01\n",
      "            - Classification thresholds:\n",
      "                * [0.5, 0.8, 0.85, 0.9, 0.95]\n",
      "            - Items\n",
      "                * Amount: 100 \n",
      "                * Ground true percentage: 0.5\n",
      "            - MV votes:\n",
      "                * Base votes per item: 3\n",
      "            - Workers\n",
      "                * Amount of workers: 1000\n",
      "                * Cheaters percentage: 0\n",
      "                * Workers fixed accuracy? False\n",
      "            - Cost estimator fn\n",
      "                * Cost estimator drawing number: 50\n",
      "                * Expert cost increment: 2\n",
      "    \n"
     ]
    },
    {
     "name": "stderr",
     "output_type": "stream",
     "text": [
      "100%|██████████| 5/5 [00:07<00:00,  1.56s/it]\n"
     ]
    },
    {
     "data": {
      "text/html": [
       "<div>\n",
       "<style scoped>\n",
       "    .dataframe tbody tr th:only-of-type {\n",
       "        vertical-align: middle;\n",
       "    }\n",
       "\n",
       "    .dataframe tbody tr th {\n",
       "        vertical-align: top;\n",
       "    }\n",
       "\n",
       "    .dataframe thead th {\n",
       "        text-align: right;\n",
       "    }\n",
       "</style>\n",
       "<table border=\"1\" class=\"dataframe\">\n",
       "  <thead>\n",
       "    <tr style=\"text-align: right;\">\n",
       "      <th></th>\n",
       "      <th>Threshold</th>\n",
       "      <th>Cost mean</th>\n",
       "      <th>Cost Std</th>\n",
       "      <th>TC mean</th>\n",
       "      <th>TC std</th>\n",
       "      <th>Loss mean</th>\n",
       "      <th>Loss Std</th>\n",
       "      <th>Recall mean</th>\n",
       "      <th>Recall Std</th>\n",
       "      <th>Precision mean</th>\n",
       "      <th>Precision Std</th>\n",
       "    </tr>\n",
       "  </thead>\n",
       "  <tbody>\n",
       "    <tr>\n",
       "      <th>0</th>\n",
       "      <td>0.50</td>\n",
       "      <td>3.0</td>\n",
       "      <td>0.0</td>\n",
       "      <td>3.0</td>\n",
       "      <td>0.0</td>\n",
       "      <td>0.109</td>\n",
       "      <td>0.029</td>\n",
       "      <td>0.853</td>\n",
       "      <td>0.040</td>\n",
       "      <td>0.925</td>\n",
       "      <td>0.037</td>\n",
       "    </tr>\n",
       "    <tr>\n",
       "      <th>1</th>\n",
       "      <td>0.80</td>\n",
       "      <td>3.0</td>\n",
       "      <td>0.0</td>\n",
       "      <td>3.0</td>\n",
       "      <td>0.0</td>\n",
       "      <td>0.289</td>\n",
       "      <td>0.030</td>\n",
       "      <td>0.425</td>\n",
       "      <td>0.061</td>\n",
       "      <td>0.993</td>\n",
       "      <td>0.016</td>\n",
       "    </tr>\n",
       "    <tr>\n",
       "      <th>2</th>\n",
       "      <td>0.85</td>\n",
       "      <td>3.0</td>\n",
       "      <td>0.0</td>\n",
       "      <td>3.0</td>\n",
       "      <td>0.0</td>\n",
       "      <td>0.294</td>\n",
       "      <td>0.037</td>\n",
       "      <td>0.415</td>\n",
       "      <td>0.073</td>\n",
       "      <td>0.991</td>\n",
       "      <td>0.022</td>\n",
       "    </tr>\n",
       "    <tr>\n",
       "      <th>3</th>\n",
       "      <td>0.90</td>\n",
       "      <td>3.0</td>\n",
       "      <td>0.0</td>\n",
       "      <td>3.0</td>\n",
       "      <td>0.0</td>\n",
       "      <td>0.294</td>\n",
       "      <td>0.036</td>\n",
       "      <td>0.417</td>\n",
       "      <td>0.070</td>\n",
       "      <td>0.989</td>\n",
       "      <td>0.025</td>\n",
       "    </tr>\n",
       "    <tr>\n",
       "      <th>4</th>\n",
       "      <td>0.95</td>\n",
       "      <td>3.0</td>\n",
       "      <td>0.0</td>\n",
       "      <td>3.0</td>\n",
       "      <td>0.0</td>\n",
       "      <td>0.289</td>\n",
       "      <td>0.034</td>\n",
       "      <td>0.428</td>\n",
       "      <td>0.068</td>\n",
       "      <td>0.988</td>\n",
       "      <td>0.025</td>\n",
       "    </tr>\n",
       "  </tbody>\n",
       "</table>\n",
       "</div>"
      ],
      "text/plain": [
       "   Threshold  Cost mean  Cost Std  TC mean  TC std  Loss mean  Loss Std  \\\n",
       "0       0.50        3.0       0.0      3.0     0.0      0.109     0.029   \n",
       "1       0.80        3.0       0.0      3.0     0.0      0.289     0.030   \n",
       "2       0.85        3.0       0.0      3.0     0.0      0.294     0.037   \n",
       "3       0.90        3.0       0.0      3.0     0.0      0.294     0.036   \n",
       "4       0.95        3.0       0.0      3.0     0.0      0.289     0.034   \n",
       "\n",
       "   Recall mean  Recall Std  Precision mean  Precision Std  \n",
       "0        0.853       0.040           0.925          0.037  \n",
       "1        0.425       0.061           0.993          0.016  \n",
       "2        0.415       0.073           0.991          0.022  \n",
       "3        0.417       0.070           0.989          0.025  \n",
       "4        0.428       0.068           0.988          0.025  "
      ]
     },
     "execution_count": 12,
     "metadata": {},
     "output_type": "execute_result"
    }
   ],
   "source": [
    "alg_utils.print_hyperparameters(cf, cr,base_votes_per_item, drawing_simulations_amount, expert_cost_increment, workers_num, z, fixed_acc, items_num, data_true_percentage, iterations_per_ct, cts)\n",
    "results_mv_baseline = run_experiment_2()\n",
    "\n",
    "#table    \n",
    "pd.DataFrame(results_mv_baseline, columns=pdColumns).to_csv('results/baseline_mv.csv', index=False)\n",
    "pd.DataFrame(results_mv_baseline, columns=pdColumns)"
   ]
  },
  {
   "cell_type": "markdown",
   "metadata": {},
   "source": [
    "## 1.3) Two votes first and if disagree one more to break the tie"
   ]
  },
  {
   "cell_type": "markdown",
   "metadata": {},
   "source": [
    "In this experiment we collect 2 votes per item and a third one if they disagree."
   ]
  },
  {
   "cell_type": "markdown",
   "metadata": {},
   "source": [
    "## 1.3.1) Logic"
   ]
  },
  {
   "cell_type": "markdown",
   "metadata": {},
   "source": [
    "1. Iterate 50 times for converging results where:\n",
    "    1. Generate workers accuracy\n",
    "    2. Generate ground truth values\n",
    "    3. Generate 2 votes for each item\n",
    "    4. Evalutes the votes:\n",
    "        1. If votes agree:\n",
    "            1. Jump to next step\n",
    "        2. If votes disagree:\n",
    "            1. Get 1 more vote \n",
    "    4. Classify items using MV\n",
    "    5. Calculate the metrics"
   ]
  },
  {
   "cell_type": "code",
   "execution_count": 13,
   "metadata": {},
   "outputs": [],
   "source": [
    "def generate_votes_3(params, items_num, ct, gt):\n",
    "    total_votes = {}\n",
    "\n",
    "    #base votes\n",
    "    for i in range(items_num):\n",
    "        total_votes[i] = {}\n",
    "        for k in range(2):\n",
    "            worker_id, vote = alg_utils.get_worker_vote(params['workers_accuracy'], i, gt, total_votes)\n",
    "\n",
    "            total_votes[i][worker_id] = [vote]\n",
    "            \n",
    "        #if disagree get 1 more vote\n",
    "        votes_disagree = sum([v[0] for i,v in total_votes[i].items()]) == 1\n",
    "        if(votes_disagree):\n",
    "            worker_id, vote = alg_utils.get_worker_vote(params['workers_accuracy'], i, gt, total_votes)\n",
    "\n",
    "            total_votes[i][worker_id] = [vote]\n",
    "\n",
    "    items_classification = alg_utils.classify_items_mv(total_votes, gt, params['classification_fn'], ct)\n",
    "    \n",
    "    return [items_classification, total_votes]"
   ]
  },
  {
   "cell_type": "code",
   "execution_count": 14,
   "metadata": {},
   "outputs": [],
   "source": [
    "def run_experiment_3():\n",
    "    main_results = []\n",
    "\n",
    "    for ct in tqdm(cts):\n",
    "        ct = round(ct, 2) #limit to two decimals\n",
    "        crowd_cost = []\n",
    "        total_cost = []\n",
    "        items_classified_in = []\n",
    "        items_classified_out = []\n",
    "        ct_loss = []\n",
    "        ct_recall = []\n",
    "        ct_precision = []\n",
    "        ct_classified_amount = []\n",
    "        ct_unclassified_amount = []\n",
    "\n",
    "        for _ in range(iterations_per_ct):\n",
    "            workers_accuracy = alg_utils.simulate_workers(workers_num, z, fixed_acc, workers_acc)\n",
    "            params = {\n",
    "                'workers_accuracy': workers_accuracy,\n",
    "                'workers_num': workers_num,\n",
    "                'items_num': items_num,\n",
    "                'cost_ratio': cr,\n",
    "                'votes_per_item': base_votes_per_item,\n",
    "                'classification_fn': cf\n",
    "            }\n",
    "                \n",
    "            ground_truth = alg_utils.generate_gold_data(items_num, data_true_percentage)\n",
    "\n",
    "            ct_i_results = generate_votes_3(params, items_num, ct, ground_truth)\n",
    "\n",
    "            items_classification = ct_i_results[0]\n",
    "            total_votes = ct_i_results[1]\n",
    "\n",
    "            loss,  recall, precision = alg_utils.Metrics.compute_metrics(items_classification, ground_truth)\n",
    "            ct_loss.append(loss)\n",
    "            ct_recall.append(recall)\n",
    "            ct_precision.append(precision)\n",
    "            \n",
    "            ct_i_crowd_cost = sum([len(v) for i, v in total_votes.items()]) * cr\n",
    "            ct_i_total_cost = ct_i_crowd_cost\n",
    "       \n",
    "            crowd_cost.append(ct_i_crowd_cost)\n",
    "            total_cost.append(ct_i_total_cost)\n",
    "        #end for iterations\n",
    "        \n",
    "        main_results.append(\n",
    "            [ct,\n",
    "             round(np.mean(crowd_cost), 3), \n",
    "             round(np.std(crowd_cost), 3),\n",
    "             round(np.mean(total_cost), 3),\n",
    "             round(np.std(total_cost), 3),\n",
    "             round(np.mean(ct_loss), 3),\n",
    "             round(np.std(ct_loss), 3),\n",
    "             round(np.mean(ct_recall), 3),\n",
    "             round(np.std(ct_recall), 3),\n",
    "             round(np.mean(ct_precision), 3),\n",
    "             round(np.std(ct_precision), 3)\n",
    "            ])\n",
    "    #end for thresholds\n",
    "\n",
    "    return main_results"
   ]
  },
  {
   "cell_type": "markdown",
   "metadata": {},
   "source": [
    "## 3.2) Run experiment 3 and see the results"
   ]
  },
  {
   "cell_type": "code",
   "execution_count": 15,
   "metadata": {},
   "outputs": [
    {
     "name": "stderr",
     "output_type": "stream",
     "text": [
      "  0%|          | 0/5 [00:00<?, ?it/s]"
     ]
    },
    {
     "name": "stdout",
     "output_type": "stream",
     "text": [
      "\n",
      "        Hyparparameters:\n",
      "            - Classification\n",
      "                * Classification function: majority_voting\n",
      "                * Cost ratio: 0.01\n",
      "            - Classification thresholds:\n",
      "                * [0.5, 0.8, 0.85, 0.9, 0.95]\n",
      "            - Items\n",
      "                * Amount: 100 \n",
      "                * Ground true percentage: 0.5\n",
      "            - MV votes:\n",
      "                * Base votes per item: 3\n",
      "            - Workers\n",
      "                * Amount of workers: 1000\n",
      "                * Cheaters percentage: 0\n",
      "                * Workers fixed accuracy? False\n",
      "            - Cost estimator fn\n",
      "                * Cost estimator drawing number: 50\n",
      "                * Expert cost increment: 2\n",
      "    \n"
     ]
    },
    {
     "name": "stderr",
     "output_type": "stream",
     "text": [
      "100%|██████████| 5/5 [00:06<00:00,  1.26s/it]\n"
     ]
    },
    {
     "data": {
      "text/html": [
       "<div>\n",
       "<style scoped>\n",
       "    .dataframe tbody tr th:only-of-type {\n",
       "        vertical-align: middle;\n",
       "    }\n",
       "\n",
       "    .dataframe tbody tr th {\n",
       "        vertical-align: top;\n",
       "    }\n",
       "\n",
       "    .dataframe thead th {\n",
       "        text-align: right;\n",
       "    }\n",
       "</style>\n",
       "<table border=\"1\" class=\"dataframe\">\n",
       "  <thead>\n",
       "    <tr style=\"text-align: right;\">\n",
       "      <th></th>\n",
       "      <th>Threshold</th>\n",
       "      <th>Cost mean</th>\n",
       "      <th>Cost Std</th>\n",
       "      <th>TC mean</th>\n",
       "      <th>TC std</th>\n",
       "      <th>Loss mean</th>\n",
       "      <th>Loss Std</th>\n",
       "      <th>Recall mean</th>\n",
       "      <th>Recall Std</th>\n",
       "      <th>Precision mean</th>\n",
       "      <th>Precision Std</th>\n",
       "    </tr>\n",
       "  </thead>\n",
       "  <tbody>\n",
       "    <tr>\n",
       "      <th>0</th>\n",
       "      <td>0.50</td>\n",
       "      <td>2.330</td>\n",
       "      <td>0.041</td>\n",
       "      <td>2.330</td>\n",
       "      <td>0.041</td>\n",
       "      <td>0.112</td>\n",
       "      <td>0.038</td>\n",
       "      <td>0.846</td>\n",
       "      <td>0.060</td>\n",
       "      <td>0.923</td>\n",
       "      <td>0.038</td>\n",
       "    </tr>\n",
       "    <tr>\n",
       "      <th>1</th>\n",
       "      <td>0.80</td>\n",
       "      <td>2.323</td>\n",
       "      <td>0.048</td>\n",
       "      <td>2.323</td>\n",
       "      <td>0.048</td>\n",
       "      <td>0.227</td>\n",
       "      <td>0.040</td>\n",
       "      <td>0.572</td>\n",
       "      <td>0.070</td>\n",
       "      <td>0.957</td>\n",
       "      <td>0.042</td>\n",
       "    </tr>\n",
       "    <tr>\n",
       "      <th>2</th>\n",
       "      <td>0.85</td>\n",
       "      <td>2.320</td>\n",
       "      <td>0.046</td>\n",
       "      <td>2.320</td>\n",
       "      <td>0.046</td>\n",
       "      <td>0.226</td>\n",
       "      <td>0.037</td>\n",
       "      <td>0.577</td>\n",
       "      <td>0.071</td>\n",
       "      <td>0.954</td>\n",
       "      <td>0.042</td>\n",
       "    </tr>\n",
       "    <tr>\n",
       "      <th>3</th>\n",
       "      <td>0.90</td>\n",
       "      <td>2.305</td>\n",
       "      <td>0.044</td>\n",
       "      <td>2.305</td>\n",
       "      <td>0.044</td>\n",
       "      <td>0.225</td>\n",
       "      <td>0.037</td>\n",
       "      <td>0.580</td>\n",
       "      <td>0.075</td>\n",
       "      <td>0.954</td>\n",
       "      <td>0.040</td>\n",
       "    </tr>\n",
       "    <tr>\n",
       "      <th>4</th>\n",
       "      <td>0.95</td>\n",
       "      <td>2.319</td>\n",
       "      <td>0.045</td>\n",
       "      <td>2.319</td>\n",
       "      <td>0.045</td>\n",
       "      <td>0.232</td>\n",
       "      <td>0.035</td>\n",
       "      <td>0.558</td>\n",
       "      <td>0.072</td>\n",
       "      <td>0.964</td>\n",
       "      <td>0.031</td>\n",
       "    </tr>\n",
       "  </tbody>\n",
       "</table>\n",
       "</div>"
      ],
      "text/plain": [
       "   Threshold  Cost mean  Cost Std  TC mean  TC std  Loss mean  Loss Std  \\\n",
       "0       0.50      2.330     0.041    2.330   0.041      0.112     0.038   \n",
       "1       0.80      2.323     0.048    2.323   0.048      0.227     0.040   \n",
       "2       0.85      2.320     0.046    2.320   0.046      0.226     0.037   \n",
       "3       0.90      2.305     0.044    2.305   0.044      0.225     0.037   \n",
       "4       0.95      2.319     0.045    2.319   0.045      0.232     0.035   \n",
       "\n",
       "   Recall mean  Recall Std  Precision mean  Precision Std  \n",
       "0        0.846       0.060           0.923          0.038  \n",
       "1        0.572       0.070           0.957          0.042  \n",
       "2        0.577       0.071           0.954          0.042  \n",
       "3        0.580       0.075           0.954          0.040  \n",
       "4        0.558       0.072           0.964          0.031  "
      ]
     },
     "execution_count": 15,
     "metadata": {},
     "output_type": "execute_result"
    }
   ],
   "source": [
    "alg_utils.print_hyperparameters(cf, cr,base_votes_per_item, drawing_simulations_amount, expert_cost_increment, workers_num, z, fixed_acc, items_num, data_true_percentage, iterations_per_ct, cts)\n",
    "results_mv_break_tie = run_experiment_3()\n",
    "\n",
    "#table    \n",
    "pd.DataFrame(results_mv_break_tie, columns=pdColumns).to_csv('results/mv_break_tie.csv', index=False)\n",
    "pd.DataFrame(results_mv_break_tie, columns=pdColumns)"
   ]
  },
  {
   "cell_type": "markdown",
   "metadata": {},
   "source": [
    "## Results comparison"
   ]
  },
  {
   "cell_type": "code",
   "execution_count": 17,
   "metadata": {},
   "outputs": [
    {
     "data": {
      "image/png": "[encoded data removed]",
      "text/plain": [
       "<Figure size 432x288 with 1 Axes>"
      ]
     },
     "metadata": {
      "needs_background": "light"
     },
     "output_type": "display_data"
    },
    {
     "data": {
      "image/png": "[encoded data removed]",
      "text/plain": [
       "<Figure size 432x288 with 1 Axes>"
      ]
     },
     "metadata": {
      "needs_background": "light"
     },
     "output_type": "display_data"
    },
    {
     "data": {
      "image/png": "[encoded data removed]",
      "text/plain": [
       "<Figure size 432x288 with 1 Axes>"
      ]
     },
     "metadata": {
      "needs_background": "light"
     },
     "output_type": "display_data"
    },
    {
     "data": {
      "image/png": "[encoded data removed]",
      "text/plain": [
       "<Figure size 432x288 with 1 Axes>"
      ]
     },
     "metadata": {
      "needs_background": "light"
     },
     "output_type": "display_data"
    },
    {
     "data": {
      "image/png": "[encoded data removed]",
      "text/plain": [
       "<Figure size 432x288 with 1 Axes>"
      ]
     },
     "metadata": {
      "needs_background": "light"
     },
     "output_type": "display_data"
    },
    {
     "data": {
      "image/png": "[encoded data removed]",
      "text/plain": [
       "<Figure size 432x288 with 1 Axes>"
      ]
     },
     "metadata": {
      "needs_background": "light"
     },
     "output_type": "display_data"
    },
    {
     "data": {
      "image/png": "[encoded data removed]",
      "text/plain": [
       "<Figure size 432x288 with 1 Axes>"
      ]
     },
     "metadata": {
      "needs_background": "light"
     },
     "output_type": "display_data"
    },
    {
     "data": {
      "image/png": "[encoded data removed]",
      "text/plain": [
       "<Figure size 432x288 with 1 Axes>"
      ]
     },
     "metadata": {
      "needs_background": "light"
     },
     "output_type": "display_data"
    },
    {
     "data": {
      "image/png": "[encoded data removed]",
      "text/plain": [
       "<Figure size 432x288 with 1 Axes>"
      ]
     },
     "metadata": {
      "needs_background": "light"
     },
     "output_type": "display_data"
    },
    {
     "data": {
      "image/png": "[encoded data removed]",
      "text/plain": [
       "<Figure size 432x288 with 1 Axes>"
      ]
     },
     "metadata": {
      "needs_background": "light"
     },
     "output_type": "display_data"
    }
   ],
   "source": [
    "results_mv_baseline = pd.read_csv('./results/baseline_mv.csv')\n",
    "results_mv = pd.read_csv('./results/smart_stop_mv_not_expert.csv')\n",
    "results_mv_break_tie = pd.read_csv('./results/mv_break_tie.csv')\n",
    "\n",
    "cts = results_mv_baseline['Threshold']\n",
    "    \n",
    "for column in columns:\n",
    "    alg_utils.plot_results(cts, \n",
    "                           {\n",
    "                               \"B&A\": results_mv_break_tie[column],\n",
    "                               \"Smart\": results_mv[column],\n",
    "                               \"Base\": results_mv_baseline[column],\n",
    "                           }, \n",
    "                           \"Threshold\", \n",
    "                           column)"
   ]
  },
  {
   "cell_type": "markdown",
   "metadata": {},
   "source": [
    "## 2) Experiments using Expectation Maximization"
   ]
  },
  {
   "cell_type": "code",
   "execution_count": null,
   "metadata": {},
   "outputs": [],
   "source": []
  },
  {
   "cell_type": "code",
   "execution_count": null,
   "metadata": {},
   "outputs": [],
   "source": []
  }
 ],
 "metadata": {
  "kernelspec": {
   "display_name": "Python 3",
   "language": "python",
   "name": "python3"
  },
  "language_info": {
   "codemirror_mode": {
    "name": "ipython",
    "version": 3
   },
   "file_extension": ".py",
   "mimetype": "text/x-python",
   "name": "python",
   "nbconvert_exporter": "python",
   "pygments_lexer": "ipython3",
   "version": "3.7.0"
  }
 },
 "nbformat": 4,
 "nbformat_minor": 2
}
